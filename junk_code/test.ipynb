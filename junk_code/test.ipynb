{
 "cells": [
  {
   "cell_type": "code",
   "execution_count": 3,
   "metadata": {},
   "outputs": [],
   "source": [
    "import torch"
   ]
  },
  {
   "cell_type": "code",
   "execution_count": 27,
   "metadata": {},
   "outputs": [
    {
     "name": "stdout",
     "output_type": "stream",
     "text": [
      "tensor([[1, 2, 3, 4],\n",
      "        [5, 6, 7, 8]])\n"
     ]
    },
    {
     "data": {
      "text/plain": [
       "torch.Size([2, 1, 3, 4])"
      ]
     },
     "execution_count": 27,
     "metadata": {},
     "output_type": "execute_result"
    }
   ],
   "source": [
    "lists=[]\n",
    "lists.append(torch.tensor([1,2,3,4]))\n",
    "lists.append(torch.tensor([5,6,7,8]))\n",
    "print(torch.stack(lists))\n",
    "\n",
    "z1=torch.randn(size=(1,3,4))\n",
    "z2=torch.randn(size=(1,3,4))\n",
    "torch.stack([z1,z2]).shape"
   ]
  },
  {
   "cell_type": "code",
   "execution_count": 32,
   "metadata": {},
   "outputs": [
    {
     "name": "stdout",
     "output_type": "stream",
     "text": [
      "Batch item 0, shape: torch.Size([10, 3, 64, 64])\n",
      "Batch item 1, shape: torch.Size([10, 3, 64, 64])\n",
      "Batch item 2, shape: torch.Size([10, 3, 64, 64])\n",
      "Batch item 3, shape: torch.Size([10, 3, 64, 64])\n"
     ]
    },
    {
     "data": {
      "text/plain": [
       "10"
      ]
     },
     "execution_count": 32,
     "metadata": {},
     "output_type": "execute_result"
    }
   ],
   "source": [
    "import torch\n",
    "\n",
    "# Example tensor with shape [B, N, C, H, W]\n",
    "B, N, C, H, W = 4, 10, 3, 64, 64\n",
    "tensor = torch.randn(B, N, C, H, W)\n",
    "\n",
    "# Iterate over the batch dimension\n",
    "for i in range(B):\n",
    "    sub_tensor = tensor[i]  # Shape: [N, C, H, W]\n",
    "    print(f\"Batch item {i}, shape: {sub_tensor.shape}\")\n",
    "    # Process sub_tensor as needed\n",
    "\n",
    "tensor.shape[1]"
   ]
  }
 ],
 "metadata": {
  "kernelspec": {
   "display_name": "venv",
   "language": "python",
   "name": "python3"
  },
  "language_info": {
   "codemirror_mode": {
    "name": "ipython",
    "version": 3
   },
   "file_extension": ".py",
   "mimetype": "text/x-python",
   "name": "python",
   "nbconvert_exporter": "python",
   "pygments_lexer": "ipython3",
   "version": "3.12.3"
  }
 },
 "nbformat": 4,
 "nbformat_minor": 2
}
