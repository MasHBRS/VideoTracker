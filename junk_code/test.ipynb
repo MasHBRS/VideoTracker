{
 "cells": [
  {
   "cell_type": "code",
   "execution_count": 3,
   "metadata": {},
   "outputs": [],
   "source": [
    "import torch"
   ]
  },
  {
   "cell_type": "code",
   "execution_count": 27,
   "metadata": {},
   "outputs": [
    {
     "name": "stdout",
     "output_type": "stream",
     "text": [
      "tensor([[1, 2, 3, 4],\n",
      "        [5, 6, 7, 8]])\n"
     ]
    },
    {
     "data": {
      "text/plain": [
       "torch.Size([2, 1, 3, 4])"
      ]
     },
     "execution_count": 27,
     "metadata": {},
     "output_type": "execute_result"
    }
   ],
   "source": [
    "lists=[]\n",
    "lists.append(torch.tensor([1,2,3,4]))\n",
    "lists.append(torch.tensor([5,6,7,8]))\n",
    "print(torch.stack(lists))\n",
    "\n",
    "z1=torch.randn(size=(1,3,4))\n",
    "z2=torch.randn(size=(1,3,4))\n",
    "torch.stack([z1,z2]).shape"
   ]
  },
  {
   "cell_type": "code",
   "execution_count": 16,
   "metadata": {},
   "outputs": [
    {
     "name": "stdout",
     "output_type": "stream",
     "text": [
      "tensor([-0.4757, -0.1663,  2.5720,  0.1699, -1.6417,  0.6582,  0.0340, -0.8705,\n",
      "        -0.7395, -2.5497, -1.2543, -0.1447, -0.6209, -0.4240,  0.6552,  0.3811,\n",
      "         0.4612,  0.6599, -0.8932,  1.0159,  1.4474, -0.3423, -0.8468, -0.1671,\n",
      "        -0.2283,  0.5004, -0.6015,  0.8728,  0.5652,  0.3112,  0.6063,  1.4301])\n",
      "tensor([-0.4623, -1.4982,  1.1602, -0.0520, -0.1778, -0.2938, -0.8891,  0.1880,\n",
      "         0.6531,  0.7411,  0.3298,  1.7191,  0.1327, -0.9011,  0.3502,  0.2130,\n",
      "        -0.3937, -0.3969,  0.1014,  1.1753,  0.4134, -1.5724, -0.5778,  0.8914,\n",
      "        -0.9900, -0.8224, -0.2339, -0.9590,  0.4342,  1.7430, -0.9579, -1.1130])\n",
      "tensor(0.7945)\n",
      "torch.Size([256, 24, 11, 11])\n"
     ]
    },
    {
     "data": {
      "text/plain": [
       "tensor([  4.8226,  -3.4110,  16.8436,  -1.0903,   3.2480, -13.0524,   2.4728,\n",
       "         -8.3740,  -7.1076, -10.8123,   0.7945])"
      ]
     },
     "execution_count": 16,
     "metadata": {},
     "output_type": "execute_result"
    }
   ],
   "source": [
    "import torch\n",
    "query = torch.randn(256, 24, 11, 32)\n",
    "key = torch.randn(256, 24, 11, 32)\n",
    "print (query[255,23,10,:])\n",
    "print (key.permute(0,1,3,2)[255,23,:,10])\n",
    "print( torch.matmul(query[255,23,10,:],key.permute(0,1,3,2)[255,23,:,10]))\n",
    "# Compute query * key^T using einsum\n",
    "attention_scores = torch.einsum('b h s d, b h t d -> b h s t', query, key)  # Shape: [256, 24, 11, 11]\n",
    "print(attention_scores.shape)\n",
    "attention_scores[255,23,10,:]"
   ]
  },
  {
   "cell_type": "code",
   "execution_count": 10,
   "metadata": {},
   "outputs": [
    {
     "data": {
      "text/plain": [
       "tensor([0])"
      ]
     },
     "execution_count": 10,
     "metadata": {},
     "output_type": "execute_result"
    }
   ],
   "source": [
    "import torch\n",
    "query = torch.randn(256, 24, 11, 32)\n",
    "query[0,0,0,0]=4.5\n",
    "key = torch.randn(256, 24, 11, 32)\n",
    "key[0,0,0,0]=4.5\n",
    "torch.where(query==key)[0]"
   ]
  }
 ],
 "metadata": {
  "kernelspec": {
   "display_name": "venv2",
   "language": "python",
   "name": "python3"
  },
  "language_info": {
   "codemirror_mode": {
    "name": "ipython",
    "version": 3
   },
   "file_extension": ".py",
   "mimetype": "text/x-python",
   "name": "python",
   "nbconvert_exporter": "python",
   "pygments_lexer": "ipython3",
   "version": "3.12.3"
  }
 },
 "nbformat": 4,
 "nbformat_minor": 2
}
