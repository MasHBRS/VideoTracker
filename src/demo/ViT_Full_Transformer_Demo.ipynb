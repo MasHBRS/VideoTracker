{
 "cells": [
  {
   "cell_type": "code",
   "execution_count": 3,
   "metadata": {},
   "outputs": [
    {
     "name": "stdout",
     "output_type": "stream",
     "text": [
      "Fri Sep 26 09:00:24 2025       \n",
      "+-----------------------------------------------------------------------------------------+\n",
      "| NVIDIA-SMI 570.158.01             Driver Version: 570.158.01     CUDA Version: 12.8     |\n",
      "|-----------------------------------------+------------------------+----------------------+\n",
      "| GPU  Name                 Persistence-M | Bus-Id          Disp.A | Volatile Uncorr. ECC |\n",
      "| Fan  Temp   Perf          Pwr:Usage/Cap |           Memory-Usage | GPU-Util  Compute M. |\n",
      "|                                         |                        |               MIG M. |\n",
      "|=========================================+========================+======================|\n",
      "|   0  NVIDIA GeForce RTX 3090        Off |   00000000:01:00.0 Off |                  N/A |\n",
      "| 34%   34C    P8             27W /  350W |     321MiB /  24576MiB |      0%      Default |\n",
      "|                                         |                        |                  N/A |\n",
      "+-----------------------------------------+------------------------+----------------------+\n",
      "                                                                                         \n",
      "+-----------------------------------------------------------------------------------------+\n",
      "| Processes:                                                                              |\n",
      "|  GPU   GI   CI              PID   Type   Process name                        GPU Memory |\n",
      "|        ID   ID                                                               Usage      |\n",
      "|=========================================================================================|\n",
      "|    0   N/A  N/A            1901      G   /usr/lib/xorg/Xorg                      167MiB |\n",
      "|    0   N/A  N/A            2065      G   /usr/bin/sddm-greeter                   113MiB |\n",
      "+-----------------------------------------------------------------------------------------+\n"
     ]
    }
   ],
   "source": [
    "!nvidia-smi\n",
    "#!kill 4029477"
   ]
  },
  {
   "cell_type": "code",
   "execution_count": 4,
   "metadata": {},
   "outputs": [],
   "source": [
    "import sys\n",
    "import os\n",
    "import shutil\n",
    "sys.path.append(os.path.abspath(\"..\"))\n",
    "from loader.Dataset import VideoDataset\n",
    "from torch.utils.data import DataLoader\n",
    "from models.transformers.encoders.vit_encoder import ViT\n",
    "from models.transformers.decoders.vit_decoder import ViT_Decoder\n",
    "from models.transformers.CustomTransformer import CustomizableTransformer\n",
    "from utils.util import count_model_params, train_epoch,eval_model,train_model\n",
    "from matplotlib import pyplot as plt\n",
    "from matplotlib import patches\n",
    "import torch\n",
    "from utils.util import l1_and_ssim_loss_function\n",
    "from torch.utils.tensorboard import SummaryWriter\n",
    "\n",
    "%load_ext autoreload\n",
    "%autoreload 2"
   ]
  },
  {
   "cell_type": "markdown",
   "metadata": {},
   "source": [
    "#### configs"
   ]
  },
  {
   "cell_type": "code",
   "execution_count": 5,
   "metadata": {},
   "outputs": [],
   "source": [
    "general_configs={\n",
    "\"data_path\":\"/home/nfs/inf6/data/datasets/MOVi/movi_c/\",\n",
    "\"number_of_frames_per_video\":24,\n",
    "\"max_objects_in_scene\":11,\n",
    "\"batch_size\":64,\n",
    "\"device\" : torch.device(\"cuda\" if torch.cuda.is_available() else \"cpu\"),\n",
    "\"img_height\":128,\n",
    "\"img_width\":128,\n",
    "\"channels\":3,\n",
    "\"learning_rate\":3e-4,\n",
    "\"num_epochs\":60,\n",
    "\"trainingMode\":0 #0 training by bounding boxes, 1 training by masks. \n",
    "}\n",
    "\n",
    "encoder_configs={\n",
    "        \"token_dim\":128,\n",
    "        \"attn_dim\":128,\n",
    "        \"num_heads\":4,\n",
    "        \"mlp_size\":512,\n",
    "        \"num_tf_layers\":4\n",
    "}\n",
    "decoder_configs={\n",
    "        \"token_dim\":128,\n",
    "        \"attn_dim\":128,\n",
    "        \"num_heads\":4,\n",
    "        \"mlp_size\":512,\n",
    "        \"num_tf_layers\":4\n",
    "}\n"
   ]
  },
  {
   "cell_type": "markdown",
   "metadata": {},
   "source": [
    "#### Datasets"
   ]
  },
  {
   "cell_type": "code",
   "execution_count": 6,
   "metadata": {},
   "outputs": [
    {
     "name": "stdout",
     "output_type": "stream",
     "text": [
      "Data Loaded Successfully: len(self.coord_addresses)=250, len(self.mask_addresses)=250, len(self.rgb_addresses)=6000, len(self.flow_addresses)=6000\n",
      "Data Loaded Successfully: len(self.coord_addresses)=9737, len(self.mask_addresses)=9737, len(self.rgb_addresses)=233688, len(self.flow_addresses)=233688\n"
     ]
    }
   ],
   "source": [
    "validation_dataset = VideoDataset(data_path=general_configs[\"data_path\"],\n",
    "                            split='validation',\n",
    "                            number_of_frames_per_video=general_configs[\"number_of_frames_per_video\"],\n",
    "                            max_objects_in_scene=general_configs[\"max_objects_in_scene\"])\n",
    "valid_loader = DataLoader(dataset=validation_dataset,\n",
    "                            batch_size=general_configs[\"batch_size\"],\n",
    "                            shuffle=False,\n",
    "                            drop_last=True,\n",
    "                            num_workers=8,\n",
    "                            pin_memory=True)\n",
    "train_dataset = VideoDataset(data_path=general_configs[\"data_path\"],\n",
    "                            split='train',\n",
    "                            number_of_frames_per_video=general_configs[\"number_of_frames_per_video\"],\n",
    "                            max_objects_in_scene=general_configs[\"max_objects_in_scene\"])\n",
    "train_loader = DataLoader(dataset=train_dataset,\n",
    "                            batch_size=general_configs[\"batch_size\"],\n",
    "                            shuffle=True,\n",
    "                            drop_last=True,\n",
    "                            num_workers=8,\n",
    "                            pin_memory=True)"
   ]
  },
  {
   "cell_type": "markdown",
   "metadata": {},
   "source": [
    "#### Datashapes"
   ]
  },
  {
   "cell_type": "code",
   "execution_count": 7,
   "metadata": {},
   "outputs": [
    {
     "name": "stdout",
     "output_type": "stream",
     "text": [
      "shapes: \n",
      "coms.shape=torch.Size([64, 24, 11, 2]),\n",
      "bboxes.shape=torch.Size([64, 24, 11, 4]),\n",
      "masks.shape=torch.Size([64, 24, 128, 128]),\n",
      "rgbs.shape=torch.Size([64, 24, 3, 128, 128]),\n",
      "flows.shape=torch.Size([64, 24, 3, 128, 128])\n",
      "============================================\n"
     ]
    }
   ],
   "source": [
    "iterator=iter(train_loader)\n",
    "coms,bboxes,masks,rgbs,flows=next(iterator)\n",
    "print(f\"shapes: \\r\\n{coms.shape=},\\r\\n{bboxes.shape=},\\r\\n{masks.shape=},\\r\\n{rgbs.shape=},\\r\\n{flows.shape=}\\r\\n============================================\")\n"
   ]
  },
  {
   "cell_type": "markdown",
   "metadata": {},
   "source": [
    "### Encoder"
   ]
  },
  {
   "cell_type": "code",
   "execution_count": 8,
   "metadata": {},
   "outputs": [
    {
     "name": "stdout",
     "output_type": "stream",
     "text": [
      "ViT has 7181056 parameters\n"
     ]
    },
    {
     "data": {
      "text/plain": [
       "ViT(\n",
       "  (patch_projection): Sequential(\n",
       "    (0): LayerNorm((49152,), eps=1e-05, elementwise_affine=True)\n",
       "    (1): Linear(in_features=49152, out_features=128, bias=True)\n",
       "  )\n",
       "  (pos_emb): PositionalEncoding()\n",
       "  (encoderBlocks): Sequential(\n",
       "    (0): EncoderBlock(\n",
       "      (ln_att): LayerNorm((128,), eps=1e-06, elementwise_affine=True)\n",
       "      (attn): MultiHeadAttention(\n",
       "        (q): Linear(in_features=128, out_features=128, bias=False)\n",
       "        (k): Linear(in_features=128, out_features=128, bias=False)\n",
       "        (v): Linear(in_features=128, out_features=128, bias=False)\n",
       "        (out_proj): Linear(in_features=128, out_features=128, bias=False)\n",
       "      )\n",
       "      (ln_mlp): LayerNorm((128,), eps=1e-06, elementwise_affine=True)\n",
       "      (mlp): MLP(\n",
       "        (mlp): Sequential(\n",
       "          (0): Linear(in_features=128, out_features=512, bias=True)\n",
       "          (1): GELU(approximate='none')\n",
       "          (2): Linear(in_features=512, out_features=128, bias=True)\n",
       "        )\n",
       "      )\n",
       "    )\n",
       "    (1): EncoderBlock(\n",
       "      (ln_att): LayerNorm((128,), eps=1e-06, elementwise_affine=True)\n",
       "      (attn): MultiHeadAttention(\n",
       "        (q): Linear(in_features=128, out_features=128, bias=False)\n",
       "        (k): Linear(in_features=128, out_features=128, bias=False)\n",
       "        (v): Linear(in_features=128, out_features=128, bias=False)\n",
       "        (out_proj): Linear(in_features=128, out_features=128, bias=False)\n",
       "      )\n",
       "      (ln_mlp): LayerNorm((128,), eps=1e-06, elementwise_affine=True)\n",
       "      (mlp): MLP(\n",
       "        (mlp): Sequential(\n",
       "          (0): Linear(in_features=128, out_features=512, bias=True)\n",
       "          (1): GELU(approximate='none')\n",
       "          (2): Linear(in_features=512, out_features=128, bias=True)\n",
       "        )\n",
       "      )\n",
       "    )\n",
       "    (2): EncoderBlock(\n",
       "      (ln_att): LayerNorm((128,), eps=1e-06, elementwise_affine=True)\n",
       "      (attn): MultiHeadAttention(\n",
       "        (q): Linear(in_features=128, out_features=128, bias=False)\n",
       "        (k): Linear(in_features=128, out_features=128, bias=False)\n",
       "        (v): Linear(in_features=128, out_features=128, bias=False)\n",
       "        (out_proj): Linear(in_features=128, out_features=128, bias=False)\n",
       "      )\n",
       "      (ln_mlp): LayerNorm((128,), eps=1e-06, elementwise_affine=True)\n",
       "      (mlp): MLP(\n",
       "        (mlp): Sequential(\n",
       "          (0): Linear(in_features=128, out_features=512, bias=True)\n",
       "          (1): GELU(approximate='none')\n",
       "          (2): Linear(in_features=512, out_features=128, bias=True)\n",
       "        )\n",
       "      )\n",
       "    )\n",
       "    (3): EncoderBlock(\n",
       "      (ln_att): LayerNorm((128,), eps=1e-06, elementwise_affine=True)\n",
       "      (attn): MultiHeadAttention(\n",
       "        (q): Linear(in_features=128, out_features=128, bias=False)\n",
       "        (k): Linear(in_features=128, out_features=128, bias=False)\n",
       "        (v): Linear(in_features=128, out_features=128, bias=False)\n",
       "        (out_proj): Linear(in_features=128, out_features=128, bias=False)\n",
       "      )\n",
       "      (ln_mlp): LayerNorm((128,), eps=1e-06, elementwise_affine=True)\n",
       "      (mlp): MLP(\n",
       "        (mlp): Sequential(\n",
       "          (0): Linear(in_features=128, out_features=512, bias=True)\n",
       "          (1): GELU(approximate='none')\n",
       "          (2): Linear(in_features=512, out_features=128, bias=True)\n",
       "        )\n",
       "      )\n",
       "    )\n",
       "  )\n",
       ")"
      ]
     },
     "execution_count": 8,
     "metadata": {},
     "output_type": "execute_result"
    }
   ],
   "source": [
    "vit = ViT(\n",
    "        img_height=general_configs[\"img_height\"],\n",
    "        img_width=general_configs[\"img_width\"],\n",
    "        channels=general_configs[\"channels\"],\n",
    "        max_objects_in_scene=general_configs[\"max_objects_in_scene\"],\n",
    "        frame_numbers=general_configs[\"number_of_frames_per_video\"],\n",
    "        token_dim=encoder_configs[\"token_dim\"],\n",
    "        attn_dim=encoder_configs[\"attn_dim\"],\n",
    "        num_heads=encoder_configs[\"num_heads\"],\n",
    "        mlp_size=encoder_configs[\"mlp_size\"],\n",
    "        num_tf_layers=encoder_configs[\"num_tf_layers\"]).to(general_configs[\"device\"])\n",
    "print(f\"ViT has {count_model_params(vit)} parameters\")\n",
    "vit"
   ]
  },
  {
   "cell_type": "markdown",
   "metadata": {},
   "source": [
    "### Decoder"
   ]
  },
  {
   "cell_type": "code",
   "execution_count": 9,
   "metadata": {},
   "outputs": [
    {
     "name": "stdout",
     "output_type": "stream",
     "text": [
      "ViT has 8508755 parameters\n"
     ]
    },
    {
     "data": {
      "text/plain": [
       "ViT_Decoder(\n",
       "  (patch_projection): Sequential(\n",
       "    (0): LayerNorm((128,), eps=1e-05, elementwise_affine=True)\n",
       "    (1): Linear(in_features=128, out_features=49152, bias=True)\n",
       "  )\n",
       "  (pos_emb): PositionalEncoding()\n",
       "  (output_projector): Sequential(\n",
       "    (0): Conv2d(33, 16, kernel_size=(3, 3), stride=(1, 1), padding=(1, 1))\n",
       "    (1): ReLU()\n",
       "    (2): Conv2d(16, 3, kernel_size=(3, 3), stride=(1, 1), padding=(1, 1))\n",
       "  )\n",
       ")"
      ]
     },
     "execution_count": 9,
     "metadata": {},
     "output_type": "execute_result"
    }
   ],
   "source": [
    "decoder=ViT_Decoder(\n",
    "    batch_size=general_configs[\"batch_size\"],\n",
    "    img_height=general_configs[\"img_height\"],\n",
    "    img_width=general_configs[\"img_width\"],\n",
    "    channels=general_configs[\"channels\"],\n",
    "    frame_numbers=general_configs[\"number_of_frames_per_video\"],\n",
    "    token_dim=decoder_configs[\"token_dim\"],\n",
    "    attn_dim=decoder_configs[\"attn_dim\"], \n",
    "    num_heads=decoder_configs[\"num_heads\"], \n",
    "    mlp_size=decoder_configs[\"mlp_size\"], \n",
    "    num_tf_layers=decoder_configs[\"num_tf_layers\"],\n",
    "    max_objects_in_scene=general_configs[\"max_objects_in_scene\"],\n",
    "    device=general_configs[\"device\"]\n",
    ").to(general_configs[\"device\"])\n",
    "print(f\"ViT has {count_model_params(decoder)} parameters\")\n",
    "decoder"
   ]
  },
  {
   "cell_type": "markdown",
   "metadata": {},
   "source": [
    "### Transformer"
   ]
  },
  {
   "cell_type": "code",
   "execution_count": 10,
   "metadata": {},
   "outputs": [
    {
     "data": {
      "text/plain": [
       "CustomizableTransformer(\n",
       "  (encoder): ViT(\n",
       "    (patch_projection): Sequential(\n",
       "      (0): LayerNorm((49152,), eps=1e-05, elementwise_affine=True)\n",
       "      (1): Linear(in_features=49152, out_features=128, bias=True)\n",
       "    )\n",
       "    (pos_emb): PositionalEncoding()\n",
       "    (encoderBlocks): Sequential(\n",
       "      (0): EncoderBlock(\n",
       "        (ln_att): LayerNorm((128,), eps=1e-06, elementwise_affine=True)\n",
       "        (attn): MultiHeadAttention(\n",
       "          (q): Linear(in_features=128, out_features=128, bias=False)\n",
       "          (k): Linear(in_features=128, out_features=128, bias=False)\n",
       "          (v): Linear(in_features=128, out_features=128, bias=False)\n",
       "          (out_proj): Linear(in_features=128, out_features=128, bias=False)\n",
       "        )\n",
       "        (ln_mlp): LayerNorm((128,), eps=1e-06, elementwise_affine=True)\n",
       "        (mlp): MLP(\n",
       "          (mlp): Sequential(\n",
       "            (0): Linear(in_features=128, out_features=512, bias=True)\n",
       "            (1): GELU(approximate='none')\n",
       "            (2): Linear(in_features=512, out_features=128, bias=True)\n",
       "          )\n",
       "        )\n",
       "      )\n",
       "      (1): EncoderBlock(\n",
       "        (ln_att): LayerNorm((128,), eps=1e-06, elementwise_affine=True)\n",
       "        (attn): MultiHeadAttention(\n",
       "          (q): Linear(in_features=128, out_features=128, bias=False)\n",
       "          (k): Linear(in_features=128, out_features=128, bias=False)\n",
       "          (v): Linear(in_features=128, out_features=128, bias=False)\n",
       "          (out_proj): Linear(in_features=128, out_features=128, bias=False)\n",
       "        )\n",
       "        (ln_mlp): LayerNorm((128,), eps=1e-06, elementwise_affine=True)\n",
       "        (mlp): MLP(\n",
       "          (mlp): Sequential(\n",
       "            (0): Linear(in_features=128, out_features=512, bias=True)\n",
       "            (1): GELU(approximate='none')\n",
       "            (2): Linear(in_features=512, out_features=128, bias=True)\n",
       "          )\n",
       "        )\n",
       "      )\n",
       "      (2): EncoderBlock(\n",
       "        (ln_att): LayerNorm((128,), eps=1e-06, elementwise_affine=True)\n",
       "        (attn): MultiHeadAttention(\n",
       "          (q): Linear(in_features=128, out_features=128, bias=False)\n",
       "          (k): Linear(in_features=128, out_features=128, bias=False)\n",
       "          (v): Linear(in_features=128, out_features=128, bias=False)\n",
       "          (out_proj): Linear(in_features=128, out_features=128, bias=False)\n",
       "        )\n",
       "        (ln_mlp): LayerNorm((128,), eps=1e-06, elementwise_affine=True)\n",
       "        (mlp): MLP(\n",
       "          (mlp): Sequential(\n",
       "            (0): Linear(in_features=128, out_features=512, bias=True)\n",
       "            (1): GELU(approximate='none')\n",
       "            (2): Linear(in_features=512, out_features=128, bias=True)\n",
       "          )\n",
       "        )\n",
       "      )\n",
       "      (3): EncoderBlock(\n",
       "        (ln_att): LayerNorm((128,), eps=1e-06, elementwise_affine=True)\n",
       "        (attn): MultiHeadAttention(\n",
       "          (q): Linear(in_features=128, out_features=128, bias=False)\n",
       "          (k): Linear(in_features=128, out_features=128, bias=False)\n",
       "          (v): Linear(in_features=128, out_features=128, bias=False)\n",
       "          (out_proj): Linear(in_features=128, out_features=128, bias=False)\n",
       "        )\n",
       "        (ln_mlp): LayerNorm((128,), eps=1e-06, elementwise_affine=True)\n",
       "        (mlp): MLP(\n",
       "          (mlp): Sequential(\n",
       "            (0): Linear(in_features=128, out_features=512, bias=True)\n",
       "            (1): GELU(approximate='none')\n",
       "            (2): Linear(in_features=512, out_features=128, bias=True)\n",
       "          )\n",
       "        )\n",
       "      )\n",
       "    )\n",
       "  )\n",
       "  (decoder): ViT_Decoder(\n",
       "    (patch_projection): Sequential(\n",
       "      (0): LayerNorm((128,), eps=1e-05, elementwise_affine=True)\n",
       "      (1): Linear(in_features=128, out_features=49152, bias=True)\n",
       "    )\n",
       "    (pos_emb): PositionalEncoding()\n",
       "    (output_projector): Sequential(\n",
       "      (0): Conv2d(33, 16, kernel_size=(3, 3), stride=(1, 1), padding=(1, 1))\n",
       "      (1): ReLU()\n",
       "      (2): Conv2d(16, 3, kernel_size=(3, 3), stride=(1, 1), padding=(1, 1))\n",
       "    )\n",
       "  )\n",
       ")"
      ]
     },
     "execution_count": 10,
     "metadata": {},
     "output_type": "execute_result"
    }
   ],
   "source": [
    "transformer=CustomizableTransformer(encoder=vit, decoder=decoder).to(general_configs[\"device\"])\n",
    "assert count_model_params(decoder)+count_model_params(vit)==count_model_params(transformer)\n",
    "transformer"
   ]
  },
  {
   "cell_type": "markdown",
   "metadata": {},
   "source": [
    "#### Training"
   ]
  },
  {
   "cell_type": "code",
   "execution_count": 11,
   "metadata": {},
   "outputs": [],
   "source": [
    "criterion=l1_and_ssim_loss_function\n",
    "optimizer = torch.optim.Adam(transformer.parameters(), lr=general_configs[\"learning_rate\"])\n",
    "scheduler = torch.optim.lr_scheduler.MultiplicativeLR(optimizer, lr_lambda=lambda epoch: 0.95)\n",
    "TBOARD_LOGS = os.path.join(os.getcwd(), \"../tboard_logs\", \"ViT_30\")\n",
    "if not os.path.exists(TBOARD_LOGS):\n",
    "    os.makedirs(TBOARD_LOGS)\n",
    "\n",
    "shutil.rmtree(TBOARD_LOGS)\n",
    "writer = SummaryWriter(TBOARD_LOGS)"
   ]
  },
  {
   "cell_type": "code",
   "execution_count": null,
   "metadata": {},
   "outputs": [
    {
     "name": "stdout",
     "output_type": "stream",
     "text": [
      "Started Epoch 1/60...\n",
      "  --> Running valdiation epoch\n",
      "  --> Running train epoch\n"
     ]
    },
    {
     "name": "stderr",
     "output_type": "stream",
     "text": [
      " 84%|████████▍ | 128/152 [06:27<01:16,  3.19s/it]"
     ]
    }
   ],
   "source": [
    "train_loss, val_loss, loss_iters, valid_acc = train_model(\n",
    "        model=transformer,\n",
    "        optimizer=optimizer,\n",
    "        scheduler=scheduler,\n",
    "        criterion=criterion,\n",
    "        train_loader=train_loader,\n",
    "        valid_loader=valid_loader,\n",
    "        num_epochs=general_configs[\"num_epochs\"],\n",
    "        tboard=writer,\n",
    "        trainingmode=general_configs[\"trainingMode\"]    )"
   ]
  },
  {
   "cell_type": "code",
   "execution_count": null,
   "metadata": {},
   "outputs": [],
   "source": [
    "from utils.util import save_model\n",
    "stats = {\n",
    "    \"train_loss\": train_loss,\n",
    "    \"valid_loss\": val_loss,\n",
    "    \"loss_iters\": loss_iters,\n",
    "    \"valid_acc\": valid_acc\n",
    "}\n",
    "save_model(transformer, optimizer, epoch=general_configs[\"num_epochs\"], stats=stats)"
   ]
  },
  {
   "cell_type": "code",
   "execution_count": null,
   "metadata": {},
   "outputs": [],
   "source": [
    "from utils.util import visualize_progress\n",
    "\n",
    "loss_iters = stats['loss_iters']\n",
    "val_loss = stats['valid_loss']\n",
    "train_loss = stats['train_loss']\n",
    "valid_acc = stats['valid_acc']\n",
    "\n",
    "visualize_progress(loss_iters, train_loss, val_loss, valid_acc, start=0)\n",
    "plt.show()"
   ]
  },
  {
   "cell_type": "code",
   "execution_count": null,
   "metadata": {},
   "outputs": [],
   "source": []
  },
  {
   "cell_type": "code",
   "execution_count": null,
   "metadata": {},
   "outputs": [],
   "source": []
  }
 ],
 "metadata": {
  "kernelspec": {
   "display_name": "venv2",
   "language": "python",
   "name": "python3"
  },
  "language_info": {
   "codemirror_mode": {
    "name": "ipython",
    "version": 3
   },
   "file_extension": ".py",
   "mimetype": "text/x-python",
   "name": "python",
   "nbconvert_exporter": "python",
   "pygments_lexer": "ipython3",
   "version": "3.12.3"
  }
 },
 "nbformat": 4,
 "nbformat_minor": 2
}
