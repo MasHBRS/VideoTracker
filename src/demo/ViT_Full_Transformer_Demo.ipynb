{
 "cells": [
  {
   "cell_type": "code",
   "execution_count": 1,
   "metadata": {},
   "outputs": [
    {
     "name": "stdout",
     "output_type": "stream",
     "text": [
      "Tue Sep 30 16:29:22 2025       \n",
      "+-----------------------------------------------------------------------------------------+\n",
      "| NVIDIA-SMI 570.172.08             Driver Version: 570.172.08     CUDA Version: 12.8     |\n",
      "|-----------------------------------------+------------------------+----------------------+\n",
      "| GPU  Name                 Persistence-M | Bus-Id          Disp.A | Volatile Uncorr. ECC |\n",
      "| Fan  Temp   Perf          Pwr:Usage/Cap |           Memory-Usage | GPU-Util  Compute M. |\n",
      "|                                         |                        |               MIG M. |\n",
      "|=========================================+========================+======================|\n",
      "|   0  NVIDIA GeForce RTX 4090        Off |   00000000:01:00.0 Off |                  Off |\n",
      "|  0%   46C    P8             30W /  450W |    2461MiB /  24564MiB |      0%      Default |\n",
      "|                                         |                        |                  N/A |\n",
      "+-----------------------------------------+------------------------+----------------------+\n",
      "                                                                                         \n",
      "+-----------------------------------------------------------------------------------------+\n",
      "| Processes:                                                                              |\n",
      "|  GPU   GI   CI              PID   Type   Process name                        GPU Memory |\n",
      "|        ID   ID                                                               Usage      |\n",
      "|=========================================================================================|\n",
      "|    0   N/A  N/A            2121      G   /usr/lib/xorg/Xorg                       56MiB |\n",
      "|    0   N/A  N/A            2431      G   /usr/bin/sddm-greeter                    39MiB |\n",
      "|    0   N/A  N/A         2619090      C   ...urseProject_2/venv/bin/python        406MiB |\n",
      "|    0   N/A  N/A         2757023      C   ...er/yildirire1/venv/bin/python       1906MiB |\n",
      "+-----------------------------------------------------------------------------------------+\n"
     ]
    }
   ],
   "source": [
    "#!kill 2128689\n",
    "!nvidia-smi"
   ]
  },
  {
   "cell_type": "code",
   "execution_count": 2,
   "metadata": {},
   "outputs": [],
   "source": [
    "import sys\n",
    "import os\n",
    "import shutil\n",
    "import os\n",
    "os.environ[\"PYTORCH_CUDA_ALLOC_CONF\"] = \"expandable_segments:True\"\n",
    "sys.path.append(os.path.abspath(\"..\"))\n",
    "from loader.Dataset import VideoDataset\n",
    "from torch.utils.data import DataLoader\n",
    "from models.transformers.encoders.vit_encoder import ViT\n",
    "from models.transformers.decoders.vit_decoder import ViT_Decoder\n",
    "from models.transformers.CustomTransformer import CustomizableTransformer\n",
    "from utils.util import count_model_params, train_epoch, eval_model, train_model, load_model \n",
    "from matplotlib import pyplot as plt\n",
    "from matplotlib import patches\n",
    "import torch\n",
    "from torch.utils.tensorboard import SummaryWriter\n",
    "from utils.loss_function import L1_SSIM_LPIPS_Loss5D_MemoryEfficient#ReconstructionLoss_L1_Ssim, ReconstructionLoss_PSNR_SSIM\n",
    "from loader.transforms import RGBNormalizer,Composition,CustomResize,RandomHorizontalFlip,RandomVerticalFlip,CustomColorJitter\n",
    "\n",
    "%load_ext autoreload\n",
    "%autoreload 2"
   ]
  },
  {
   "cell_type": "markdown",
   "metadata": {},
   "source": [
    "#### configs"
   ]
  },
  {
   "cell_type": "code",
   "execution_count": 3,
   "metadata": {},
   "outputs": [],
   "source": [
    "\n",
    "general_configs={\n",
    "\"data_path\":\"/home/nfs/inf6/data/datasets/MOVi/movi_c/\",\n",
    "\"original_number_of_frames_per_video\":24,\n",
    "\"selected_number_of_frames_per_video\":4,\n",
    "\"max_objects_in_scene\":11,\n",
    "\"batch_size\":64,\n",
    "\"device\" : torch.device(\"cuda\" if torch.cuda.is_available() else \"cpu\"),\n",
    "\"img_height\":64,\n",
    "\"img_width\":64,\n",
    "\"channels\":3,\n",
    "\"learning_rate\":3e-4,\n",
    "\"num_epochs\":60,\n",
    "\"trainingMode\":1 #0 training by bounding boxes, 1 training by masks. \n",
    "}\n",
    "\n",
    "encoder_configs={\n",
    "        \"token_dim\":128,\n",
    "        \"attn_dim\":128,\n",
    "        \"num_heads\":4,\n",
    "        \"mlp_size\":512,\n",
    "        \"num_tf_layers\":4\n",
    "}\n",
    "decoder_configs={\n",
    "        \"token_dim\":128,\n",
    "        \"attn_dim\":128,\n",
    "        \"num_heads\":4,\n",
    "        \"mlp_size\":512,\n",
    "        \"num_tf_layers\":4\n",
    "}\n",
    "\n",
    "data_transform_config={\n",
    "        \"img_height\":general_configs[\"img_height\"],\n",
    "        \"img_width\":general_configs[\"img_width\"],\n",
    "        \"vFlip_probability\":0.3,\n",
    "        \"hFlip_probability\":0.3,\n",
    "        \"color_jitter_brightness\":(0.8, 1.2),\n",
    "        \"color_jitter_hue\":(-0.3, 0.3),\n",
    "        \"color_jitter_contrast\":(0.6, 1.8),\n",
    "        \"color_jitter_saturation\":(0.5, 1.5)\n",
    "}"
   ]
  },
  {
   "cell_type": "markdown",
   "metadata": {},
   "source": [
    "#### Datasets"
   ]
  },
  {
   "cell_type": "code",
   "execution_count": 4,
   "metadata": {},
   "outputs": [],
   "source": [
    "transform_composition = Composition([\n",
    "                                        RGBNormalizer(),\n",
    "                                        CustomResize((data_transform_config[\"img_height\"],data_transform_config[\"img_width\"])),\n",
    "                                        RandomVerticalFlip(data_transform_config[\"vFlip_probability\"]),\n",
    "                                        RandomHorizontalFlip(data_transform_config[\"hFlip_probability\"]),\n",
    "                                        #CustomColorJitter(\n",
    "                                        #    brightness=data_transform_config[\"color_jitter_brightness\"],\n",
    "                                        #    hue=data_transform_config[\"color_jitter_hue\"],\n",
    "                                        #    contrast=data_transform_config[\"color_jitter_contrast\"],\n",
    "                                        #    saturation=data_transform_config[\"color_jitter_saturation\"]\n",
    "                                        #)\n",
    "                                    ])\n",
    "#transform_composition=None\n",
    "validation_dataset = VideoDataset(data_path=general_configs[\"data_path\"],\n",
    "                            split='validation',\n",
    "                            original_number_of_frames_per_video=general_configs[\"original_number_of_frames_per_video\"],\n",
    "                            selected_number_of_frames_per_video=general_configs[\"selected_number_of_frames_per_video\"],\n",
    "                            max_objects_in_scene=general_configs[\"max_objects_in_scene\"],\n",
    "                            halve_dataset=True,\n",
    "                            is_test_dataset=False,\n",
    "                            transforms=transform_composition)\n",
    "valid_loader = DataLoader(dataset=validation_dataset,\n",
    "                            batch_size=general_configs[\"batch_size\"],\n",
    "                            shuffle=False,\n",
    "                            drop_last=True)\n",
    "train_dataset = VideoDataset(data_path=general_configs[\"data_path\"],\n",
    "                            split='train',\n",
    "                            original_number_of_frames_per_video=general_configs[\"original_number_of_frames_per_video\"],\n",
    "                            selected_number_of_frames_per_video=general_configs[\"selected_number_of_frames_per_video\"],\n",
    "                            max_objects_in_scene=general_configs[\"max_objects_in_scene\"],\n",
    "                            halve_dataset=False,\n",
    "                            is_test_dataset=False,\n",
    "                            transforms=transform_composition)\n",
    "train_loader = DataLoader(dataset=train_dataset,\n",
    "                            batch_size=general_configs[\"batch_size\"],\n",
    "                            shuffle=True,\n",
    "                            drop_last=True)"
   ]
  },
  {
   "cell_type": "markdown",
   "metadata": {},
   "source": [
    "#### Datashapes"
   ]
  },
  {
   "cell_type": "code",
   "execution_count": 5,
   "metadata": {},
   "outputs": [
    {
     "name": "stdout",
     "output_type": "stream",
     "text": [
      "shapes: \n",
      "bboxes.shape=torch.Size([64, 4, 11, 4]),\n",
      "masks.shape=torch.Size([64, 4, 64, 64]),\n",
      "rgbs.shape=torch.Size([64, 4, 3, 64, 64]),\n",
      "============================================\n",
      "152\n"
     ]
    }
   ],
   "source": [
    "iterator=iter(train_loader)\n",
    "bboxes,masks,rgbs=next(iterator)\n",
    "print(f\"shapes: \\r\\n{bboxes.shape=},\\r\\n{masks.shape=},\\r\\n{rgbs.shape=},\\r\\n============================================\")\n",
    "print(len(train_loader))"
   ]
  },
  {
   "cell_type": "markdown",
   "metadata": {},
   "source": [
    "### Encoder"
   ]
  },
  {
   "cell_type": "code",
   "execution_count": 6,
   "metadata": {},
   "outputs": [],
   "source": [
    "def defineVIT():\n",
    "        return  ViT(\n",
    "                img_height=general_configs[\"img_height\"],\n",
    "                img_width=general_configs[\"img_width\"],\n",
    "                channels=general_configs[\"channels\"],\n",
    "                max_objects_in_scene=general_configs[\"max_objects_in_scene\"],\n",
    "                frame_numbers=general_configs[\"selected_number_of_frames_per_video\"],\n",
    "                token_dim=encoder_configs[\"token_dim\"],\n",
    "                attn_dim=encoder_configs[\"attn_dim\"],\n",
    "                num_heads=encoder_configs[\"num_heads\"],\n",
    "                mlp_size=encoder_configs[\"mlp_size\"],\n",
    "                num_tf_layers=encoder_configs[\"num_tf_layers\"]).to(general_configs[\"device\"])"
   ]
  },
  {
   "cell_type": "code",
   "execution_count": 7,
   "metadata": {},
   "outputs": [
    {
     "name": "stdout",
     "output_type": "stream",
     "text": [
      "ViT has 1122752 parameters\n"
     ]
    },
    {
     "data": {
      "text/plain": [
       "ViT(\n",
       "  (patch_projection): Sequential(\n",
       "    (0): Conv2d(3, 32, kernel_size=(4, 4), stride=(4, 4), padding=(1, 1))\n",
       "    (1): ReLU()\n",
       "    (2): Conv2d(32, 64, kernel_size=(4, 4), stride=(4, 4), padding=(1, 1))\n",
       "    (3): ReLU()\n",
       "    (4): Conv2d(64, 96, kernel_size=(4, 4), stride=(4, 4), padding=(1, 1))\n",
       "    (5): ReLU()\n",
       "    (6): Conv2d(96, 128, kernel_size=(4, 4), stride=(4, 4), padding=(2, 2))\n",
       "    (7): Sigmoid()\n",
       "  )\n",
       "  (pos_emb): PositionalEncoding()\n",
       "  (encoderBlocks): Sequential(\n",
       "    (0): EncoderBlock(\n",
       "      (ln_att): LayerNorm((128,), eps=1e-06, elementwise_affine=True)\n",
       "      (attn): MultiHeadAttention(\n",
       "        (q): Linear(in_features=128, out_features=128, bias=True)\n",
       "        (k): Linear(in_features=128, out_features=128, bias=True)\n",
       "        (v): Linear(in_features=128, out_features=128, bias=True)\n",
       "        (out_proj): Linear(in_features=128, out_features=128, bias=True)\n",
       "      )\n",
       "      (ln_mlp): LayerNorm((128,), eps=1e-06, elementwise_affine=True)\n",
       "      (mlp): MLP(\n",
       "        (mlp): Sequential(\n",
       "          (0): Linear(in_features=128, out_features=512, bias=True)\n",
       "          (1): GELU(approximate='none')\n",
       "          (2): Linear(in_features=512, out_features=128, bias=True)\n",
       "        )\n",
       "      )\n",
       "    )\n",
       "    (1): EncoderBlock(\n",
       "      (ln_att): LayerNorm((128,), eps=1e-06, elementwise_affine=True)\n",
       "      (attn): MultiHeadAttention(\n",
       "        (q): Linear(in_features=128, out_features=128, bias=True)\n",
       "        (k): Linear(in_features=128, out_features=128, bias=True)\n",
       "        (v): Linear(in_features=128, out_features=128, bias=True)\n",
       "        (out_proj): Linear(in_features=128, out_features=128, bias=True)\n",
       "      )\n",
       "      (ln_mlp): LayerNorm((128,), eps=1e-06, elementwise_affine=True)\n",
       "      (mlp): MLP(\n",
       "        (mlp): Sequential(\n",
       "          (0): Linear(in_features=128, out_features=512, bias=True)\n",
       "          (1): GELU(approximate='none')\n",
       "          (2): Linear(in_features=512, out_features=128, bias=True)\n",
       "        )\n",
       "      )\n",
       "    )\n",
       "    (2): EncoderBlock(\n",
       "      (ln_att): LayerNorm((128,), eps=1e-06, elementwise_affine=True)\n",
       "      (attn): MultiHeadAttention(\n",
       "        (q): Linear(in_features=128, out_features=128, bias=True)\n",
       "        (k): Linear(in_features=128, out_features=128, bias=True)\n",
       "        (v): Linear(in_features=128, out_features=128, bias=True)\n",
       "        (out_proj): Linear(in_features=128, out_features=128, bias=True)\n",
       "      )\n",
       "      (ln_mlp): LayerNorm((128,), eps=1e-06, elementwise_affine=True)\n",
       "      (mlp): MLP(\n",
       "        (mlp): Sequential(\n",
       "          (0): Linear(in_features=128, out_features=512, bias=True)\n",
       "          (1): GELU(approximate='none')\n",
       "          (2): Linear(in_features=512, out_features=128, bias=True)\n",
       "        )\n",
       "      )\n",
       "    )\n",
       "    (3): EncoderBlock(\n",
       "      (ln_att): LayerNorm((128,), eps=1e-06, elementwise_affine=True)\n",
       "      (attn): MultiHeadAttention(\n",
       "        (q): Linear(in_features=128, out_features=128, bias=True)\n",
       "        (k): Linear(in_features=128, out_features=128, bias=True)\n",
       "        (v): Linear(in_features=128, out_features=128, bias=True)\n",
       "        (out_proj): Linear(in_features=128, out_features=128, bias=True)\n",
       "      )\n",
       "      (ln_mlp): LayerNorm((128,), eps=1e-06, elementwise_affine=True)\n",
       "      (mlp): MLP(\n",
       "        (mlp): Sequential(\n",
       "          (0): Linear(in_features=128, out_features=512, bias=True)\n",
       "          (1): GELU(approximate='none')\n",
       "          (2): Linear(in_features=512, out_features=128, bias=True)\n",
       "        )\n",
       "      )\n",
       "    )\n",
       "  )\n",
       ")"
      ]
     },
     "execution_count": 7,
     "metadata": {},
     "output_type": "execute_result"
    }
   ],
   "source": [
    "vit=defineVIT()\n",
    "print(f\"ViT has {count_model_params(vit)} parameters\")\n",
    "vit"
   ]
  },
  {
   "cell_type": "markdown",
   "metadata": {},
   "source": [
    "### Decoder"
   ]
  },
  {
   "cell_type": "code",
   "execution_count": 8,
   "metadata": {},
   "outputs": [],
   "source": [
    "def defineDecoder():\n",
    "    return ViT_Decoder(\n",
    "    batch_size=general_configs[\"batch_size\"],\n",
    "    img_height=general_configs[\"img_height\"],\n",
    "    img_width=general_configs[\"img_width\"],\n",
    "    channels=general_configs[\"channels\"],\n",
    "    frame_numbers=general_configs[\"selected_number_of_frames_per_video\"],\n",
    "    token_dim=decoder_configs[\"token_dim\"],\n",
    "    attn_dim=decoder_configs[\"attn_dim\"], \n",
    "    num_heads=decoder_configs[\"num_heads\"], \n",
    "    mlp_size=decoder_configs[\"mlp_size\"], \n",
    "    num_tf_layers=decoder_configs[\"num_tf_layers\"],\n",
    "    max_objects_in_scene=general_configs[\"max_objects_in_scene\"],\n",
    "    device=general_configs[\"device\"]\n",
    ").to(general_configs[\"device\"])"
   ]
  },
  {
   "cell_type": "code",
   "execution_count": 9,
   "metadata": {},
   "outputs": [
    {
     "name": "stdout",
     "output_type": "stream",
     "text": [
      "Decoder has 1248163 parameters\n"
     ]
    },
    {
     "data": {
      "text/plain": [
       "ViT_Decoder(\n",
       "  (patch_projection): Sequential(\n",
       "    (0): ConvTranspose2d(128, 256, kernel_size=(4, 4), stride=(1, 1))\n",
       "    (1): BatchNorm2d(256, eps=1e-05, momentum=0.1, affine=True, track_running_stats=True)\n",
       "    (2): ReLU(inplace=True)\n",
       "    (3): ConvTranspose2d(256, 128, kernel_size=(4, 4), stride=(2, 2), padding=(1, 1))\n",
       "    (4): BatchNorm2d(128, eps=1e-05, momentum=0.1, affine=True, track_running_stats=True)\n",
       "    (5): ReLU(inplace=True)\n",
       "    (6): ConvTranspose2d(128, 64, kernel_size=(4, 4), stride=(2, 2), padding=(1, 1))\n",
       "    (7): BatchNorm2d(64, eps=1e-05, momentum=0.1, affine=True, track_running_stats=True)\n",
       "    (8): ReLU(inplace=True)\n",
       "    (9): ConvTranspose2d(64, 32, kernel_size=(4, 4), stride=(2, 2), padding=(1, 1))\n",
       "    (10): BatchNorm2d(32, eps=1e-05, momentum=0.1, affine=True, track_running_stats=True)\n",
       "    (11): ReLU(inplace=True)\n",
       "    (12): ConvTranspose2d(32, 3, kernel_size=(4, 4), stride=(2, 2), padding=(1, 1))\n",
       "    (13): Sigmoid()\n",
       "  )\n",
       "  (pos_emb): PositionalEncoding()\n",
       ")"
      ]
     },
     "execution_count": 9,
     "metadata": {},
     "output_type": "execute_result"
    }
   ],
   "source": [
    "decoder=defineDecoder()\n",
    "print(f\"Decoder has {count_model_params(decoder)} parameters\")\n",
    "decoder"
   ]
  },
  {
   "cell_type": "markdown",
   "metadata": {},
   "source": [
    "### Transformer"
   ]
  },
  {
   "cell_type": "code",
   "execution_count": 10,
   "metadata": {},
   "outputs": [
    {
     "name": "stdout",
     "output_type": "stream",
     "text": [
      "transformer has 2370915 parameters\n"
     ]
    },
    {
     "data": {
      "text/plain": [
       "CustomizableTransformer(\n",
       "  (encoder): ViT(\n",
       "    (patch_projection): Sequential(\n",
       "      (0): Conv2d(3, 32, kernel_size=(4, 4), stride=(4, 4), padding=(1, 1))\n",
       "      (1): ReLU()\n",
       "      (2): Conv2d(32, 64, kernel_size=(4, 4), stride=(4, 4), padding=(1, 1))\n",
       "      (3): ReLU()\n",
       "      (4): Conv2d(64, 96, kernel_size=(4, 4), stride=(4, 4), padding=(1, 1))\n",
       "      (5): ReLU()\n",
       "      (6): Conv2d(96, 128, kernel_size=(4, 4), stride=(4, 4), padding=(2, 2))\n",
       "      (7): Sigmoid()\n",
       "    )\n",
       "    (pos_emb): PositionalEncoding()\n",
       "    (encoderBlocks): Sequential(\n",
       "      (0): EncoderBlock(\n",
       "        (ln_att): LayerNorm((128,), eps=1e-06, elementwise_affine=True)\n",
       "        (attn): MultiHeadAttention(\n",
       "          (q): Linear(in_features=128, out_features=128, bias=True)\n",
       "          (k): Linear(in_features=128, out_features=128, bias=True)\n",
       "          (v): Linear(in_features=128, out_features=128, bias=True)\n",
       "          (out_proj): Linear(in_features=128, out_features=128, bias=True)\n",
       "        )\n",
       "        (ln_mlp): LayerNorm((128,), eps=1e-06, elementwise_affine=True)\n",
       "        (mlp): MLP(\n",
       "          (mlp): Sequential(\n",
       "            (0): Linear(in_features=128, out_features=512, bias=True)\n",
       "            (1): GELU(approximate='none')\n",
       "            (2): Linear(in_features=512, out_features=128, bias=True)\n",
       "          )\n",
       "        )\n",
       "      )\n",
       "      (1): EncoderBlock(\n",
       "        (ln_att): LayerNorm((128,), eps=1e-06, elementwise_affine=True)\n",
       "        (attn): MultiHeadAttention(\n",
       "          (q): Linear(in_features=128, out_features=128, bias=True)\n",
       "          (k): Linear(in_features=128, out_features=128, bias=True)\n",
       "          (v): Linear(in_features=128, out_features=128, bias=True)\n",
       "          (out_proj): Linear(in_features=128, out_features=128, bias=True)\n",
       "        )\n",
       "        (ln_mlp): LayerNorm((128,), eps=1e-06, elementwise_affine=True)\n",
       "        (mlp): MLP(\n",
       "          (mlp): Sequential(\n",
       "            (0): Linear(in_features=128, out_features=512, bias=True)\n",
       "            (1): GELU(approximate='none')\n",
       "            (2): Linear(in_features=512, out_features=128, bias=True)\n",
       "          )\n",
       "        )\n",
       "      )\n",
       "      (2): EncoderBlock(\n",
       "        (ln_att): LayerNorm((128,), eps=1e-06, elementwise_affine=True)\n",
       "        (attn): MultiHeadAttention(\n",
       "          (q): Linear(in_features=128, out_features=128, bias=True)\n",
       "          (k): Linear(in_features=128, out_features=128, bias=True)\n",
       "          (v): Linear(in_features=128, out_features=128, bias=True)\n",
       "          (out_proj): Linear(in_features=128, out_features=128, bias=True)\n",
       "        )\n",
       "        (ln_mlp): LayerNorm((128,), eps=1e-06, elementwise_affine=True)\n",
       "        (mlp): MLP(\n",
       "          (mlp): Sequential(\n",
       "            (0): Linear(in_features=128, out_features=512, bias=True)\n",
       "            (1): GELU(approximate='none')\n",
       "            (2): Linear(in_features=512, out_features=128, bias=True)\n",
       "          )\n",
       "        )\n",
       "      )\n",
       "      (3): EncoderBlock(\n",
       "        (ln_att): LayerNorm((128,), eps=1e-06, elementwise_affine=True)\n",
       "        (attn): MultiHeadAttention(\n",
       "          (q): Linear(in_features=128, out_features=128, bias=True)\n",
       "          (k): Linear(in_features=128, out_features=128, bias=True)\n",
       "          (v): Linear(in_features=128, out_features=128, bias=True)\n",
       "          (out_proj): Linear(in_features=128, out_features=128, bias=True)\n",
       "        )\n",
       "        (ln_mlp): LayerNorm((128,), eps=1e-06, elementwise_affine=True)\n",
       "        (mlp): MLP(\n",
       "          (mlp): Sequential(\n",
       "            (0): Linear(in_features=128, out_features=512, bias=True)\n",
       "            (1): GELU(approximate='none')\n",
       "            (2): Linear(in_features=512, out_features=128, bias=True)\n",
       "          )\n",
       "        )\n",
       "      )\n",
       "    )\n",
       "  )\n",
       "  (decoder): ViT_Decoder(\n",
       "    (patch_projection): Sequential(\n",
       "      (0): ConvTranspose2d(128, 256, kernel_size=(4, 4), stride=(1, 1))\n",
       "      (1): BatchNorm2d(256, eps=1e-05, momentum=0.1, affine=True, track_running_stats=True)\n",
       "      (2): ReLU(inplace=True)\n",
       "      (3): ConvTranspose2d(256, 128, kernel_size=(4, 4), stride=(2, 2), padding=(1, 1))\n",
       "      (4): BatchNorm2d(128, eps=1e-05, momentum=0.1, affine=True, track_running_stats=True)\n",
       "      (5): ReLU(inplace=True)\n",
       "      (6): ConvTranspose2d(128, 64, kernel_size=(4, 4), stride=(2, 2), padding=(1, 1))\n",
       "      (7): BatchNorm2d(64, eps=1e-05, momentum=0.1, affine=True, track_running_stats=True)\n",
       "      (8): ReLU(inplace=True)\n",
       "      (9): ConvTranspose2d(64, 32, kernel_size=(4, 4), stride=(2, 2), padding=(1, 1))\n",
       "      (10): BatchNorm2d(32, eps=1e-05, momentum=0.1, affine=True, track_running_stats=True)\n",
       "      (11): ReLU(inplace=True)\n",
       "      (12): ConvTranspose2d(32, 3, kernel_size=(4, 4), stride=(2, 2), padding=(1, 1))\n",
       "      (13): Sigmoid()\n",
       "    )\n",
       "    (pos_emb): PositionalEncoding()\n",
       "  )\n",
       ")"
      ]
     },
     "execution_count": 10,
     "metadata": {},
     "output_type": "execute_result"
    }
   ],
   "source": [
    "transformer=CustomizableTransformer(encoder=vit, decoder=decoder).to(general_configs[\"device\"])\n",
    "assert count_model_params(decoder)+count_model_params(vit)==count_model_params(transformer)\n",
    "print(f\"transformer has {count_model_params(transformer)} parameters\")\n",
    "transformer"
   ]
  },
  {
   "cell_type": "markdown",
   "metadata": {},
   "source": [
    "#### Training"
   ]
  },
  {
   "cell_type": "code",
   "execution_count": 11,
   "metadata": {},
   "outputs": [
    {
     "name": "stdout",
     "output_type": "stream",
     "text": [
      "Setting up [LPIPS] perceptual loss: trunk [alex], v[0.1], spatial [off]\n"
     ]
    },
    {
     "name": "stderr",
     "output_type": "stream",
     "text": [
      "/home/user/masroora1/VideoTracker/.venv/lib/python3.12/site-packages/torchvision/models/_utils.py:208: UserWarning: The parameter 'pretrained' is deprecated since 0.13 and may be removed in the future, please use 'weights' instead.\n",
      "  warnings.warn(\n",
      "/home/user/masroora1/VideoTracker/.venv/lib/python3.12/site-packages/torchvision/models/_utils.py:223: UserWarning: Arguments other than a weight enum or `None` for 'weights' are deprecated since 0.13 and may be removed in the future. The current behavior is equivalent to passing `weights=AlexNet_Weights.IMAGENET1K_V1`. You can also use `weights=AlexNet_Weights.DEFAULT` to get the most up-to-date weights.\n",
      "  warnings.warn(msg)\n"
     ]
    },
    {
     "name": "stdout",
     "output_type": "stream",
     "text": [
      "Loading model from: /home/user/masroora1/VideoTracker/.venv/lib/python3.12/site-packages/lpips/weights/v0.1/alex.pth\n"
     ]
    }
   ],
   "source": [
    "criterion=L1_SSIM_LPIPS_Loss5D_MemoryEfficient(l1_lambda=1.0,ssim_lambda=0.5, lpips_lambda=0.1)\n",
    "optimizer = torch.optim.Adam(transformer.parameters(), lr=general_configs[\"learning_rate\"])\n",
    "scheduler = torch.optim.lr_scheduler.MultiplicativeLR(optimizer, lr_lambda=lambda epoch: 0.95)\n",
    "TBOARD_LOGS = os.path.join(os.getcwd(), \"../tboard_logs\", \"ViT_30\")\n",
    "if not os.path.exists(TBOARD_LOGS):\n",
    "    os.makedirs(TBOARD_LOGS)\n",
    "\n",
    "shutil.rmtree(TBOARD_LOGS)\n",
    "writer = SummaryWriter(TBOARD_LOGS)"
   ]
  },
  {
   "cell_type": "code",
   "execution_count": null,
   "metadata": {},
   "outputs": [
    {
     "name": "stdout",
     "output_type": "stream",
     "text": [
      "Started Epoch 1/60...\n",
      "  --> Running valdiation epoch\n",
      "  --> Running train epoch\n"
     ]
    },
    {
     "name": "stderr",
     "output_type": "stream",
     "text": [
      "100%|██████████| 152/152 [01:30<00:00,  1.67it/s]\n"
     ]
    },
    {
     "name": "stdout",
     "output_type": "stream",
     "text": [
      "Epoch 1/60\n",
      "    Train loss: 0.52324\n",
      "    Valid loss: 0.84216\n",
      "    Valid Accuracy: 0.0%\n",
      "\n",
      "\n",
      "Started Epoch 2/60...\n",
      "  --> Running valdiation epoch\n",
      "  --> Running train epoch\n"
     ]
    },
    {
     "name": "stderr",
     "output_type": "stream",
     "text": [
      "100%|██████████| 152/152 [01:30<00:00,  1.68it/s]\n"
     ]
    },
    {
     "name": "stdout",
     "output_type": "stream",
     "text": [
      "Epoch 2/60\n",
      "    Train loss: 0.48874\n",
      "    Valid loss: 0.48428\n",
      "    Valid Accuracy: 0.0%\n",
      "\n",
      "\n",
      "Started Epoch 3/60...\n",
      "  --> Running valdiation epoch\n",
      "  --> Running train epoch\n"
     ]
    },
    {
     "name": "stderr",
     "output_type": "stream",
     "text": [
      "100%|██████████| 152/152 [01:30<00:00,  1.68it/s]\n"
     ]
    },
    {
     "name": "stdout",
     "output_type": "stream",
     "text": [
      "Epoch 3/60\n",
      "    Train loss: 0.45979\n",
      "    Valid loss: 0.47815\n",
      "    Valid Accuracy: 0.0%\n",
      "\n",
      "\n",
      "Started Epoch 4/60...\n",
      "  --> Running valdiation epoch\n",
      "  --> Running train epoch\n"
     ]
    },
    {
     "name": "stderr",
     "output_type": "stream",
     "text": [
      "100%|██████████| 152/152 [01:31<00:00,  1.67it/s]\n"
     ]
    },
    {
     "name": "stdout",
     "output_type": "stream",
     "text": [
      "Epoch 4/60\n",
      "    Train loss: 0.42794\n",
      "    Valid loss: 0.44617\n",
      "    Valid Accuracy: 1.5625%\n",
      "\n",
      "\n",
      "Started Epoch 5/60...\n",
      "  --> Running valdiation epoch\n",
      "  --> Running train epoch\n"
     ]
    },
    {
     "name": "stderr",
     "output_type": "stream",
     "text": [
      "100%|██████████| 152/152 [02:05<00:00,  1.21it/s]\n"
     ]
    },
    {
     "name": "stdout",
     "output_type": "stream",
     "text": [
      "Epoch 5/60\n",
      "    Train loss: 0.41787\n",
      "    Valid loss: 0.4042\n",
      "    Valid Accuracy: 0.0%\n",
      "\n",
      "\n",
      "Started Epoch 6/60...\n",
      "  --> Running valdiation epoch\n",
      "  --> Running train epoch\n"
     ]
    },
    {
     "name": "stderr",
     "output_type": "stream",
     "text": [
      "100%|██████████| 152/152 [02:13<00:00,  1.14it/s]\n"
     ]
    },
    {
     "name": "stdout",
     "output_type": "stream",
     "text": [
      "Epoch 6/60\n",
      "    Train loss: 0.41033\n",
      "    Valid loss: 0.39952\n",
      "    Valid Accuracy: 0.0%\n",
      "\n",
      "\n",
      "Started Epoch 7/60...\n",
      "  --> Running valdiation epoch\n",
      "  --> Running train epoch\n"
     ]
    },
    {
     "name": "stderr",
     "output_type": "stream",
     "text": [
      "100%|██████████| 152/152 [02:00<00:00,  1.26it/s]\n"
     ]
    },
    {
     "name": "stdout",
     "output_type": "stream",
     "text": [
      "Epoch 7/60\n",
      "    Train loss: 0.40987\n",
      "    Valid loss: 0.41544\n",
      "    Valid Accuracy: 0.0%\n",
      "\n",
      "\n",
      "Started Epoch 8/60...\n",
      "  --> Running valdiation epoch\n",
      "  --> Running train epoch\n"
     ]
    },
    {
     "name": "stderr",
     "output_type": "stream",
     "text": [
      "100%|██████████| 152/152 [02:13<00:00,  1.14it/s]\n"
     ]
    },
    {
     "name": "stdout",
     "output_type": "stream",
     "text": [
      "Epoch 8/60\n",
      "    Train loss: 0.40655\n",
      "    Valid loss: 0.39775\n",
      "    Valid Accuracy: 0.0%\n",
      "\n",
      "\n",
      "Started Epoch 9/60...\n",
      "  --> Running valdiation epoch\n",
      "  --> Running train epoch\n"
     ]
    },
    {
     "name": "stderr",
     "output_type": "stream",
     "text": [
      "100%|██████████| 152/152 [02:11<00:00,  1.15it/s]\n"
     ]
    },
    {
     "name": "stdout",
     "output_type": "stream",
     "text": [
      "Epoch 9/60\n",
      "    Train loss: 0.40547\n",
      "    Valid loss: 0.39137\n",
      "    Valid Accuracy: 0.0%\n",
      "\n",
      "\n",
      "Started Epoch 10/60...\n",
      "  --> Running valdiation epoch\n",
      "  --> Running train epoch\n"
     ]
    },
    {
     "name": "stderr",
     "output_type": "stream",
     "text": [
      "100%|██████████| 152/152 [02:10<00:00,  1.16it/s]\n"
     ]
    },
    {
     "name": "stdout",
     "output_type": "stream",
     "text": [
      "Epoch 10/60\n",
      "    Train loss: 0.40436\n",
      "    Valid loss: 0.39474\n",
      "    Valid Accuracy: 0.0%\n",
      "\n",
      "\n",
      "Started Epoch 11/60...\n",
      "  --> Running valdiation epoch\n",
      "  --> Running train epoch\n"
     ]
    },
    {
     "name": "stderr",
     "output_type": "stream",
     "text": [
      "100%|██████████| 152/152 [02:23<00:00,  1.06it/s]\n"
     ]
    },
    {
     "name": "stdout",
     "output_type": "stream",
     "text": [
      "Epoch 11/60\n",
      "    Train loss: 0.40528\n",
      "    Valid loss: 0.3905\n",
      "    Valid Accuracy: 0.0%\n",
      "\n",
      "\n",
      "Started Epoch 12/60...\n",
      "  --> Running valdiation epoch\n",
      "  --> Running train epoch\n"
     ]
    },
    {
     "name": "stderr",
     "output_type": "stream",
     "text": [
      "100%|██████████| 152/152 [02:02<00:00,  1.25it/s]\n"
     ]
    },
    {
     "name": "stdout",
     "output_type": "stream",
     "text": [
      "Epoch 12/60\n",
      "    Train loss: 0.4026\n",
      "    Valid loss: 0.39017\n",
      "    Valid Accuracy: 0.0%\n",
      "\n",
      "\n",
      "Started Epoch 13/60...\n",
      "  --> Running valdiation epoch\n",
      "  --> Running train epoch\n"
     ]
    },
    {
     "name": "stderr",
     "output_type": "stream",
     "text": [
      "100%|██████████| 152/152 [02:21<00:00,  1.07it/s]\n"
     ]
    },
    {
     "name": "stdout",
     "output_type": "stream",
     "text": [
      "Epoch 13/60\n",
      "    Train loss: 0.40358\n",
      "    Valid loss: 0.38917\n",
      "    Valid Accuracy: 1.5625%\n",
      "\n",
      "\n",
      "Started Epoch 14/60...\n",
      "  --> Running valdiation epoch\n",
      "  --> Running train epoch\n"
     ]
    },
    {
     "name": "stderr",
     "output_type": "stream",
     "text": [
      "100%|██████████| 152/152 [02:27<00:00,  1.03it/s]\n"
     ]
    },
    {
     "name": "stdout",
     "output_type": "stream",
     "text": [
      "Epoch 14/60\n",
      "    Train loss: 0.40271\n",
      "    Valid loss: 0.39253\n",
      "    Valid Accuracy: 0.0%\n",
      "\n",
      "\n",
      "Started Epoch 15/60...\n",
      "  --> Running valdiation epoch\n",
      "  --> Running train epoch\n"
     ]
    },
    {
     "name": "stderr",
     "output_type": "stream",
     "text": [
      "100%|██████████| 152/152 [01:59<00:00,  1.27it/s]\n"
     ]
    },
    {
     "name": "stdout",
     "output_type": "stream",
     "text": [
      "Epoch 15/60\n",
      "    Train loss: 0.40275\n",
      "    Valid loss: 0.39318\n",
      "    Valid Accuracy: 1.5625%\n",
      "\n",
      "\n",
      "Started Epoch 16/60...\n",
      "  --> Running valdiation epoch\n",
      "  --> Running train epoch\n"
     ]
    },
    {
     "name": "stderr",
     "output_type": "stream",
     "text": [
      "100%|██████████| 152/152 [02:24<00:00,  1.05it/s]\n"
     ]
    },
    {
     "name": "stdout",
     "output_type": "stream",
     "text": [
      "Epoch 16/60\n",
      "    Train loss: 0.40236\n",
      "    Valid loss: 0.38833\n",
      "    Valid Accuracy: 0.0%\n",
      "\n",
      "\n",
      "Started Epoch 17/60...\n",
      "  --> Running valdiation epoch\n",
      "  --> Running train epoch\n"
     ]
    },
    {
     "name": "stderr",
     "output_type": "stream",
     "text": [
      "100%|██████████| 152/152 [02:12<00:00,  1.14it/s]\n"
     ]
    },
    {
     "name": "stdout",
     "output_type": "stream",
     "text": [
      "Epoch 17/60\n",
      "    Train loss: 0.4018\n",
      "    Valid loss: 0.38781\n",
      "    Valid Accuracy: 1.5625%\n",
      "\n",
      "\n",
      "Started Epoch 18/60...\n",
      "  --> Running valdiation epoch\n",
      "  --> Running train epoch\n"
     ]
    },
    {
     "name": "stderr",
     "output_type": "stream",
     "text": [
      "100%|██████████| 152/152 [02:15<00:00,  1.12it/s]\n"
     ]
    },
    {
     "name": "stdout",
     "output_type": "stream",
     "text": [
      "Epoch 18/60\n",
      "    Train loss: 0.40152\n",
      "    Valid loss: 0.38998\n",
      "    Valid Accuracy: 0.0%\n",
      "\n",
      "\n",
      "Started Epoch 19/60...\n",
      "  --> Running valdiation epoch\n",
      "  --> Running train epoch\n"
     ]
    },
    {
     "name": "stderr",
     "output_type": "stream",
     "text": [
      "100%|██████████| 152/152 [02:12<00:00,  1.14it/s]\n"
     ]
    },
    {
     "name": "stdout",
     "output_type": "stream",
     "text": [
      "Epoch 19/60\n",
      "    Train loss: 0.40113\n",
      "    Valid loss: 0.38945\n",
      "    Valid Accuracy: 0.0%\n",
      "\n",
      "\n",
      "Started Epoch 20/60...\n",
      "  --> Running valdiation epoch\n",
      "  --> Running train epoch\n"
     ]
    },
    {
     "name": "stderr",
     "output_type": "stream",
     "text": [
      "100%|██████████| 152/152 [02:12<00:00,  1.15it/s]\n"
     ]
    },
    {
     "name": "stdout",
     "output_type": "stream",
     "text": [
      "Epoch 20/60\n",
      "    Train loss: 0.40086\n",
      "    Valid loss: 0.38764\n",
      "    Valid Accuracy: 1.5625%\n",
      "\n",
      "\n",
      "Started Epoch 21/60...\n",
      "  --> Running valdiation epoch\n",
      "  --> Running train epoch\n"
     ]
    },
    {
     "name": "stderr",
     "output_type": "stream",
     "text": [
      "100%|██████████| 152/152 [02:15<00:00,  1.12it/s]\n"
     ]
    },
    {
     "name": "stdout",
     "output_type": "stream",
     "text": [
      "Epoch 21/60\n",
      "    Train loss: 0.40106\n",
      "    Valid loss: 0.38824\n",
      "    Valid Accuracy: 1.5625%\n",
      "\n",
      "\n",
      "Started Epoch 22/60...\n",
      "  --> Running valdiation epoch\n",
      "  --> Running train epoch\n"
     ]
    },
    {
     "name": "stderr",
     "output_type": "stream",
     "text": [
      "100%|██████████| 152/152 [02:26<00:00,  1.04it/s]\n"
     ]
    },
    {
     "name": "stdout",
     "output_type": "stream",
     "text": [
      "Epoch 22/60\n",
      "    Train loss: 0.40102\n",
      "    Valid loss: 0.39222\n",
      "    Valid Accuracy: 1.5625%\n",
      "\n",
      "\n",
      "Started Epoch 23/60...\n",
      "  --> Running valdiation epoch\n",
      "  --> Running train epoch\n"
     ]
    },
    {
     "name": "stderr",
     "output_type": "stream",
     "text": [
      "100%|██████████| 152/152 [02:00<00:00,  1.26it/s]\n"
     ]
    },
    {
     "name": "stdout",
     "output_type": "stream",
     "text": [
      "Epoch 23/60\n",
      "    Train loss: 0.40099\n",
      "    Valid loss: 0.38832\n",
      "    Valid Accuracy: 0.0%\n",
      "\n",
      "\n",
      "Started Epoch 24/60...\n",
      "  --> Running valdiation epoch\n",
      "  --> Running train epoch\n"
     ]
    },
    {
     "name": "stderr",
     "output_type": "stream",
     "text": [
      "100%|██████████| 152/152 [02:29<00:00,  1.02it/s]\n"
     ]
    },
    {
     "name": "stdout",
     "output_type": "stream",
     "text": [
      "Epoch 24/60\n",
      "    Train loss: 0.40008\n",
      "    Valid loss: 0.38853\n",
      "    Valid Accuracy: 0.0%\n",
      "\n",
      "\n",
      "Started Epoch 25/60...\n",
      "  --> Running valdiation epoch\n",
      "  --> Running train epoch\n"
     ]
    },
    {
     "name": "stderr",
     "output_type": "stream",
     "text": [
      "100%|██████████| 152/152 [02:16<00:00,  1.11it/s]\n"
     ]
    },
    {
     "name": "stdout",
     "output_type": "stream",
     "text": [
      "Epoch 25/60\n",
      "    Train loss: 0.40039\n",
      "    Valid loss: 0.38672\n",
      "    Valid Accuracy: 0.0%\n",
      "\n",
      "\n",
      "Started Epoch 26/60...\n",
      "  --> Running valdiation epoch\n",
      "  --> Running train epoch\n"
     ]
    },
    {
     "name": "stderr",
     "output_type": "stream",
     "text": [
      "100%|██████████| 152/152 [02:14<00:00,  1.13it/s]\n"
     ]
    },
    {
     "name": "stdout",
     "output_type": "stream",
     "text": [
      "Epoch 26/60\n",
      "    Train loss: 0.40003\n",
      "    Valid loss: 0.39052\n",
      "    Valid Accuracy: 0.0%\n",
      "\n",
      "\n",
      "Started Epoch 27/60...\n",
      "  --> Running valdiation epoch\n",
      "  --> Running train epoch\n"
     ]
    },
    {
     "name": "stderr",
     "output_type": "stream",
     "text": [
      "100%|██████████| 152/152 [02:13<00:00,  1.14it/s]\n"
     ]
    },
    {
     "name": "stdout",
     "output_type": "stream",
     "text": [
      "Epoch 27/60\n",
      "    Train loss: 0.39991\n",
      "    Valid loss: 0.38804\n",
      "    Valid Accuracy: 1.5625%\n",
      "\n",
      "\n",
      "Started Epoch 28/60...\n",
      "  --> Running valdiation epoch\n",
      "  --> Running train epoch\n"
     ]
    },
    {
     "name": "stderr",
     "output_type": "stream",
     "text": [
      "100%|██████████| 152/152 [02:27<00:00,  1.03it/s]\n"
     ]
    },
    {
     "name": "stdout",
     "output_type": "stream",
     "text": [
      "Epoch 28/60\n",
      "    Train loss: 0.39968\n",
      "    Valid loss: 0.38576\n",
      "    Valid Accuracy: 0.0%\n",
      "\n",
      "\n",
      "Started Epoch 29/60...\n",
      "  --> Running valdiation epoch\n",
      "  --> Running train epoch\n"
     ]
    },
    {
     "name": "stderr",
     "output_type": "stream",
     "text": [
      "100%|██████████| 152/152 [01:58<00:00,  1.28it/s]\n"
     ]
    },
    {
     "name": "stdout",
     "output_type": "stream",
     "text": [
      "Epoch 29/60\n",
      "    Train loss: 0.39943\n",
      "    Valid loss: 0.38715\n",
      "    Valid Accuracy: 0.0%\n",
      "\n",
      "\n",
      "Started Epoch 30/60...\n",
      "  --> Running valdiation epoch\n",
      "  --> Running train epoch\n"
     ]
    },
    {
     "name": "stderr",
     "output_type": "stream",
     "text": [
      "100%|██████████| 152/152 [02:24<00:00,  1.05it/s]\n"
     ]
    },
    {
     "name": "stdout",
     "output_type": "stream",
     "text": [
      "Epoch 30/60\n",
      "    Train loss: 0.39987\n",
      "    Valid loss: 0.38581\n",
      "    Valid Accuracy: 0.0%\n",
      "\n",
      "\n",
      "Started Epoch 31/60...\n",
      "  --> Running valdiation epoch\n",
      "  --> Running train epoch\n"
     ]
    },
    {
     "name": "stderr",
     "output_type": "stream",
     "text": [
      "100%|██████████| 152/152 [02:16<00:00,  1.11it/s]\n"
     ]
    },
    {
     "name": "stdout",
     "output_type": "stream",
     "text": [
      "Epoch 31/60\n",
      "    Train loss: 0.40014\n",
      "    Valid loss: 0.38857\n",
      "    Valid Accuracy: 0.0%\n",
      "\n",
      "\n",
      "Started Epoch 32/60...\n",
      "  --> Running valdiation epoch\n",
      "  --> Running train epoch\n"
     ]
    },
    {
     "name": "stderr",
     "output_type": "stream",
     "text": [
      "100%|██████████| 152/152 [02:18<00:00,  1.09it/s]\n"
     ]
    },
    {
     "name": "stdout",
     "output_type": "stream",
     "text": [
      "Epoch 32/60\n",
      "    Train loss: 0.39949\n",
      "    Valid loss: 0.38887\n",
      "    Valid Accuracy: 0.0%\n",
      "\n",
      "\n",
      "Started Epoch 33/60...\n",
      "  --> Running valdiation epoch\n",
      "  --> Running train epoch\n"
     ]
    },
    {
     "name": "stderr",
     "output_type": "stream",
     "text": [
      "100%|██████████| 152/152 [02:24<00:00,  1.05it/s]\n"
     ]
    },
    {
     "name": "stdout",
     "output_type": "stream",
     "text": [
      "Epoch 33/60\n",
      "    Train loss: 0.39881\n",
      "    Valid loss: 0.38522\n",
      "    Valid Accuracy: 1.5625%\n",
      "\n",
      "\n",
      "Started Epoch 34/60...\n",
      "  --> Running valdiation epoch\n",
      "  --> Running train epoch\n"
     ]
    },
    {
     "name": "stderr",
     "output_type": "stream",
     "text": [
      "100%|██████████| 152/152 [02:00<00:00,  1.26it/s]\n"
     ]
    },
    {
     "name": "stdout",
     "output_type": "stream",
     "text": [
      "Epoch 34/60\n",
      "    Train loss: 0.39897\n",
      "    Valid loss: 0.38928\n",
      "    Valid Accuracy: 0.0%\n",
      "\n",
      "\n",
      "Started Epoch 35/60...\n",
      "  --> Running valdiation epoch\n",
      "  --> Running train epoch\n"
     ]
    },
    {
     "name": "stderr",
     "output_type": "stream",
     "text": [
      "100%|██████████| 152/152 [02:25<00:00,  1.05it/s]\n"
     ]
    },
    {
     "name": "stdout",
     "output_type": "stream",
     "text": [
      "Epoch 35/60\n",
      "    Train loss: 0.39882\n",
      "    Valid loss: 0.38633\n",
      "    Valid Accuracy: 1.5625%\n",
      "\n",
      "\n",
      "Started Epoch 36/60...\n",
      "  --> Running valdiation epoch\n",
      "  --> Running train epoch\n"
     ]
    },
    {
     "name": "stderr",
     "output_type": "stream",
     "text": [
      "100%|██████████| 152/152 [02:15<00:00,  1.12it/s]\n"
     ]
    },
    {
     "name": "stdout",
     "output_type": "stream",
     "text": [
      "Epoch 36/60\n",
      "    Train loss: 0.39897\n",
      "    Valid loss: 0.38559\n",
      "    Valid Accuracy: 0.0%\n",
      "\n",
      "\n",
      "Started Epoch 37/60...\n",
      "  --> Running valdiation epoch\n",
      "  --> Running train epoch\n"
     ]
    },
    {
     "name": "stderr",
     "output_type": "stream",
     "text": [
      "100%|██████████| 152/152 [02:14<00:00,  1.13it/s]\n"
     ]
    },
    {
     "name": "stdout",
     "output_type": "stream",
     "text": [
      "Epoch 37/60\n",
      "    Train loss: 0.39854\n",
      "    Valid loss: 0.38981\n",
      "    Valid Accuracy: 0.0%\n",
      "\n",
      "\n",
      "Started Epoch 38/60...\n",
      "  --> Running valdiation epoch\n",
      "  --> Running train epoch\n"
     ]
    },
    {
     "name": "stderr",
     "output_type": "stream",
     "text": [
      "100%|██████████| 152/152 [02:14<00:00,  1.13it/s]\n"
     ]
    },
    {
     "name": "stdout",
     "output_type": "stream",
     "text": [
      "Epoch 38/60\n",
      "    Train loss: 0.39903\n",
      "    Valid loss: 0.38773\n",
      "    Valid Accuracy: 0.0%\n",
      "\n",
      "\n",
      "Started Epoch 39/60...\n",
      "  --> Running valdiation epoch\n",
      "  --> Running train epoch\n"
     ]
    },
    {
     "name": "stderr",
     "output_type": "stream",
     "text": [
      "100%|██████████| 152/152 [02:26<00:00,  1.04it/s]\n"
     ]
    },
    {
     "name": "stdout",
     "output_type": "stream",
     "text": [
      "Epoch 39/60\n",
      "    Train loss: 0.39814\n",
      "    Valid loss: 0.38505\n",
      "    Valid Accuracy: 0.0%\n",
      "\n",
      "\n",
      "Started Epoch 40/60...\n",
      "  --> Running valdiation epoch\n",
      "  --> Running train epoch\n"
     ]
    },
    {
     "name": "stderr",
     "output_type": "stream",
     "text": [
      "100%|██████████| 152/152 [01:58<00:00,  1.28it/s]\n"
     ]
    },
    {
     "name": "stdout",
     "output_type": "stream",
     "text": [
      "Epoch 40/60\n",
      "    Train loss: 0.39826\n",
      "    Valid loss: 0.38611\n",
      "    Valid Accuracy: 4.6875%\n",
      "\n",
      "\n",
      "Started Epoch 41/60...\n",
      "  --> Running valdiation epoch\n",
      "  --> Running train epoch\n"
     ]
    },
    {
     "name": "stderr",
     "output_type": "stream",
     "text": [
      "100%|██████████| 152/152 [02:26<00:00,  1.04it/s]\n"
     ]
    },
    {
     "name": "stdout",
     "output_type": "stream",
     "text": [
      "Epoch 41/60\n",
      "    Train loss: 0.39793\n",
      "    Valid loss: 0.3858\n",
      "    Valid Accuracy: 1.5625%\n",
      "\n",
      "\n",
      "Started Epoch 42/60...\n",
      "  --> Running valdiation epoch\n",
      "  --> Running train epoch\n"
     ]
    },
    {
     "name": "stderr",
     "output_type": "stream",
     "text": [
      "100%|██████████| 152/152 [02:07<00:00,  1.19it/s]\n"
     ]
    },
    {
     "name": "stdout",
     "output_type": "stream",
     "text": [
      "Epoch 42/60\n",
      "    Train loss: 0.39794\n",
      "    Valid loss: 0.38674\n",
      "    Valid Accuracy: 1.5625%\n",
      "\n",
      "\n",
      "Started Epoch 43/60...\n",
      "  --> Running valdiation epoch\n",
      "  --> Running train epoch\n"
     ]
    },
    {
     "name": "stderr",
     "output_type": "stream",
     "text": [
      "100%|██████████| 152/152 [02:27<00:00,  1.03it/s]\n"
     ]
    },
    {
     "name": "stdout",
     "output_type": "stream",
     "text": [
      "Epoch 43/60\n",
      "    Train loss: 0.39788\n",
      "    Valid loss: 0.38564\n",
      "    Valid Accuracy: 0.0%\n",
      "\n",
      "\n",
      "Started Epoch 44/60...\n",
      "  --> Running valdiation epoch\n",
      "  --> Running train epoch\n"
     ]
    },
    {
     "name": "stderr",
     "output_type": "stream",
     "text": [
      "100%|██████████| 152/152 [02:02<00:00,  1.24it/s]\n"
     ]
    },
    {
     "name": "stdout",
     "output_type": "stream",
     "text": [
      "Epoch 44/60\n",
      "    Train loss: 0.39749\n",
      "    Valid loss: 0.38654\n",
      "    Valid Accuracy: 1.5625%\n",
      "\n",
      "\n",
      "Started Epoch 45/60...\n",
      "  --> Running valdiation epoch\n",
      "  --> Running train epoch\n"
     ]
    },
    {
     "name": "stderr",
     "output_type": "stream",
     "text": [
      "100%|██████████| 152/152 [02:15<00:00,  1.12it/s]\n"
     ]
    },
    {
     "name": "stdout",
     "output_type": "stream",
     "text": [
      "Epoch 45/60\n",
      "    Train loss: 0.39759\n",
      "    Valid loss: 0.38531\n",
      "    Valid Accuracy: 1.5625%\n",
      "\n",
      "\n",
      "Started Epoch 46/60...\n",
      "  --> Running valdiation epoch\n",
      "  --> Running train epoch\n"
     ]
    },
    {
     "name": "stderr",
     "output_type": "stream",
     "text": [
      "100%|██████████| 152/152 [02:17<00:00,  1.11it/s]\n"
     ]
    },
    {
     "name": "stdout",
     "output_type": "stream",
     "text": [
      "Epoch 46/60\n",
      "    Train loss: 0.39758\n",
      "    Valid loss: 0.3863\n",
      "    Valid Accuracy: 1.5625%\n",
      "\n",
      "\n",
      "Started Epoch 47/60...\n",
      "  --> Running valdiation epoch\n",
      "  --> Running train epoch\n"
     ]
    },
    {
     "name": "stderr",
     "output_type": "stream",
     "text": [
      "100%|██████████| 152/152 [02:17<00:00,  1.11it/s]\n"
     ]
    },
    {
     "name": "stdout",
     "output_type": "stream",
     "text": [
      "Epoch 47/60\n",
      "    Train loss: 0.39734\n",
      "    Valid loss: 0.38578\n",
      "    Valid Accuracy: 0.0%\n",
      "\n",
      "\n",
      "Started Epoch 48/60...\n",
      "  --> Running valdiation epoch\n",
      "  --> Running train epoch\n"
     ]
    },
    {
     "name": "stderr",
     "output_type": "stream",
     "text": [
      "100%|██████████| 152/152 [02:14<00:00,  1.13it/s]\n"
     ]
    },
    {
     "name": "stdout",
     "output_type": "stream",
     "text": [
      "Epoch 48/60\n",
      "    Train loss: 0.3973\n",
      "    Valid loss: 0.38626\n",
      "    Valid Accuracy: 0.0%\n",
      "\n",
      "\n",
      "Started Epoch 49/60...\n",
      "  --> Running valdiation epoch\n",
      "  --> Running train epoch\n"
     ]
    },
    {
     "name": "stderr",
     "output_type": "stream",
     "text": [
      "100%|██████████| 152/152 [02:27<00:00,  1.03it/s]\n"
     ]
    },
    {
     "name": "stdout",
     "output_type": "stream",
     "text": [
      "Epoch 49/60\n",
      "    Train loss: 0.39707\n",
      "    Valid loss: 0.38649\n",
      "    Valid Accuracy: 1.5625%\n",
      "\n",
      "\n",
      "Started Epoch 50/60...\n",
      "  --> Running valdiation epoch\n",
      "  --> Running train epoch\n"
     ]
    },
    {
     "name": "stderr",
     "output_type": "stream",
     "text": [
      " 46%|████▌     | 70/152 [00:57<01:04,  1.27it/s]"
     ]
    }
   ],
   "source": [
    "train_loss, val_loss, loss_iters, valid_acc = train_model(\n",
    "        model=transformer,\n",
    "        optimizer=optimizer,\n",
    "        scheduler=scheduler,\n",
    "        criterion=criterion,\n",
    "        train_loader=train_loader,\n",
    "        valid_loader=valid_loader,\n",
    "        num_epochs=general_configs[\"num_epochs\"],\n",
    "        tboard=writer,\n",
    "        trainingmode=general_configs[\"trainingMode\"],\n",
    "        saveImagesPerEachEpoch=True   )"
   ]
  },
  {
   "cell_type": "code",
   "execution_count": null,
   "metadata": {},
   "outputs": [],
   "source": [
    "from utils.util import save_model\n",
    "stats = {\n",
    "    \"train_loss\": train_loss,\n",
    "    \"valid_loss\": val_loss,\n",
    "    \"loss_iters\": loss_iters,\n",
    "    \"valid_acc\": valid_acc\n",
    "}\n",
    "save_model(transformer, optimizer, epoch=general_configs[\"num_epochs\"], stats=stats)"
   ]
  },
  {
   "cell_type": "code",
   "execution_count": null,
   "metadata": {},
   "outputs": [],
   "source": [
    "\"\"\"\n",
    "stats = {\n",
    "    \"train_loss\": [],\n",
    "    \"valid_loss\": [],\n",
    "    \"loss_iters\": [],\n",
    "    \"valid_acc\": []\n",
    "}\n",
    "model, optimizer, epoch, stats = load_model(transformer, optimizer, savepath=\"../../checkpoints/checkpoint_epoch_60_SSIM_L1.pth\")\"\"\""
   ]
  },
  {
   "cell_type": "code",
   "execution_count": null,
   "metadata": {},
   "outputs": [],
   "source": [
    "from utils.util import visualize_progress\n",
    "\n",
    "loss_iters = stats['loss_iters']\n",
    "val_loss = stats['valid_loss']\n",
    "train_loss = stats['train_loss']\n",
    "valid_acc = stats['valid_acc']\n",
    "\n",
    "visualize_progress(loss_iters, train_loss, val_loss, valid_acc, start=0)\n",
    "plt.show()"
   ]
  },
  {
   "cell_type": "code",
   "execution_count": null,
   "metadata": {},
   "outputs": [],
   "source": [
    "test_dataset = VideoDataset(data_path=general_configs[\"data_path\"],\n",
    "                            split='validation',\n",
    "                            original_number_of_frames_per_video=general_configs[\"original_number_of_frames_per_video\"],\n",
    "                            selected_number_of_frames_per_video=general_configs[\"selected_number_of_frames_per_video\"],\n",
    "                            max_objects_in_scene=general_configs[\"max_objects_in_scene\"],\n",
    "                            halve_dataset=True,\n",
    "                            is_test_dataset=True,\n",
    "                            transforms=transform_composition)\n",
    "test_loader = DataLoader(dataset=test_dataset,\n",
    "                            batch_size=general_configs[\"batch_size\"],\n",
    "                            shuffle=False,\n",
    "                            drop_last=True)"
   ]
  },
  {
   "cell_type": "code",
   "execution_count": null,
   "metadata": {},
   "outputs": [],
   "source": [
    "import random\n",
    "\n",
    "\n",
    "iterator=iter(test_loader)\n",
    "coms,bboxes,masks,rgbs,flows=next(iterator)\n",
    "transformer.eval()\n",
    "with torch.no_grad():\n",
    "   recons = transformer(rgbs.to(device),masks=masks.to(device)).to('cpu')\n",
    "\n",
    "number_of_images=10\n",
    "number_of_columns=2\n",
    "video_index=random.randint(0,recons.shape[0])\n",
    "fig, ax = plt.subplots(number_of_images,number_of_columns)\n",
    "fig.set_size_inches(number_of_columns*5, number_of_images*3)\n",
    "\n",
    "for i in range (number_of_images):\n",
    "    for i in range(number_of_images):\n",
    "        ax[i,1].imshow((recons[video_index,i]*255).clamp(0, 255).permute(1,2,0).byte().numpy())\n",
    "        ax[i,1].axis(\"off\")\n",
    "        ax[i,0].imshow((rgbs[video_index,i]*255).clamp(0, 255).permute(1,2,0).byte().numpy())\n",
    "        ax[i,0].axis(\"off\")\n",
    "        if i==0:\n",
    "            ax[i,1].set_title(f\"Reconstructed Image {i+1}\")    \n",
    "            ax[i,0].set_title(f\"Original Image {i+1}\")    \n",
    "\n",
    "\n",
    "plt.tight_layout()\n",
    "plt.show()"
   ]
  }
 ],
 "metadata": {
  "kernelspec": {
   "display_name": ".venv",
   "language": "python",
   "name": "python3"
  },
  "language_info": {
   "codemirror_mode": {
    "name": "ipython",
    "version": 3
   },
   "file_extension": ".py",
   "mimetype": "text/x-python",
   "name": "python",
   "nbconvert_exporter": "python",
   "pygments_lexer": "ipython3",
   "version": "3.12.3"
  }
 },
 "nbformat": 4,
 "nbformat_minor": 2
}
