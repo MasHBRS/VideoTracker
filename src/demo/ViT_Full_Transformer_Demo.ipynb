{
 "cells": [
  {
   "cell_type": "code",
   "execution_count": null,
   "metadata": {},
   "outputs": [],
   "source": [
    "#!kill 2128689\n",
    "!nvidia-smi"
   ]
  },
  {
   "cell_type": "code",
   "execution_count": null,
   "metadata": {},
   "outputs": [],
   "source": [
    "import sys\n",
    "import os\n",
    "import shutil\n",
    "import os\n",
    "os.environ[\"PYTORCH_CUDA_ALLOC_CONF\"] = \"expandable_segments:True\"\n",
    "sys.path.append(os.path.abspath(\"..\"))\n",
    "from loader.Dataset import VideoDataset\n",
    "from torch.utils.data import DataLoader\n",
    "from models.transformers.encoders.vit_encoder import ViT\n",
    "from models.transformers.decoders.vit_decoder import ViT_Decoder\n",
    "from models.transformers.CustomTransformer import CustomizableTransformer\n",
    "from utils.util import count_model_params, train_epoch, eval_model, train_model, load_model \n",
    "from matplotlib import pyplot as plt\n",
    "from matplotlib import patches\n",
    "import torch\n",
    "from torch.utils.tensorboard import SummaryWriter\n",
    "from utils.loss_function import L1_SSIM_LPIPS_Loss5D_MemoryEfficient#ReconstructionLoss_L1_Ssim, ReconstructionLoss_PSNR_SSIM\n",
    "from loader.transforms import RGBNormalizer,Composition,CustomResize,RandomHorizontalFlip,RandomVerticalFlip,CustomColorJitter\n",
    "\n",
    "%load_ext autoreload\n",
    "%autoreload 2"
   ]
  },
  {
   "cell_type": "markdown",
   "metadata": {},
   "source": [
    "#### configs"
   ]
  },
  {
   "cell_type": "code",
   "execution_count": null,
   "metadata": {},
   "outputs": [],
   "source": [
    "\n",
    "general_configs={\n",
    "\"data_path\":\"/home/nfs/inf6/data/datasets/MOVi/movi_c/\",\n",
    "\"original_number_of_frames_per_video\":24,\n",
    "\"selected_number_of_frames_per_video\":4,\n",
    "\"max_objects_in_scene\":11,\n",
    "\"batch_size\":64,\n",
    "\"device\" : torch.device(\"cuda\" if torch.cuda.is_available() else \"cpu\"),\n",
    "\"img_height\":64,\n",
    "\"img_width\":64,\n",
    "\"channels\":3,\n",
    "\"learning_rate\":3e-4,\n",
    "\"num_epochs\":60,\n",
    "\"trainingMode\":1 #0 training by bounding boxes, 1 training by masks. \n",
    "}\n",
    "\n",
    "encoder_configs={\n",
    "        \"token_dim\":128,\n",
    "        \"attn_dim\":128,\n",
    "        \"num_heads\":4,\n",
    "        \"mlp_size\":512,\n",
    "        \"num_tf_layers\":4\n",
    "}\n",
    "decoder_configs={\n",
    "        \"token_dim\":128,\n",
    "        \"attn_dim\":128,\n",
    "        \"num_heads\":4,\n",
    "        \"mlp_size\":512,\n",
    "        \"num_tf_layers\":4\n",
    "}\n",
    "\n",
    "data_transform_config={\n",
    "        \"img_height\":general_configs[\"img_height\"],\n",
    "        \"img_width\":general_configs[\"img_width\"],\n",
    "        \"vFlip_probability\":0.3,\n",
    "        \"hFlip_probability\":0.3,\n",
    "        \"color_jitter_brightness\":(0.8, 1.2),\n",
    "        \"color_jitter_hue\":(-0.3, 0.3),\n",
    "        \"color_jitter_contrast\":(0.6, 1.8),\n",
    "        \"color_jitter_saturation\":(0.5, 1.5)\n",
    "}"
   ]
  },
  {
   "cell_type": "markdown",
   "metadata": {},
   "source": [
    "#### Datasets"
   ]
  },
  {
   "cell_type": "code",
   "execution_count": null,
   "metadata": {},
   "outputs": [],
   "source": [
    "transform_composition = Composition([\n",
    "                                        RGBNormalizer(),\n",
    "                                        CustomResize((data_transform_config[\"img_height\"],data_transform_config[\"img_width\"])),\n",
    "                                        RandomVerticalFlip(data_transform_config[\"vFlip_probability\"]),\n",
    "                                        RandomHorizontalFlip(data_transform_config[\"hFlip_probability\"]),\n",
    "                                        #CustomColorJitter(\n",
    "                                        #    brightness=data_transform_config[\"color_jitter_brightness\"],\n",
    "                                        #    hue=data_transform_config[\"color_jitter_hue\"],\n",
    "                                        #    contrast=data_transform_config[\"color_jitter_contrast\"],\n",
    "                                        #    saturation=data_transform_config[\"color_jitter_saturation\"]\n",
    "                                        #)\n",
    "                                    ])\n",
    "#transform_composition=None\n",
    "validation_dataset = VideoDataset(data_path=general_configs[\"data_path\"],\n",
    "                            split='validation',\n",
    "                            original_number_of_frames_per_video=general_configs[\"original_number_of_frames_per_video\"],\n",
    "                            selected_number_of_frames_per_video=general_configs[\"selected_number_of_frames_per_video\"],\n",
    "                            max_objects_in_scene=general_configs[\"max_objects_in_scene\"],\n",
    "                            halve_dataset=True,\n",
    "                            is_test_dataset=False,\n",
    "                            transforms=transform_composition)\n",
    "valid_loader = DataLoader(dataset=validation_dataset,\n",
    "                            batch_size=general_configs[\"batch_size\"],\n",
    "                            shuffle=False,\n",
    "                            drop_last=True)\n",
    "train_dataset = VideoDataset(data_path=general_configs[\"data_path\"],\n",
    "                            split='train',\n",
    "                            original_number_of_frames_per_video=general_configs[\"original_number_of_frames_per_video\"],\n",
    "                            selected_number_of_frames_per_video=general_configs[\"selected_number_of_frames_per_video\"],\n",
    "                            max_objects_in_scene=general_configs[\"max_objects_in_scene\"],\n",
    "                            halve_dataset=False,\n",
    "                            is_test_dataset=False,\n",
    "                            transforms=transform_composition)\n",
    "train_loader = DataLoader(dataset=train_dataset,\n",
    "                            batch_size=general_configs[\"batch_size\"],\n",
    "                            shuffle=True,\n",
    "                            drop_last=True)"
   ]
  },
  {
   "cell_type": "markdown",
   "metadata": {},
   "source": [
    "#### Datashapes"
   ]
  },
  {
   "cell_type": "code",
   "execution_count": null,
   "metadata": {},
   "outputs": [],
   "source": [
    "iterator=iter(train_loader)\n",
    "bboxes,masks,rgbs=next(iterator)\n",
    "print(f\"shapes: \\r\\n{bboxes.shape=},\\r\\n{masks.shape=},\\r\\n{rgbs.shape=},\\r\\n============================================\")\n",
    "print(len(train_loader))"
   ]
  },
  {
   "cell_type": "markdown",
   "metadata": {},
   "source": [
    "### Encoder"
   ]
  },
  {
   "cell_type": "code",
   "execution_count": null,
   "metadata": {},
   "outputs": [],
   "source": [
    "def defineVIT():\n",
    "        return  ViT(\n",
    "                img_height=general_configs[\"img_height\"],\n",
    "                img_width=general_configs[\"img_width\"],\n",
    "                channels=general_configs[\"channels\"],\n",
    "                max_objects_in_scene=general_configs[\"max_objects_in_scene\"],\n",
    "                frame_numbers=general_configs[\"selected_number_of_frames_per_video\"],\n",
    "                token_dim=encoder_configs[\"token_dim\"],\n",
    "                attn_dim=encoder_configs[\"attn_dim\"],\n",
    "                num_heads=encoder_configs[\"num_heads\"],\n",
    "                mlp_size=encoder_configs[\"mlp_size\"],\n",
    "                num_tf_layers=encoder_configs[\"num_tf_layers\"]).to(general_configs[\"device\"])"
   ]
  },
  {
   "cell_type": "code",
   "execution_count": null,
   "metadata": {},
   "outputs": [],
   "source": [
    "vit=defineVIT()\n",
    "print(f\"ViT has {count_model_params(vit)} parameters\")\n",
    "vit"
   ]
  },
  {
   "cell_type": "markdown",
   "metadata": {},
   "source": [
    "### Decoder"
   ]
  },
  {
   "cell_type": "code",
   "execution_count": null,
   "metadata": {},
   "outputs": [],
   "source": [
    "def defineDecoder():\n",
    "    return ViT_Decoder(\n",
    "    batch_size=general_configs[\"batch_size\"],\n",
    "    img_height=general_configs[\"img_height\"],\n",
    "    img_width=general_configs[\"img_width\"],\n",
    "    channels=general_configs[\"channels\"],\n",
    "    frame_numbers=general_configs[\"selected_number_of_frames_per_video\"],\n",
    "    token_dim=decoder_configs[\"token_dim\"],\n",
    "    attn_dim=decoder_configs[\"attn_dim\"], \n",
    "    num_heads=decoder_configs[\"num_heads\"], \n",
    "    mlp_size=decoder_configs[\"mlp_size\"], \n",
    "    num_tf_layers=decoder_configs[\"num_tf_layers\"],\n",
    "    max_objects_in_scene=general_configs[\"max_objects_in_scene\"],\n",
    "    device=general_configs[\"device\"]\n",
    ").to(general_configs[\"device\"])"
   ]
  },
  {
   "cell_type": "code",
   "execution_count": null,
   "metadata": {},
   "outputs": [],
   "source": [
    "decoder=defineDecoder()\n",
    "print(f\"Decoder has {count_model_params(decoder)} parameters\")\n",
    "decoder"
   ]
  },
  {
   "cell_type": "markdown",
   "metadata": {},
   "source": [
    "### Transformer"
   ]
  },
  {
   "cell_type": "code",
   "execution_count": null,
   "metadata": {},
   "outputs": [],
   "source": [
    "transformer=CustomizableTransformer(encoder=vit, decoder=decoder).to(general_configs[\"device\"])\n",
    "assert count_model_params(decoder)+count_model_params(vit)==count_model_params(transformer)\n",
    "print(f\"transformer has {count_model_params(transformer)} parameters\")\n",
    "transformer"
   ]
  },
  {
   "cell_type": "markdown",
   "metadata": {},
   "source": [
    "#### Training"
   ]
  },
  {
   "cell_type": "code",
   "execution_count": null,
   "metadata": {},
   "outputs": [],
   "source": [
    "criterion=L1_SSIM_LPIPS_Loss5D_MemoryEfficient(l1_lambda=1.0,ssim_lambda=0, lpips_lambda=0)\n",
    "optimizer = torch.optim.Adam(transformer.parameters(), lr=general_configs[\"learning_rate\"])\n",
    "scheduler = torch.optim.lr_scheduler.MultiplicativeLR(optimizer, lr_lambda=lambda epoch: 0.95)\n",
    "TBOARD_LOGS = os.path.join(os.getcwd(), \"../tboard_logs\", \"ViT_30\")\n",
    "if not os.path.exists(TBOARD_LOGS):\n",
    "    os.makedirs(TBOARD_LOGS)\n",
    "\n",
    "shutil.rmtree(TBOARD_LOGS)\n",
    "writer = SummaryWriter(TBOARD_LOGS)"
   ]
  },
  {
   "cell_type": "code",
   "execution_count": null,
   "metadata": {},
   "outputs": [],
   "source": [
    "train_loss, val_loss, loss_iters, valid_acc = train_model(\n",
    "        model=transformer,\n",
    "        optimizer=optimizer,\n",
    "        scheduler=scheduler,\n",
    "        criterion=criterion,\n",
    "        train_loader=train_loader,\n",
    "        valid_loader=valid_loader,\n",
    "        num_epochs=general_configs[\"num_epochs\"],\n",
    "        tboard=writer,\n",
    "        trainingmode=general_configs[\"trainingMode\"],\n",
    "        saveImagesPerEachEpoch=True   )"
   ]
  },
  {
   "cell_type": "code",
   "execution_count": null,
   "metadata": {},
   "outputs": [],
   "source": [
    "from utils.util import save_model\n",
    "stats = {\n",
    "    \"train_loss\": train_loss,\n",
    "    \"valid_loss\": val_loss,\n",
    "    \"loss_iters\": loss_iters,\n",
    "    \"valid_acc\": valid_acc\n",
    "}\n",
    "save_model(transformer, optimizer, epoch=general_configs[\"num_epochs\"], stats=stats)"
   ]
  },
  {
   "cell_type": "code",
   "execution_count": null,
   "metadata": {},
   "outputs": [],
   "source": [
    "\"\"\"\n",
    "stats = {\n",
    "    \"train_loss\": [],\n",
    "    \"valid_loss\": [],\n",
    "    \"loss_iters\": [],\n",
    "    \"valid_acc\": []\n",
    "}\n",
    "model, optimizer, epoch, stats = load_model(transformer, optimizer, savepath=\"../../checkpoints/checkpoint_epoch_60_SSIM_L1.pth\")\"\"\""
   ]
  },
  {
   "cell_type": "code",
   "execution_count": null,
   "metadata": {},
   "outputs": [],
   "source": [
    "from utils.util import visualize_progress\n",
    "\n",
    "loss_iters = stats['loss_iters']\n",
    "val_loss = stats['valid_loss']\n",
    "train_loss = stats['train_loss']\n",
    "valid_acc = stats['valid_acc']\n",
    "\n",
    "visualize_progress(loss_iters, train_loss, val_loss, valid_acc, start=0)\n",
    "plt.show()"
   ]
  },
  {
   "cell_type": "code",
   "execution_count": null,
   "metadata": {},
   "outputs": [],
   "source": [
    "test_dataset = VideoDataset(data_path=general_configs[\"data_path\"],\n",
    "                            split='validation',\n",
    "                            original_number_of_frames_per_video=general_configs[\"original_number_of_frames_per_video\"],\n",
    "                            selected_number_of_frames_per_video=general_configs[\"selected_number_of_frames_per_video\"],\n",
    "                            max_objects_in_scene=general_configs[\"max_objects_in_scene\"],\n",
    "                            halve_dataset=True,\n",
    "                            is_test_dataset=True,\n",
    "                            transforms=transform_composition)\n",
    "test_loader = DataLoader(dataset=test_dataset,\n",
    "                            batch_size=general_configs[\"batch_size\"],\n",
    "                            shuffle=False,\n",
    "                            drop_last=True)"
   ]
  },
  {
   "cell_type": "code",
   "execution_count": null,
   "metadata": {},
   "outputs": [],
   "source": [
    "import random\n",
    "\n",
    "\n",
    "iterator=iter(test_loader)\n",
    "coms,bboxes,masks,rgbs,flows=next(iterator)\n",
    "transformer.eval()\n",
    "with torch.no_grad():\n",
    "   recons = transformer(rgbs.to(device),masks=masks.to(device)).to('cpu')\n",
    "\n",
    "number_of_images=10\n",
    "number_of_columns=2\n",
    "video_index=random.randint(0,recons.shape[0])\n",
    "fig, ax = plt.subplots(number_of_images,number_of_columns)\n",
    "fig.set_size_inches(number_of_columns*5, number_of_images*3)\n",
    "\n",
    "for i in range (number_of_images):\n",
    "    for i in range(number_of_images):\n",
    "        ax[i,1].imshow((recons[video_index,i]*255).clamp(0, 255).permute(1,2,0).byte().numpy())\n",
    "        ax[i,1].axis(\"off\")\n",
    "        ax[i,0].imshow((rgbs[video_index,i]*255).clamp(0, 255).permute(1,2,0).byte().numpy())\n",
    "        ax[i,0].axis(\"off\")\n",
    "        if i==0:\n",
    "            ax[i,1].set_title(f\"Reconstructed Image {i+1}\")    \n",
    "            ax[i,0].set_title(f\"Original Image {i+1}\")    \n",
    "\n",
    "\n",
    "plt.tight_layout()\n",
    "plt.show()"
   ]
  }
 ],
 "metadata": {
  "kernelspec": {
   "display_name": ".venv",
   "language": "python",
   "name": "python3"
  },
  "language_info": {
   "codemirror_mode": {
    "name": "ipython",
    "version": 3
   },
   "file_extension": ".py",
   "mimetype": "text/x-python",
   "name": "python",
   "nbconvert_exporter": "python",
   "pygments_lexer": "ipython3",
   "version": "3.12.3"
  }
 },
 "nbformat": 4,
 "nbformat_minor": 2
}
