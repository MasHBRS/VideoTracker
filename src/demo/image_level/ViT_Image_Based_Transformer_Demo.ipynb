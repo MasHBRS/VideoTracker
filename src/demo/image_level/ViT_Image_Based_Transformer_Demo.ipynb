{
 "cells": [
  {
   "cell_type": "code",
   "execution_count": 15,
   "metadata": {},
   "outputs": [
    {
     "name": "stderr",
     "output_type": "stream",
     "text": [
      "927.46s - pydevd: Sending message related to process being replaced timed-out after 5 seconds\n"
     ]
    },
    {
     "name": "stdout",
     "output_type": "stream",
     "text": [
      "Wed Oct  1 02:50:53 2025       \n",
      "+-----------------------------------------------------------------------------------------+\n",
      "| NVIDIA-SMI 570.172.08             Driver Version: 570.172.08     CUDA Version: 12.8     |\n",
      "|-----------------------------------------+------------------------+----------------------+\n",
      "| GPU  Name                 Persistence-M | Bus-Id          Disp.A | Volatile Uncorr. ECC |\n",
      "| Fan  Temp   Perf          Pwr:Usage/Cap |           Memory-Usage | GPU-Util  Compute M. |\n",
      "|                                         |                        |               MIG M. |\n",
      "|=========================================+========================+======================|\n",
      "|   0  NVIDIA GeForce RTX 4090        Off |   00000000:01:00.0 Off |                  Off |\n",
      "|  0%   48C    P8             28W /  450W |    8310MiB /  24564MiB |      0%      Default |\n",
      "|                                         |                        |                  N/A |\n",
      "+-----------------------------------------+------------------------+----------------------+\n",
      "                                                                                         \n",
      "+-----------------------------------------------------------------------------------------+\n",
      "| Processes:                                                                              |\n",
      "|  GPU   GI   CI              PID   Type   Process name                        GPU Memory |\n",
      "|        ID   ID                                                               Usage      |\n",
      "|=========================================================================================|\n",
      "|    0   N/A  N/A            2201      G   /usr/lib/xorg/Xorg                       12MiB |\n",
      "|    0   N/A  N/A            2296      G   /usr/bin/sddm-greeter                    22MiB |\n",
      "|    0   N/A  N/A          292916      C   ...VideoTracker/.venv/bin/python        812MiB |\n",
      "+-----------------------------------------------------------------------------------------+\n"
     ]
    }
   ],
   "source": [
    "#!kill 2128689\n",
    "!nvidia-smi"
   ]
  },
  {
   "cell_type": "code",
   "execution_count": 16,
   "metadata": {},
   "outputs": [
    {
     "name": "stdout",
     "output_type": "stream",
     "text": [
      "The autoreload extension is already loaded. To reload it, use:\n",
      "  %reload_ext autoreload\n"
     ]
    }
   ],
   "source": [
    "import sys\n",
    "import os\n",
    "import shutil\n",
    "import os\n",
    "os.environ[\"PYTORCH_CUDA_ALLOC_CONF\"] = \"expandable_segments:True\"\n",
    "sys.path.append(os.path.abspath(\"../..\"))\n",
    "from loader.Dataset_image_based import VideoDataset_ImageBased\n",
    "from torch.utils.data import DataLoader\n",
    "from models.transformers.encoders.image_level.vit_like_encoder import ViT_ImageBased\n",
    "from models.transformers.decoders.object_level.vit_decoder import ViT_Decoder\n",
    "from models.transformers.CustomTransformer import CustomizableTransformer\n",
    "from utils.util import count_model_params, train_epoch_image_based, eval_model_image_based, load_model, train_model\n",
    "from matplotlib import pyplot as plt\n",
    "from matplotlib import patches \n",
    "import torch\n",
    "from torch.utils.tensorboard import SummaryWriter\n",
    "from utils.loss_function import L1_SSIM_LPIPS_Loss5D_MemoryEfficient#ReconstructionLoss_L1_Ssim, ReconstructionLoss_PSNR_SSIM\n",
    "from loader.transforms import RGBImageBasedNormalizer,Composition,CustomResize,RandomHorizontalFlip,RandomVerticalFlip,CustomColorJitter\n",
    "\n",
    "%load_ext autoreload\n",
    "%autoreload 2"
   ]
  },
  {
   "cell_type": "markdown",
   "metadata": {},
   "source": [
    "#### configs"
   ]
  },
  {
   "cell_type": "code",
   "execution_count": 17,
   "metadata": {},
   "outputs": [],
   "source": [
    "\n",
    "general_configs={\n",
    "\"data_path\":\"/home/nfs/inf6/data/datasets/MOVi/movi_c/\",\n",
    "\"original_number_of_frames_per_video\":24,\n",
    "\"selected_number_of_frames_per_video\":4,\n",
    "\"batch_size\":60,\n",
    "\"device\" : torch.device(\"cuda\" if torch.cuda.is_available() else \"cpu\"),\n",
    "\"img_height\":128,\n",
    "\"patch_size\":32,\n",
    "\"img_width\":128,\n",
    "\"channels\":3,\n",
    "\"learning_rate\":3e-4,\n",
    "\"num_epochs\":60,\n",
    "\"trainingMode\":1 #0 training by bounding boxes, 1 training by masks. \n",
    "}\n",
    "\n",
    "encoder_configs={\n",
    "        \"token_dim\":128,\n",
    "        \"attn_dim\":128,\n",
    "        \"num_heads\":4,\n",
    "        \"mlp_size\":512,\n",
    "        \"num_tf_layers\":4\n",
    "}\n",
    "decoder_configs={\n",
    "        \"token_dim\":128,\n",
    "        \"attn_dim\":128,\n",
    "        \"num_heads\":4,\n",
    "        \"mlp_size\":512,\n",
    "        \"num_tf_layers\":4\n",
    "}\n",
    "\n",
    "data_transform_config={\n",
    "        \"img_height\":general_configs[\"img_height\"],\n",
    "        \"img_width\":general_configs[\"img_width\"],\n",
    "        \"vFlip_probability\":0.3,\n",
    "        \"hFlip_probability\":0.3,\n",
    "        \"color_jitter_brightness\":(0.8, 1.2),\n",
    "        \"color_jitter_hue\":(-0.3, 0.3),\n",
    "        \"color_jitter_contrast\":(0.6, 1.8),\n",
    "        \"color_jitter_saturation\":(0.5, 1.5)\n",
    "}"
   ]
  },
  {
   "cell_type": "markdown",
   "metadata": {},
   "source": [
    "#### Datasets"
   ]
  },
  {
   "cell_type": "code",
   "execution_count": 18,
   "metadata": {},
   "outputs": [],
   "source": [
    "transform_composition = Composition([\n",
    "                                        RGBImageBasedNormalizer(),\n",
    "                                        CustomResize((data_transform_config[\"img_height\"],data_transform_config[\"img_width\"])),\n",
    "                                        #CustomColorJitter(\n",
    "                                        #    brightness=data_transform_config[\"color_jitter_brightness\"],\n",
    "                                        #    hue=data_transform_config[\"color_jitter_hue\"],\n",
    "                                        #    contrast=data_transform_config[\"color_jitter_contrast\"],\n",
    "                                        #    saturation=data_transform_config[\"color_jitter_saturation\"]\n",
    "                                        #)\n",
    "                                    ])\n",
    "validation_dataset = VideoDataset_ImageBased(data_path=general_configs[\"data_path\"],\n",
    "                            split='validation',\n",
    "                            original_number_of_frames_per_video=general_configs[\"original_number_of_frames_per_video\"],\n",
    "                            selected_number_of_frames_per_video=general_configs[\"selected_number_of_frames_per_video\"],\n",
    "                            halve_dataset=True,\n",
    "                            is_test_dataset=False,\n",
    "                            transforms=transform_composition)\n",
    "valid_loader = DataLoader(dataset=validation_dataset,\n",
    "                            batch_size=general_configs[\"batch_size\"],\n",
    "                            shuffle=False,\n",
    "                            drop_last=False)\n",
    "train_dataset = VideoDataset_ImageBased(data_path=general_configs[\"data_path\"],\n",
    "                            split='train',\n",
    "                            original_number_of_frames_per_video=general_configs[\"original_number_of_frames_per_video\"],\n",
    "                            selected_number_of_frames_per_video=general_configs[\"selected_number_of_frames_per_video\"],\n",
    "                            halve_dataset=False,\n",
    "                            is_test_dataset=False,\n",
    "                            transforms=transform_composition)\n",
    "train_loader = DataLoader(dataset=train_dataset,\n",
    "                            batch_size=general_configs[\"batch_size\"],\n",
    "                            shuffle=True,\n",
    "                            drop_last=True)"
   ]
  },
  {
   "cell_type": "markdown",
   "metadata": {},
   "source": [
    "#### Datashapes"
   ]
  },
  {
   "cell_type": "code",
   "execution_count": 19,
   "metadata": {},
   "outputs": [
    {
     "name": "stdout",
     "output_type": "stream",
     "text": [
      "shapes: rgbs.shape=torch.Size([60, 4, 3, 128, 128]),\n",
      "============================================\n",
      "162\n"
     ]
    }
   ],
   "source": [
    "iterator=iter(train_loader)\n",
    "rgbs=next(iterator)\n",
    "print(f\"shapes: {rgbs.shape=},\\r\\n============================================\")\n",
    "print(len(train_loader))"
   ]
  },
  {
   "cell_type": "markdown",
   "metadata": {},
   "source": [
    "### Encoder"
   ]
  },
  {
   "cell_type": "code",
   "execution_count": 20,
   "metadata": {},
   "outputs": [],
   "source": [
    "def defineVIT():\n",
    "        return  ViT_ImageBased(\n",
    "                patch_size=general_configs[\"patch_size\"],\n",
    "                img_size=rgbs.shape[-2],\n",
    "                frame_numbers=general_configs[\"selected_number_of_frames_per_video\"],\n",
    "                token_dim=encoder_configs[\"token_dim\"],\n",
    "                attn_dim=encoder_configs[\"attn_dim\"],\n",
    "                num_heads=encoder_configs[\"num_heads\"],\n",
    "                mlp_size=encoder_configs[\"mlp_size\"],\n",
    "                num_tf_layers=encoder_configs[\"num_tf_layers\"]).to(general_configs[\"device\"])"
   ]
  },
  {
   "cell_type": "code",
   "execution_count": 21,
   "metadata": {},
   "outputs": [
    {
     "name": "stdout",
     "output_type": "stream",
     "text": [
      "ViT has 1192704 parameters\n"
     ]
    },
    {
     "data": {
      "text/plain": [
       "ViT_ImageBased(\n",
       "  (patch_projection): Sequential(\n",
       "    (0): LayerNorm((3072,), eps=1e-05, elementwise_affine=True)\n",
       "    (1): Linear(in_features=3072, out_features=128, bias=True)\n",
       "  )\n",
       "  (pos_emb): PositionalEncoding()\n",
       "  (transformer_blocks): Sequential(\n",
       "    (0): EncoderBlock(\n",
       "      (ln_att): LayerNorm((128,), eps=1e-06, elementwise_affine=True)\n",
       "      (attn): MultiHeadAttention(\n",
       "        (q): Linear(in_features=128, out_features=128, bias=True)\n",
       "        (k): Linear(in_features=128, out_features=128, bias=True)\n",
       "        (v): Linear(in_features=128, out_features=128, bias=True)\n",
       "        (out_proj): Linear(in_features=128, out_features=128, bias=True)\n",
       "      )\n",
       "      (ln_mlp): LayerNorm((128,), eps=1e-06, elementwise_affine=True)\n",
       "      (mlp): MLP(\n",
       "        (mlp): Sequential(\n",
       "          (0): Linear(in_features=128, out_features=512, bias=True)\n",
       "          (1): GELU(approximate='none')\n",
       "          (2): Linear(in_features=512, out_features=128, bias=True)\n",
       "        )\n",
       "      )\n",
       "    )\n",
       "    (1): EncoderBlock(\n",
       "      (ln_att): LayerNorm((128,), eps=1e-06, elementwise_affine=True)\n",
       "      (attn): MultiHeadAttention(\n",
       "        (q): Linear(in_features=128, out_features=128, bias=True)\n",
       "        (k): Linear(in_features=128, out_features=128, bias=True)\n",
       "        (v): Linear(in_features=128, out_features=128, bias=True)\n",
       "        (out_proj): Linear(in_features=128, out_features=128, bias=True)\n",
       "      )\n",
       "      (ln_mlp): LayerNorm((128,), eps=1e-06, elementwise_affine=True)\n",
       "      (mlp): MLP(\n",
       "        (mlp): Sequential(\n",
       "          (0): Linear(in_features=128, out_features=512, bias=True)\n",
       "          (1): GELU(approximate='none')\n",
       "          (2): Linear(in_features=512, out_features=128, bias=True)\n",
       "        )\n",
       "      )\n",
       "    )\n",
       "    (2): EncoderBlock(\n",
       "      (ln_att): LayerNorm((128,), eps=1e-06, elementwise_affine=True)\n",
       "      (attn): MultiHeadAttention(\n",
       "        (q): Linear(in_features=128, out_features=128, bias=True)\n",
       "        (k): Linear(in_features=128, out_features=128, bias=True)\n",
       "        (v): Linear(in_features=128, out_features=128, bias=True)\n",
       "        (out_proj): Linear(in_features=128, out_features=128, bias=True)\n",
       "      )\n",
       "      (ln_mlp): LayerNorm((128,), eps=1e-06, elementwise_affine=True)\n",
       "      (mlp): MLP(\n",
       "        (mlp): Sequential(\n",
       "          (0): Linear(in_features=128, out_features=512, bias=True)\n",
       "          (1): GELU(approximate='none')\n",
       "          (2): Linear(in_features=512, out_features=128, bias=True)\n",
       "        )\n",
       "      )\n",
       "    )\n",
       "    (3): EncoderBlock(\n",
       "      (ln_att): LayerNorm((128,), eps=1e-06, elementwise_affine=True)\n",
       "      (attn): MultiHeadAttention(\n",
       "        (q): Linear(in_features=128, out_features=128, bias=True)\n",
       "        (k): Linear(in_features=128, out_features=128, bias=True)\n",
       "        (v): Linear(in_features=128, out_features=128, bias=True)\n",
       "        (out_proj): Linear(in_features=128, out_features=128, bias=True)\n",
       "      )\n",
       "      (ln_mlp): LayerNorm((128,), eps=1e-06, elementwise_affine=True)\n",
       "      (mlp): MLP(\n",
       "        (mlp): Sequential(\n",
       "          (0): Linear(in_features=128, out_features=512, bias=True)\n",
       "          (1): GELU(approximate='none')\n",
       "          (2): Linear(in_features=512, out_features=128, bias=True)\n",
       "        )\n",
       "      )\n",
       "    )\n",
       "  )\n",
       ")"
      ]
     },
     "execution_count": 21,
     "metadata": {},
     "output_type": "execute_result"
    }
   ],
   "source": [
    "vit=defineVIT()\n",
    "print(f\"ViT has {count_model_params(vit)} parameters\")\n",
    "vit"
   ]
  },
  {
   "cell_type": "markdown",
   "metadata": {},
   "source": [
    "### Decoder"
   ]
  },
  {
   "cell_type": "code",
   "execution_count": 22,
   "metadata": {},
   "outputs": [],
   "source": [
    "def defineDecoder():\n",
    "    return ViT_Decoder(\n",
    "    batch_size=general_configs[\"batch_size\"],\n",
    "    img_height=general_configs[\"img_height\"],\n",
    "    img_width=general_configs[\"img_width\"],\n",
    "    channels=general_configs[\"channels\"],\n",
    "    frame_numbers=general_configs[\"selected_number_of_frames_per_video\"],\n",
    "    token_dim=decoder_configs[\"token_dim\"],\n",
    "    attn_dim=decoder_configs[\"attn_dim\"], \n",
    "    num_heads=decoder_configs[\"num_heads\"], \n",
    "    mlp_size=decoder_configs[\"mlp_size\"], \n",
    "    num_tf_layers=decoder_configs[\"num_tf_layers\"],\n",
    "    device=general_configs[\"device\"]\n",
    ").to(general_configs[\"device\"])"
   ]
  },
  {
   "cell_type": "code",
   "execution_count": 23,
   "metadata": {},
   "outputs": [
    {
     "name": "stdout",
     "output_type": "stream",
     "text": [
      "Decoder has 1246115 parameters\n"
     ]
    },
    {
     "data": {
      "text/plain": [
       "ViT_Decoder(\n",
       "  (patch_projection): Sequential(\n",
       "    (0): ConvTranspose2d(128, 256, kernel_size=(4, 4), stride=(1, 1))\n",
       "    (1): BatchNorm2d(256, eps=1e-05, momentum=0.1, affine=True, track_running_stats=True)\n",
       "    (2): ReLU(inplace=True)\n",
       "    (3): ConvTranspose2d(256, 128, kernel_size=(4, 4), stride=(2, 2), padding=(1, 1))\n",
       "    (4): BatchNorm2d(128, eps=1e-05, momentum=0.1, affine=True, track_running_stats=True)\n",
       "    (5): ReLU(inplace=True)\n",
       "    (6): ConvTranspose2d(128, 64, kernel_size=(4, 4), stride=(2, 2), padding=(1, 1))\n",
       "    (7): BatchNorm2d(64, eps=1e-05, momentum=0.1, affine=True, track_running_stats=True)\n",
       "    (8): ReLU(inplace=True)\n",
       "    (9): ConvTranspose2d(64, 32, kernel_size=(4, 4), stride=(2, 2), padding=(1, 1))\n",
       "    (10): BatchNorm2d(32, eps=1e-05, momentum=0.1, affine=True, track_running_stats=True)\n",
       "    (11): ReLU(inplace=True)\n",
       "    (12): ConvTranspose2d(32, 3, kernel_size=(4, 4), stride=(2, 2), padding=(1, 1))\n",
       "    (13): Sigmoid()\n",
       "  )\n",
       "  (pos_emb): PositionalEncoding()\n",
       ")"
      ]
     },
     "execution_count": 23,
     "metadata": {},
     "output_type": "execute_result"
    }
   ],
   "source": [
    "decoder=defineDecoder()\n",
    "print(f\"Decoder has {count_model_params(decoder)} parameters\")\n",
    "decoder"
   ]
  },
  {
   "cell_type": "markdown",
   "metadata": {},
   "source": [
    "### Transformer"
   ]
  },
  {
   "cell_type": "code",
   "execution_count": 24,
   "metadata": {},
   "outputs": [
    {
     "name": "stdout",
     "output_type": "stream",
     "text": [
      "transformer has 2438819 parameters\n"
     ]
    },
    {
     "data": {
      "text/plain": [
       "CustomizableTransformer(\n",
       "  (encoder): ViT_ImageBased(\n",
       "    (patch_projection): Sequential(\n",
       "      (0): LayerNorm((3072,), eps=1e-05, elementwise_affine=True)\n",
       "      (1): Linear(in_features=3072, out_features=128, bias=True)\n",
       "    )\n",
       "    (pos_emb): PositionalEncoding()\n",
       "    (transformer_blocks): Sequential(\n",
       "      (0): EncoderBlock(\n",
       "        (ln_att): LayerNorm((128,), eps=1e-06, elementwise_affine=True)\n",
       "        (attn): MultiHeadAttention(\n",
       "          (q): Linear(in_features=128, out_features=128, bias=True)\n",
       "          (k): Linear(in_features=128, out_features=128, bias=True)\n",
       "          (v): Linear(in_features=128, out_features=128, bias=True)\n",
       "          (out_proj): Linear(in_features=128, out_features=128, bias=True)\n",
       "        )\n",
       "        (ln_mlp): LayerNorm((128,), eps=1e-06, elementwise_affine=True)\n",
       "        (mlp): MLP(\n",
       "          (mlp): Sequential(\n",
       "            (0): Linear(in_features=128, out_features=512, bias=True)\n",
       "            (1): GELU(approximate='none')\n",
       "            (2): Linear(in_features=512, out_features=128, bias=True)\n",
       "          )\n",
       "        )\n",
       "      )\n",
       "      (1): EncoderBlock(\n",
       "        (ln_att): LayerNorm((128,), eps=1e-06, elementwise_affine=True)\n",
       "        (attn): MultiHeadAttention(\n",
       "          (q): Linear(in_features=128, out_features=128, bias=True)\n",
       "          (k): Linear(in_features=128, out_features=128, bias=True)\n",
       "          (v): Linear(in_features=128, out_features=128, bias=True)\n",
       "          (out_proj): Linear(in_features=128, out_features=128, bias=True)\n",
       "        )\n",
       "        (ln_mlp): LayerNorm((128,), eps=1e-06, elementwise_affine=True)\n",
       "        (mlp): MLP(\n",
       "          (mlp): Sequential(\n",
       "            (0): Linear(in_features=128, out_features=512, bias=True)\n",
       "            (1): GELU(approximate='none')\n",
       "            (2): Linear(in_features=512, out_features=128, bias=True)\n",
       "          )\n",
       "        )\n",
       "      )\n",
       "      (2): EncoderBlock(\n",
       "        (ln_att): LayerNorm((128,), eps=1e-06, elementwise_affine=True)\n",
       "        (attn): MultiHeadAttention(\n",
       "          (q): Linear(in_features=128, out_features=128, bias=True)\n",
       "          (k): Linear(in_features=128, out_features=128, bias=True)\n",
       "          (v): Linear(in_features=128, out_features=128, bias=True)\n",
       "          (out_proj): Linear(in_features=128, out_features=128, bias=True)\n",
       "        )\n",
       "        (ln_mlp): LayerNorm((128,), eps=1e-06, elementwise_affine=True)\n",
       "        (mlp): MLP(\n",
       "          (mlp): Sequential(\n",
       "            (0): Linear(in_features=128, out_features=512, bias=True)\n",
       "            (1): GELU(approximate='none')\n",
       "            (2): Linear(in_features=512, out_features=128, bias=True)\n",
       "          )\n",
       "        )\n",
       "      )\n",
       "      (3): EncoderBlock(\n",
       "        (ln_att): LayerNorm((128,), eps=1e-06, elementwise_affine=True)\n",
       "        (attn): MultiHeadAttention(\n",
       "          (q): Linear(in_features=128, out_features=128, bias=True)\n",
       "          (k): Linear(in_features=128, out_features=128, bias=True)\n",
       "          (v): Linear(in_features=128, out_features=128, bias=True)\n",
       "          (out_proj): Linear(in_features=128, out_features=128, bias=True)\n",
       "        )\n",
       "        (ln_mlp): LayerNorm((128,), eps=1e-06, elementwise_affine=True)\n",
       "        (mlp): MLP(\n",
       "          (mlp): Sequential(\n",
       "            (0): Linear(in_features=128, out_features=512, bias=True)\n",
       "            (1): GELU(approximate='none')\n",
       "            (2): Linear(in_features=512, out_features=128, bias=True)\n",
       "          )\n",
       "        )\n",
       "      )\n",
       "    )\n",
       "  )\n",
       "  (decoder): ViT_Decoder(\n",
       "    (patch_projection): Sequential(\n",
       "      (0): ConvTranspose2d(128, 256, kernel_size=(4, 4), stride=(1, 1))\n",
       "      (1): BatchNorm2d(256, eps=1e-05, momentum=0.1, affine=True, track_running_stats=True)\n",
       "      (2): ReLU(inplace=True)\n",
       "      (3): ConvTranspose2d(256, 128, kernel_size=(4, 4), stride=(2, 2), padding=(1, 1))\n",
       "      (4): BatchNorm2d(128, eps=1e-05, momentum=0.1, affine=True, track_running_stats=True)\n",
       "      (5): ReLU(inplace=True)\n",
       "      (6): ConvTranspose2d(128, 64, kernel_size=(4, 4), stride=(2, 2), padding=(1, 1))\n",
       "      (7): BatchNorm2d(64, eps=1e-05, momentum=0.1, affine=True, track_running_stats=True)\n",
       "      (8): ReLU(inplace=True)\n",
       "      (9): ConvTranspose2d(64, 32, kernel_size=(4, 4), stride=(2, 2), padding=(1, 1))\n",
       "      (10): BatchNorm2d(32, eps=1e-05, momentum=0.1, affine=True, track_running_stats=True)\n",
       "      (11): ReLU(inplace=True)\n",
       "      (12): ConvTranspose2d(32, 3, kernel_size=(4, 4), stride=(2, 2), padding=(1, 1))\n",
       "      (13): Sigmoid()\n",
       "    )\n",
       "    (pos_emb): PositionalEncoding()\n",
       "  )\n",
       ")"
      ]
     },
     "execution_count": 24,
     "metadata": {},
     "output_type": "execute_result"
    }
   ],
   "source": [
    "transformer=CustomizableTransformer(encoder=vit, decoder=decoder).to(general_configs[\"device\"])\n",
    "assert count_model_params(decoder)+count_model_params(vit)==count_model_params(transformer)\n",
    "print(f\"transformer has {count_model_params(transformer)} parameters\")\n",
    "transformer"
   ]
  },
  {
   "cell_type": "markdown",
   "metadata": {},
   "source": [
    "#### Training"
   ]
  },
  {
   "cell_type": "code",
   "execution_count": 25,
   "metadata": {},
   "outputs": [
    {
     "name": "stdout",
     "output_type": "stream",
     "text": [
      "Setting up [LPIPS] perceptual loss: trunk [alex], v[0.1], spatial [off]\n"
     ]
    },
    {
     "name": "stderr",
     "output_type": "stream",
     "text": [
      "/home/user/masroora1/VideoTracker/.venv/lib/python3.12/site-packages/torchvision/models/_utils.py:208: UserWarning: The parameter 'pretrained' is deprecated since 0.13 and may be removed in the future, please use 'weights' instead.\n",
      "  warnings.warn(\n",
      "/home/user/masroora1/VideoTracker/.venv/lib/python3.12/site-packages/torchvision/models/_utils.py:223: UserWarning: Arguments other than a weight enum or `None` for 'weights' are deprecated since 0.13 and may be removed in the future. The current behavior is equivalent to passing `weights=AlexNet_Weights.IMAGENET1K_V1`. You can also use `weights=AlexNet_Weights.DEFAULT` to get the most up-to-date weights.\n",
      "  warnings.warn(msg)\n"
     ]
    },
    {
     "name": "stdout",
     "output_type": "stream",
     "text": [
      "Loading model from: /home/user/masroora1/VideoTracker/.venv/lib/python3.12/site-packages/lpips/weights/v0.1/alex.pth\n"
     ]
    }
   ],
   "source": [
    "criterion=L1_SSIM_LPIPS_Loss5D_MemoryEfficient(l1_lambda=1.0,ssim_lambda=0.5, lpips_lambda=0.1)\n",
    "optimizer = torch.optim.Adam(transformer.parameters(), lr=general_configs[\"learning_rate\"])\n",
    "scheduler = torch.optim.lr_scheduler.MultiplicativeLR(optimizer, lr_lambda=lambda epoch: 0.95)\n",
    "TBOARD_LOGS = os.path.join(os.getcwd(), \"../tboard_logs\", \"ViT_30\")\n",
    "if not os.path.exists(TBOARD_LOGS):\n",
    "    os.makedirs(TBOARD_LOGS)\n",
    "\n",
    "shutil.rmtree(TBOARD_LOGS)\n",
    "writer = SummaryWriter(TBOARD_LOGS)"
   ]
  },
  {
   "cell_type": "code",
   "execution_count": 26,
   "metadata": {},
   "outputs": [
    {
     "name": "stdout",
     "output_type": "stream",
     "text": [
      "Started Epoch 1/60...\n",
      "  --> Running valdiation epoch\n"
     ]
    },
    {
     "ename": "RuntimeError",
     "evalue": "shape '[60, 4, 3, 128, 128]' is invalid for input of size 2949120",
     "output_type": "error",
     "traceback": [
      "\u001b[31m---------------------------------------------------------------------------\u001b[39m",
      "\u001b[31mRuntimeError\u001b[39m                              Traceback (most recent call last)",
      "\u001b[36mCell\u001b[39m\u001b[36m \u001b[39m\u001b[32mIn[26]\u001b[39m\u001b[32m, line 1\u001b[39m\n\u001b[32m----> \u001b[39m\u001b[32m1\u001b[39m train_loss, val_loss, loss_iters, valid_acc = \u001b[43mtrain_model\u001b[49m\u001b[43m(\u001b[49m\n\u001b[32m      2\u001b[39m \u001b[43m        \u001b[49m\u001b[43mmodel\u001b[49m\u001b[43m=\u001b[49m\u001b[43mtransformer\u001b[49m\u001b[43m,\u001b[49m\n\u001b[32m      3\u001b[39m \u001b[43m        \u001b[49m\u001b[43moptimizer\u001b[49m\u001b[43m=\u001b[49m\u001b[43moptimizer\u001b[49m\u001b[43m,\u001b[49m\n\u001b[32m      4\u001b[39m \u001b[43m        \u001b[49m\u001b[43mscheduler\u001b[49m\u001b[43m=\u001b[49m\u001b[43mscheduler\u001b[49m\u001b[43m,\u001b[49m\n\u001b[32m      5\u001b[39m \u001b[43m        \u001b[49m\u001b[43mcriterion\u001b[49m\u001b[43m=\u001b[49m\u001b[43mcriterion\u001b[49m\u001b[43m,\u001b[49m\n\u001b[32m      6\u001b[39m \u001b[43m        \u001b[49m\u001b[43mtrain_loader\u001b[49m\u001b[43m=\u001b[49m\u001b[43mtrain_loader\u001b[49m\u001b[43m,\u001b[49m\n\u001b[32m      7\u001b[39m \u001b[43m        \u001b[49m\u001b[43mvalid_loader\u001b[49m\u001b[43m=\u001b[49m\u001b[43mvalid_loader\u001b[49m\u001b[43m,\u001b[49m\n\u001b[32m      8\u001b[39m \u001b[43m        \u001b[49m\u001b[43mnum_epochs\u001b[49m\u001b[43m=\u001b[49m\u001b[43mgeneral_configs\u001b[49m\u001b[43m[\u001b[49m\u001b[33;43m\"\u001b[39;49m\u001b[33;43mnum_epochs\u001b[39;49m\u001b[33;43m\"\u001b[39;49m\u001b[43m]\u001b[49m\u001b[43m,\u001b[49m\n\u001b[32m      9\u001b[39m \u001b[43m        \u001b[49m\u001b[43mtboard\u001b[49m\u001b[43m=\u001b[49m\u001b[43mwriter\u001b[49m\u001b[43m,\u001b[49m\n\u001b[32m     10\u001b[39m \u001b[43m        \u001b[49m\u001b[43mtrainingmode\u001b[49m\u001b[43m=\u001b[49m\u001b[43mgeneral_configs\u001b[49m\u001b[43m[\u001b[49m\u001b[33;43m\"\u001b[39;49m\u001b[33;43mtrainingMode\u001b[39;49m\u001b[33;43m\"\u001b[39;49m\u001b[43m]\u001b[49m\u001b[43m,\u001b[49m\n\u001b[32m     11\u001b[39m \u001b[43m        \u001b[49m\u001b[43msaveImagesPerEachEpoch\u001b[49m\u001b[43m=\u001b[49m\u001b[38;5;28;43;01mTrue\u001b[39;49;00m\u001b[43m,\u001b[49m\n\u001b[32m     12\u001b[39m \u001b[43m        \u001b[49m\u001b[43meval_model_func\u001b[49m\u001b[43m=\u001b[49m\u001b[43meval_model_image_based\u001b[49m\u001b[43m,\u001b[49m\n\u001b[32m     13\u001b[39m \u001b[43m        \u001b[49m\u001b[43mtrain_epoch_func\u001b[49m\u001b[43m=\u001b[49m\u001b[43mtrain_epoch_image_based\u001b[49m\n\u001b[32m     14\u001b[39m \u001b[43m           \u001b[49m\u001b[43m)\u001b[49m\n",
      "\u001b[36mFile \u001b[39m\u001b[32m~/VideoTracker/src/utils/util.py:263\u001b[39m, in \u001b[36mtrain_model\u001b[39m\u001b[34m(model, optimizer, scheduler, criterion, train_loader, valid_loader, num_epochs, tboard, start_epoch, trainingmode, saveImagesPerEachEpoch, eval_model_func, train_epoch_func)\u001b[39m\n\u001b[32m    261\u001b[39m \u001b[38;5;28mprint\u001b[39m(\u001b[33m\"\u001b[39m\u001b[33m  --> Running valdiation epoch\u001b[39m\u001b[33m\"\u001b[39m)\n\u001b[32m    262\u001b[39m model.eval()  \u001b[38;5;66;03m# important for dropout and batch norms\u001b[39;00m\n\u001b[32m--> \u001b[39m\u001b[32m263\u001b[39m accuracy, loss = \u001b[43meval_model\u001b[49m\u001b[43m(\u001b[49m\n\u001b[32m    264\u001b[39m \u001b[43m            \u001b[49m\u001b[43mmodel\u001b[49m\u001b[43m=\u001b[49m\u001b[43mmodel\u001b[49m\u001b[43m,\u001b[49m\u001b[43m \u001b[49m\u001b[43meval_loader\u001b[49m\u001b[43m=\u001b[49m\u001b[43mvalid_loader\u001b[49m\u001b[43m,\u001b[49m\n\u001b[32m    265\u001b[39m \u001b[43m            \u001b[49m\u001b[43mcriterion\u001b[49m\u001b[43m=\u001b[49m\u001b[43mcriterion\u001b[49m\u001b[43m,\u001b[49m\u001b[43m \u001b[49m\u001b[43mdevice\u001b[49m\u001b[43m=\u001b[49m\u001b[43mdevice\u001b[49m\u001b[43m,\u001b[49m\n\u001b[32m    266\u001b[39m \u001b[43m            \u001b[49m\u001b[43mtrainingmode\u001b[49m\u001b[43m=\u001b[49m\u001b[43mtrainingmode\u001b[49m\n\u001b[32m    267\u001b[39m \u001b[43m            \u001b[49m\u001b[43m)\u001b[49m\n\u001b[32m    268\u001b[39m valid_acc.append(accuracy)\n\u001b[32m    269\u001b[39m val_loss.append(loss)\n",
      "\u001b[36mFile \u001b[39m\u001b[32m~/VideoTracker/.venv/lib/python3.12/site-packages/torch/utils/_contextlib.py:120\u001b[39m, in \u001b[36mcontext_decorator.<locals>.decorate_context\u001b[39m\u001b[34m(*args, **kwargs)\u001b[39m\n\u001b[32m    117\u001b[39m \u001b[38;5;129m@functools\u001b[39m.wraps(func)\n\u001b[32m    118\u001b[39m \u001b[38;5;28;01mdef\u001b[39;00m\u001b[38;5;250m \u001b[39m\u001b[34mdecorate_context\u001b[39m(*args, **kwargs):\n\u001b[32m    119\u001b[39m     \u001b[38;5;28;01mwith\u001b[39;00m ctx_factory():\n\u001b[32m--> \u001b[39m\u001b[32m120\u001b[39m         \u001b[38;5;28;01mreturn\u001b[39;00m \u001b[43mfunc\u001b[49m\u001b[43m(\u001b[49m\u001b[43m*\u001b[49m\u001b[43margs\u001b[49m\u001b[43m,\u001b[49m\u001b[43m \u001b[49m\u001b[43m*\u001b[49m\u001b[43m*\u001b[49m\u001b[43mkwargs\u001b[49m\u001b[43m)\u001b[49m\n",
      "\u001b[36mFile \u001b[39m\u001b[32m~/VideoTracker/src/utils/util.py:202\u001b[39m, in \u001b[36meval_model_image_based\u001b[39m\u001b[34m(model, eval_loader, criterion, device, trainingmode, saveImagesPerEachEpoch, epoch)\u001b[39m\n\u001b[32m    198\u001b[39m images = rgbs.to(device)\n\u001b[32m    200\u001b[39m \u001b[38;5;66;03m# Forward pass only to get logits/output\u001b[39;00m\n\u001b[32m--> \u001b[39m\u001b[32m202\u001b[39m recons = \u001b[43mmodel\u001b[49m\u001b[43m(\u001b[49m\u001b[43mimages\u001b[49m\u001b[43m)\u001b[49m\n\u001b[32m    204\u001b[39m loss = criterion(recons, images)\n\u001b[32m    205\u001b[39m loss_list.append(loss.item())\n",
      "\u001b[36mFile \u001b[39m\u001b[32m~/VideoTracker/.venv/lib/python3.12/site-packages/torch/nn/modules/module.py:1773\u001b[39m, in \u001b[36mModule._wrapped_call_impl\u001b[39m\u001b[34m(self, *args, **kwargs)\u001b[39m\n\u001b[32m   1771\u001b[39m     \u001b[38;5;28;01mreturn\u001b[39;00m \u001b[38;5;28mself\u001b[39m._compiled_call_impl(*args, **kwargs)  \u001b[38;5;66;03m# type: ignore[misc]\u001b[39;00m\n\u001b[32m   1772\u001b[39m \u001b[38;5;28;01melse\u001b[39;00m:\n\u001b[32m-> \u001b[39m\u001b[32m1773\u001b[39m     \u001b[38;5;28;01mreturn\u001b[39;00m \u001b[38;5;28;43mself\u001b[39;49m\u001b[43m.\u001b[49m\u001b[43m_call_impl\u001b[49m\u001b[43m(\u001b[49m\u001b[43m*\u001b[49m\u001b[43margs\u001b[49m\u001b[43m,\u001b[49m\u001b[43m \u001b[49m\u001b[43m*\u001b[49m\u001b[43m*\u001b[49m\u001b[43mkwargs\u001b[49m\u001b[43m)\u001b[49m\n",
      "\u001b[36mFile \u001b[39m\u001b[32m~/VideoTracker/.venv/lib/python3.12/site-packages/torch/nn/modules/module.py:1784\u001b[39m, in \u001b[36mModule._call_impl\u001b[39m\u001b[34m(self, *args, **kwargs)\u001b[39m\n\u001b[32m   1779\u001b[39m \u001b[38;5;66;03m# If we don't have any hooks, we want to skip the rest of the logic in\u001b[39;00m\n\u001b[32m   1780\u001b[39m \u001b[38;5;66;03m# this function, and just call forward.\u001b[39;00m\n\u001b[32m   1781\u001b[39m \u001b[38;5;28;01mif\u001b[39;00m \u001b[38;5;129;01mnot\u001b[39;00m (\u001b[38;5;28mself\u001b[39m._backward_hooks \u001b[38;5;129;01mor\u001b[39;00m \u001b[38;5;28mself\u001b[39m._backward_pre_hooks \u001b[38;5;129;01mor\u001b[39;00m \u001b[38;5;28mself\u001b[39m._forward_hooks \u001b[38;5;129;01mor\u001b[39;00m \u001b[38;5;28mself\u001b[39m._forward_pre_hooks\n\u001b[32m   1782\u001b[39m         \u001b[38;5;129;01mor\u001b[39;00m _global_backward_pre_hooks \u001b[38;5;129;01mor\u001b[39;00m _global_backward_hooks\n\u001b[32m   1783\u001b[39m         \u001b[38;5;129;01mor\u001b[39;00m _global_forward_hooks \u001b[38;5;129;01mor\u001b[39;00m _global_forward_pre_hooks):\n\u001b[32m-> \u001b[39m\u001b[32m1784\u001b[39m     \u001b[38;5;28;01mreturn\u001b[39;00m \u001b[43mforward_call\u001b[49m\u001b[43m(\u001b[49m\u001b[43m*\u001b[49m\u001b[43margs\u001b[49m\u001b[43m,\u001b[49m\u001b[43m \u001b[49m\u001b[43m*\u001b[49m\u001b[43m*\u001b[49m\u001b[43mkwargs\u001b[49m\u001b[43m)\u001b[49m\n\u001b[32m   1786\u001b[39m result = \u001b[38;5;28;01mNone\u001b[39;00m\n\u001b[32m   1787\u001b[39m called_always_called_hooks = \u001b[38;5;28mset\u001b[39m()\n",
      "\u001b[36mFile \u001b[39m\u001b[32m~/VideoTracker/src/models/transformers/CustomTransformer.py:28\u001b[39m, in \u001b[36mCustomizableTransformer.forward\u001b[39m\u001b[34m(self, x, boxes, masks)\u001b[39m\n\u001b[32m     26\u001b[39m encoded=\u001b[38;5;28mself\u001b[39m.encoder(x, boxes,masks)\n\u001b[32m     27\u001b[39m normalized=\u001b[38;5;28mself\u001b[39m.normalize(encoded)\n\u001b[32m---> \u001b[39m\u001b[32m28\u001b[39m decoded=\u001b[38;5;28mself\u001b[39m.normalize(\u001b[38;5;28;43mself\u001b[39;49m\u001b[43m.\u001b[49m\u001b[43mdecoder\u001b[49m\u001b[43m(\u001b[49m\u001b[43mnormalized\u001b[49m\u001b[43m.\u001b[49m\u001b[43munsqueeze\u001b[49m\u001b[43m(\u001b[49m\u001b[32;43m2\u001b[39;49m\u001b[43m)\u001b[49m\u001b[43m)\u001b[49m)\n\u001b[32m     29\u001b[39m \u001b[38;5;28;01mreturn\u001b[39;00m decoded\n",
      "\u001b[36mFile \u001b[39m\u001b[32m~/VideoTracker/.venv/lib/python3.12/site-packages/torch/nn/modules/module.py:1773\u001b[39m, in \u001b[36mModule._wrapped_call_impl\u001b[39m\u001b[34m(self, *args, **kwargs)\u001b[39m\n\u001b[32m   1771\u001b[39m     \u001b[38;5;28;01mreturn\u001b[39;00m \u001b[38;5;28mself\u001b[39m._compiled_call_impl(*args, **kwargs)  \u001b[38;5;66;03m# type: ignore[misc]\u001b[39;00m\n\u001b[32m   1772\u001b[39m \u001b[38;5;28;01melse\u001b[39;00m:\n\u001b[32m-> \u001b[39m\u001b[32m1773\u001b[39m     \u001b[38;5;28;01mreturn\u001b[39;00m \u001b[38;5;28;43mself\u001b[39;49m\u001b[43m.\u001b[49m\u001b[43m_call_impl\u001b[49m\u001b[43m(\u001b[49m\u001b[43m*\u001b[49m\u001b[43margs\u001b[49m\u001b[43m,\u001b[49m\u001b[43m \u001b[49m\u001b[43m*\u001b[49m\u001b[43m*\u001b[49m\u001b[43mkwargs\u001b[49m\u001b[43m)\u001b[49m\n",
      "\u001b[36mFile \u001b[39m\u001b[32m~/VideoTracker/.venv/lib/python3.12/site-packages/torch/nn/modules/module.py:1784\u001b[39m, in \u001b[36mModule._call_impl\u001b[39m\u001b[34m(self, *args, **kwargs)\u001b[39m\n\u001b[32m   1779\u001b[39m \u001b[38;5;66;03m# If we don't have any hooks, we want to skip the rest of the logic in\u001b[39;00m\n\u001b[32m   1780\u001b[39m \u001b[38;5;66;03m# this function, and just call forward.\u001b[39;00m\n\u001b[32m   1781\u001b[39m \u001b[38;5;28;01mif\u001b[39;00m \u001b[38;5;129;01mnot\u001b[39;00m (\u001b[38;5;28mself\u001b[39m._backward_hooks \u001b[38;5;129;01mor\u001b[39;00m \u001b[38;5;28mself\u001b[39m._backward_pre_hooks \u001b[38;5;129;01mor\u001b[39;00m \u001b[38;5;28mself\u001b[39m._forward_hooks \u001b[38;5;129;01mor\u001b[39;00m \u001b[38;5;28mself\u001b[39m._forward_pre_hooks\n\u001b[32m   1782\u001b[39m         \u001b[38;5;129;01mor\u001b[39;00m _global_backward_pre_hooks \u001b[38;5;129;01mor\u001b[39;00m _global_backward_hooks\n\u001b[32m   1783\u001b[39m         \u001b[38;5;129;01mor\u001b[39;00m _global_forward_hooks \u001b[38;5;129;01mor\u001b[39;00m _global_forward_pre_hooks):\n\u001b[32m-> \u001b[39m\u001b[32m1784\u001b[39m     \u001b[38;5;28;01mreturn\u001b[39;00m \u001b[43mforward_call\u001b[49m\u001b[43m(\u001b[49m\u001b[43m*\u001b[49m\u001b[43margs\u001b[49m\u001b[43m,\u001b[49m\u001b[43m \u001b[49m\u001b[43m*\u001b[49m\u001b[43m*\u001b[49m\u001b[43mkwargs\u001b[49m\u001b[43m)\u001b[49m\n\u001b[32m   1786\u001b[39m result = \u001b[38;5;28;01mNone\u001b[39;00m\n\u001b[32m   1787\u001b[39m called_always_called_hooks = \u001b[38;5;28mset\u001b[39m()\n",
      "\u001b[36mFile \u001b[39m\u001b[32m~/VideoTracker/src/models/transformers/decoders/object_level/vit_decoder.py:81\u001b[39m, in \u001b[36mViT_Decoder.forward\u001b[39m\u001b[34m(self, encoder_output)\u001b[39m\n\u001b[32m     79\u001b[39m output_decoder_blocks=output_decoder_blocks.reshape(-\u001b[32m1\u001b[39m,\u001b[38;5;28mself\u001b[39m.token_dim,\u001b[32m1\u001b[39m,\u001b[32m1\u001b[39m)\u001b[38;5;66;03m# [Batch_size * number_of_frames, token_dim, 1, 1] \u001b[39;00m\n\u001b[32m     80\u001b[39m patch_tokens = \u001b[38;5;28mself\u001b[39m.patch_projection(output_decoder_blocks)\n\u001b[32m---> \u001b[39m\u001b[32m81\u001b[39m patch_tokens=\u001b[43mpatch_tokens\u001b[49m\u001b[43m.\u001b[49m\u001b[43mreshape\u001b[49m\u001b[43m(\u001b[49m\u001b[38;5;28;43mself\u001b[39;49m\u001b[43m.\u001b[49m\u001b[43mbatch_size\u001b[49m\u001b[43m,\u001b[49m\u001b[38;5;28;43mself\u001b[39;49m\u001b[43m.\u001b[49m\u001b[43mframe_numbers\u001b[49m\u001b[43m,\u001b[49m\u001b[38;5;28;43mself\u001b[39;49m\u001b[43m.\u001b[49m\u001b[43mchannels\u001b[49m\u001b[43m,\u001b[49m\u001b[38;5;28;43mself\u001b[39;49m\u001b[43m.\u001b[49m\u001b[43mimg_height\u001b[49m\u001b[43m,\u001b[49m\u001b[38;5;28;43mself\u001b[39;49m\u001b[43m.\u001b[49m\u001b[43mimg_width\u001b[49m\u001b[43m)\u001b[49m\n\u001b[32m     82\u001b[39m \u001b[38;5;28;01mreturn\u001b[39;00m patch_tokens\n",
      "\u001b[31mRuntimeError\u001b[39m: shape '[60, 4, 3, 128, 128]' is invalid for input of size 2949120"
     ]
    }
   ],
   "source": [
    "train_loss, val_loss, loss_iters, valid_acc = train_model(\n",
    "        model=transformer,\n",
    "        optimizer=optimizer,\n",
    "        scheduler=scheduler,\n",
    "        criterion=criterion,\n",
    "        train_loader=train_loader,\n",
    "        valid_loader=valid_loader,\n",
    "        num_epochs=general_configs[\"num_epochs\"],\n",
    "        tboard=writer,\n",
    "        trainingmode=general_configs[\"trainingMode\"],\n",
    "        saveImagesPerEachEpoch=True,\n",
    "        eval_model_func=eval_model_image_based,\n",
    "        train_epoch_func=train_epoch_image_based\n",
    "           )"
   ]
  },
  {
   "cell_type": "code",
   "execution_count": null,
   "metadata": {},
   "outputs": [],
   "source": [
    "from utils.util import save_model\n",
    "stats = {\n",
    "    \"train_loss\": train_loss,\n",
    "    \"valid_loss\": val_loss,\n",
    "    \"loss_iters\": loss_iters,\n",
    "    \"valid_acc\": valid_acc\n",
    "}\n",
    "save_model(transformer, optimizer, epoch=general_configs[\"num_epochs\"], stats=stats)"
   ]
  },
  {
   "cell_type": "code",
   "execution_count": null,
   "metadata": {},
   "outputs": [],
   "source": [
    "\"\"\"\n",
    "stats = {\n",
    "    \"train_loss\": [],\n",
    "    \"valid_loss\": [],\n",
    "    \"loss_iters\": [],\n",
    "    \"valid_acc\": []\n",
    "}\n",
    "model, optimizer, epoch, stats = load_model(transformer, optimizer, savepath=\"../../checkpoints/checkpoint_epoch_60_SSIM_L1.pth\")\"\"\""
   ]
  },
  {
   "cell_type": "code",
   "execution_count": null,
   "metadata": {},
   "outputs": [],
   "source": [
    "from utils.util import visualize_progress\n",
    "\n",
    "loss_iters = stats['loss_iters']\n",
    "val_loss = stats['valid_loss']\n",
    "train_loss = stats['train_loss']\n",
    "valid_acc = stats['valid_acc']\n",
    "\n",
    "visualize_progress(loss_iters, train_loss, val_loss, valid_acc, start=0)\n",
    "plt.show()"
   ]
  },
  {
   "cell_type": "code",
   "execution_count": null,
   "metadata": {},
   "outputs": [],
   "source": [
    "test_dataset = VideoDataset_ImageBased(data_path=general_configs[\"data_path\"],\n",
    "                            split='validation',\n",
    "                            original_number_of_frames_per_video=general_configs[\"original_number_of_frames_per_video\"],\n",
    "                            selected_number_of_frames_per_video=general_configs[\"selected_number_of_frames_per_video\"],\n",
    "                            max_objects_in_scene=general_configs[\"max_objects_in_scene\"],\n",
    "                            halve_dataset=True,\n",
    "                            is_test_dataset=True,\n",
    "                            transforms=transform_composition)\n",
    "test_loader = DataLoader(dataset=test_dataset,\n",
    "                            batch_size=general_configs[\"batch_size\"],\n",
    "                            shuffle=False,\n",
    "                            drop_last=True)"
   ]
  },
  {
   "cell_type": "code",
   "execution_count": null,
   "metadata": {},
   "outputs": [],
   "source": [
    "import random\n",
    "\n",
    "\n",
    "iterator=iter(test_loader)\n",
    "coms,bboxes,masks,rgbs,flows=next(iterator)\n",
    "transformer.eval()\n",
    "with torch.no_grad():\n",
    "   recons = transformer(rgbs.to(device),masks=masks.to(device)).to('cpu')\n",
    "\n",
    "number_of_images=10\n",
    "number_of_columns=2\n",
    "video_index=random.randint(0,recons.shape[0])\n",
    "fig, ax = plt.subplots(number_of_images,number_of_columns)\n",
    "fig.set_size_inches(number_of_columns*5, number_of_images*3)\n",
    "\n",
    "for i in range (number_of_images):\n",
    "    for i in range(number_of_images):\n",
    "        ax[i,1].imshow((recons[video_index,i]*255).clamp(0, 255).permute(1,2,0).byte().numpy())\n",
    "        ax[i,1].axis(\"off\")\n",
    "        ax[i,0].imshow((rgbs[video_index,i]*255).clamp(0, 255).permute(1,2,0).byte().numpy())\n",
    "        ax[i,0].axis(\"off\")\n",
    "        if i==0:\n",
    "            ax[i,1].set_title(f\"Reconstructed Image {i+1}\")    \n",
    "            ax[i,0].set_title(f\"Original Image {i+1}\")    \n",
    "\n",
    "\n",
    "plt.tight_layout()\n",
    "plt.show()"
   ]
  }
 ],
 "metadata": {
  "kernelspec": {
   "display_name": ".venv",
   "language": "python",
   "name": "python3"
  },
  "language_info": {
   "codemirror_mode": {
    "name": "ipython",
    "version": 3
   },
   "file_extension": ".py",
   "mimetype": "text/x-python",
   "name": "python",
   "nbconvert_exporter": "python",
   "pygments_lexer": "ipython3",
   "version": "3.12.3"
  }
 },
 "nbformat": 4,
 "nbformat_minor": 2
}
