{
 "cells": [
  {
   "cell_type": "code",
   "execution_count": 1,
   "metadata": {},
   "outputs": [],
   "source": [
    "import sys\n",
    "import os\n",
    "sys.path.append(os.path.abspath(\"..\"))  # go up one level to project/\n",
    "from util import *\n",
    "from loader.Dataset import VideoDataset\n",
    "from torch.utils.data import DataLoader\n",
    "from matplotlib import pyplot as plt\n",
    "from matplotlib import patches\n",
    "%load_ext autoreload\n",
    "%autoreload 2"
   ]
  },
  {
   "cell_type": "code",
   "execution_count": null,
   "metadata": {},
   "outputs": [],
   "source": [
    "data_path='/home/nfs/inf6/data/datasets/MOVi/movi_c/'\n",
    "number_of_frames_per_video=24\n",
    "max_objects_in_scene=11\n",
    "video_dataset=VideoDataset(data_path,split='validation',number_of_frames_per_video=number_of_frames_per_video,max_objects_in_scene=max_objects_in_scene) # to load validation set\n",
    "video_loader = DataLoader(dataset=video_dataset,\n",
    "                            batch_size=60,\n",
    "                            shuffle=True)"
   ]
  },
  {
   "cell_type": "markdown",
   "metadata": {},
   "source": [
    "#### Image Extraction"
   ]
  },
  {
   "cell_type": "code",
   "execution_count": null,
   "metadata": {},
   "outputs": [],
   "source": [
    "fistVideo=True\n",
    "iterator=iter(video_loader)\n",
    "coms,bboxes,masks,rgbs,flows=next(iterator)\n",
    "print(f\"shapes: \\r\\n{coms.shape=},\\r\\n{bboxes.shape=},\\r\\n{masks.shape=},\\r\\n{rgbs.shape=},\\r\\n{flows.shape=}\\r\\n============================================\")\n"
   ]
  },
  {
   "cell_type": "code",
   "execution_count": null,
   "metadata": {},
   "outputs": [],
   "source": [
    "batch_index=4\n",
    "frame_index=6\n",
    "\n",
    "extractor=ImageExtractor()\n",
    "masked_imgs,msks=extractor.extract_masked_images(rgbs[batch_index,frame_index],masks[batch_index,frame_index],max_objects_in_scene=max_objects_in_scene)\n",
    "\n",
    "normal_rgb=(rgbs[batch_index,frame_index]-rgbs[batch_index,frame_index].min())/(rgbs[batch_index,frame_index].max()-rgbs[batch_index,frame_index].min())\n",
    "plt.figure(figsize=(3, 3))\n",
    "plt.imshow(normal_rgb.permute(1, 2, 0))\n",
    "plt.show()\n",
    "\n",
    "fig, ax = plt.subplots(masked_imgs.shape[0], 2, figsize=(4,  masked_imgs.shape[0]))  # Height scales with number of rows\n",
    "\n",
    "for idx, mi in enumerate(masked_imgs):\n",
    "    if(idx==0):\n",
    "        ax[idx,0].set_title('masked objects')\n",
    "        ax[idx,1].set_title('masks')\n",
    "    ax[idx,0].imshow((mi).clamp(0, 255).permute(1,2,0).byte().numpy())\n",
    "    ax[idx,0].axis(\"off\")\n",
    "    ax[idx,1].imshow((msks[idx]).clamp(0, 255).byte().numpy())\n",
    "    ax[idx,1].axis(\"off\")\n",
    "    \n",
    "# Adjust layout to prevent overlap and optimize spacing\n",
    "plt.tight_layout()\n",
    "\n",
    "# Optionally increase DPI for higher resolution (useful for saving or zooming)\n",
    "fig.set_dpi(150)\n",
    "\n",
    "plt.show()"
   ]
  },
  {
   "cell_type": "code",
   "execution_count": null,
   "metadata": {},
   "outputs": [],
   "source": [
    "bboxed_imgs=extractor.extract_bboxed_images(rgbs[batch_index,frame_index],bboxes[batch_index,frame_index],max_objects_in_scene=max_objects_in_scene)\n",
    "normal_rgb=(rgbs[batch_index,frame_index]-rgbs[batch_index,frame_index].min())/(rgbs[batch_index,frame_index].max()-rgbs[batch_index,frame_index].min())\n",
    "plt.figure(figsize=(3, 3))\n",
    "plt.imshow(normal_rgb.permute(1, 2, 0))\n",
    "plt.show()\n",
    "\n",
    "fig, ax = plt.subplots(bboxed_imgs.shape[0], 1, figsize=(4,  bboxed_imgs.shape[0]))  # Height scales with number of rows\n",
    "\n",
    "for idx, mi in enumerate(bboxed_imgs):\n",
    "    if(idx==0):\n",
    "        ax[idx].set_title('BBoxes')\n",
    "    ax[idx].imshow((mi).clamp(0, 255).permute(1,2,0).byte().numpy())\n",
    "    ax[idx].axis(\"off\")\n",
    "plt.tight_layout()\n",
    "fig.set_dpi(150)\n",
    "plt.show()"
   ]
  }
 ],
 "metadata": {
  "kernelspec": {
   "display_name": "venv2",
   "language": "python",
   "name": "python3"
  },
  "language_info": {
   "codemirror_mode": {
    "name": "ipython",
    "version": 3
   },
   "file_extension": ".py",
   "mimetype": "text/x-python",
   "name": "python",
   "nbconvert_exporter": "python",
   "pygments_lexer": "ipython3",
   "version": "3.12.3"
  }
 },
 "nbformat": 4,
 "nbformat_minor": 2
}
