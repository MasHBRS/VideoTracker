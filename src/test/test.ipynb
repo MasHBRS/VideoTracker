{
 "cells": [
  {
   "cell_type": "code",
   "execution_count": 32,
   "id": "3dce45a7",
   "metadata": {},
   "outputs": [
    {
     "data": {
      "text/plain": [
       "torch.Size([2816, 64])"
      ]
     },
     "execution_count": 32,
     "metadata": {},
     "output_type": "execute_result"
    }
   ],
   "source": [
    "import torch\n",
    "import torch.nn as nn\n",
    "\n",
    "class PatchProjection(nn.Module):\n",
    "    def __init__(self, in_channels, token_dim,kernel_size):\n",
    "        super().__init__()\n",
    "        self.conv_layers = nn.Sequential(\n",
    "            # First conv block\n",
    "            nn.Conv2d(3, token_dim//4, kernel_size=kernel_size,stride= kernel_size,padding=1),\n",
    "            nn.ReLU(),\n",
    "            nn.Conv2d(token_dim//4,token_dim//2 , kernel_size=kernel_size, stride=kernel_size ,padding=1),\n",
    "            nn.ReLU(),\n",
    "            nn.Conv2d(token_dim//2, (token_dim*3)//4 , kernel_size=kernel_size, stride=kernel_size ,padding=1),\n",
    "            nn.ReLU(),\n",
    "            nn.Conv2d((token_dim*3)//4,token_dim , kernel_size=kernel_size, stride=kernel_size ,padding=2),\n",
    "            nn.ReLU(),\n",
    "        )\n",
    "        \n",
    "        # Final projection to token_dim\n",
    "        #self.projection = nn.Linear(256, token_dim)\n",
    "    \n",
    "    def forward(self, x):\n",
    "        # x shape: (batch, channels, height, width)\n",
    "        features = self.conv_layers(x)  # (batch, 256, 1, 1)\n",
    "        features = features.view(features.size(0), -1)  # (batch, 256)\n",
    "        return features\n",
    "\n",
    "\n",
    "w=64\n",
    "h=64\n",
    "div=h//4\n",
    "\n",
    "batch_size, channels, img_height, img_width = 2816, 3, h, w\n",
    "token_dim = 64\n",
    "\n",
    "model = PatchProjection(channels, token_dim, kernel_size=4)\n",
    "x =torch.randn(batch_size, channels, img_height, img_width)\n",
    "\n",
    "feature_vector = model(x)  \n",
    "feature_vector.shape"
   ]
  },
  {
   "cell_type": "code",
   "execution_count": 33,
   "id": "7070a5a1",
   "metadata": {},
   "outputs": [
    {
     "name": "stdout",
     "output_type": "stream",
     "text": [
      "Input shape: torch.Size([2816, 64])\n",
      "Output shape: torch.Size([2816, 3, 64, 64])\n"
     ]
    }
   ],
   "source": [
    "unpatcher = nn.Sequential(\n",
    "            # [1, token_dim, 1, 1] -> [1, 256, 4, 4]\n",
    "            nn.ConvTranspose2d(token_dim, 256, kernel_size=4, stride=1, padding=0),\n",
    "            nn.BatchNorm2d(256),\n",
    "            nn.ReLU(True),\n",
    "            \n",
    "            # [1, 256, 4, 4] -> [1, 128, 8, 8]\n",
    "            nn.ConvTranspose2d(256, 128, kernel_size=4, stride=2, padding=1),\n",
    "            nn.BatchNorm2d(128),\n",
    "            nn.ReLU(True),\n",
    "            \n",
    "            # [1, 128, 8, 8] -> [1, 64, 16, 16]\n",
    "            nn.ConvTranspose2d(128, 64, kernel_size=4, stride=2, padding=1),\n",
    "            nn.BatchNorm2d(64),\n",
    "            nn.ReLU(True),\n",
    "            \n",
    "            # [1, 64, 16, 16] -> [1, 32, 32, 32]\n",
    "            nn.ConvTranspose2d(64, 32, kernel_size=4, stride=2, padding=1),\n",
    "            nn.BatchNorm2d(32),\n",
    "            nn.ReLU(True),\n",
    "            \n",
    "            # [1, 32, 32, 32] -> [1, channels, output_height, output_width]\n",
    "            nn.ConvTranspose2d(32, channels, kernel_size=4, stride=2, padding=1),\n",
    "            nn.Sigmoid()  # or nn.Sigmoid() depending on your data range\n",
    "        )\n",
    "    \n",
    "output = unpatcher(feature_vector.unsqueeze(2).unsqueeze(3))\n",
    "print(f\"Input shape: {feature_vector.shape}\")\n",
    "print(f\"Output shape: {output.shape}\")"
   ]
  }
 ],
 "metadata": {
  "kernelspec": {
   "display_name": ".venv",
   "language": "python",
   "name": "python3"
  },
  "language_info": {
   "codemirror_mode": {
    "name": "ipython",
    "version": 3
   },
   "file_extension": ".py",
   "mimetype": "text/x-python",
   "name": "python",
   "nbconvert_exporter": "python",
   "pygments_lexer": "ipython3",
   "version": "3.12.3"
  }
 },
 "nbformat": 4,
 "nbformat_minor": 5
}
