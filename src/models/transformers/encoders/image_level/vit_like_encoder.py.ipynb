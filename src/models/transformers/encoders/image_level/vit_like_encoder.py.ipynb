{
 "cells": [
  {
   "cell_type": "code",
   "execution_count": 6,
   "id": "ebfd3277",
   "metadata": {},
   "outputs": [
    {
     "name": "stdout",
     "output_type": "stream",
     "text": [
      "The autoreload extension is already loaded. To reload it, use:\n",
      "  %reload_ext autoreload\n"
     ]
    }
   ],
   "source": [
    "from vit_like_encoder import ViT_ImageBased\n",
    "import torch\n",
    "import torch.nn as nn\n",
    "import torch.nn.functional as F\n",
    "import torchvision\n",
    "from utils.util import count_model_params, train_epoch,eval_model,train_model\n",
    "import os\n",
    "import shutil\n",
    "from torch.utils.tensorboard import SummaryWriter\n",
    "from loader.Dataset import VideoDataset \n",
    "from torch.utils.data import DataLoader\n",
    "from loader.transforms import RGBNormalizer,Composition,CustomResize,RandomHorizontalFlip,RandomVerticalFlip,CustomColorJitter\n",
    "\n",
    "%load_ext autoreload\n",
    "%autoreload 2\n",
    "\n",
    "data_path='/home/nfs/inf6/data/datasets/MOVi/movi_c/'\n",
    "device = torch.device(\"cuda\" if torch.cuda.is_available() else \"cpu\")\n",
    "batch_size=64\n",
    "img_height=64\n",
    "img_width=64\n",
    "channels=3\n",
    "original_number_of_frames_per_video=24\n",
    "selected_number_of_frames_per_video=4\n",
    "patch_size=32"
   ]
  },
  {
   "cell_type": "code",
   "execution_count": 7,
   "id": "051f50c7",
   "metadata": {},
   "outputs": [
    {
     "name": "stdout",
     "output_type": "stream",
     "text": [
      "Shapes: >>>>>>>>>>>>>>>>> \n",
      "rgbs.shape=torch.Size([21, 4, 3, 128, 128]), \n",
      "<<<<<<<<<<<<<<<<<<\n"
     ]
    }
   ],
   "source": [
    "from loader.Dataset_image_based import VideoDataset_ImageBased\n",
    "\n",
    "\n",
    "transform_composition = Composition([\n",
    "                                        RGBNormalizer(),\n",
    "                                        CustomResize((img_height,img_width)),\n",
    "                                        RandomVerticalFlip(0.6),\n",
    "                                        RandomHorizontalFlip(0.6),\n",
    "                                        CustomColorJitter(\n",
    "                                            brightness=(0.8, 1.2),\n",
    "                                            hue=(-0.3, 0.3),\n",
    "                                            contrast=(0.6, 1.8),\n",
    "                                            saturation=(0.5, 1.5)\n",
    "                                        )\n",
    "                                    ])\n",
    "test_dataset=VideoDataset_ImageBased(data_path,\n",
    "                            split='validation',\n",
    "                            halve_dataset=True,\n",
    "                            is_test_dataset=True,\n",
    "                            #transforms=transform_composition,\n",
    "                            original_number_of_frames_per_video=original_number_of_frames_per_video,\n",
    "                            selected_number_of_frames_per_video=selected_number_of_frames_per_video)\n",
    "test_loader = torch.utils.data.DataLoader(dataset=test_dataset, \n",
    "                                            batch_size=batch_size, \n",
    "                                            shuffle=False) \n",
    "\n",
    "rgbs=next(iter(test_loader))\n",
    "print(f\"Shapes: >>>>>>>>>>>>>>>>> \\r\\n{rgbs.shape=}, \\r\\n<<<<<<<<<<<<<<<<<<\")"
   ]
  },
  {
   "cell_type": "code",
   "execution_count": 9,
   "id": "e104be22",
   "metadata": {},
   "outputs": [
    {
     "name": "stdout",
     "output_type": "stream",
     "text": [
      "ViT has 1192704 parameters\n"
     ]
    },
    {
     "data": {
      "text/plain": [
       "ViT_ImageBased(\n",
       "  (patch_projection): Sequential(\n",
       "    (0): LayerNorm((3072,), eps=1e-05, elementwise_affine=True)\n",
       "    (1): Linear(in_features=3072, out_features=128, bias=True)\n",
       "  )\n",
       "  (pos_emb): PositionalEncoding()\n",
       "  (transformer_blocks): Sequential(\n",
       "    (0): EncoderBlock(\n",
       "      (ln_att): LayerNorm((128,), eps=1e-06, elementwise_affine=True)\n",
       "      (attn): MultiHeadAttention(\n",
       "        (q): Linear(in_features=128, out_features=128, bias=True)\n",
       "        (k): Linear(in_features=128, out_features=128, bias=True)\n",
       "        (v): Linear(in_features=128, out_features=128, bias=True)\n",
       "        (out_proj): Linear(in_features=128, out_features=128, bias=True)\n",
       "      )\n",
       "      (ln_mlp): LayerNorm((128,), eps=1e-06, elementwise_affine=True)\n",
       "      (mlp): MLP(\n",
       "        (mlp): Sequential(\n",
       "          (0): Linear(in_features=128, out_features=512, bias=True)\n",
       "          (1): GELU(approximate='none')\n",
       "          (2): Linear(in_features=512, out_features=128, bias=True)\n",
       "        )\n",
       "      )\n",
       "    )\n",
       "    (1): EncoderBlock(\n",
       "      (ln_att): LayerNorm((128,), eps=1e-06, elementwise_affine=True)\n",
       "      (attn): MultiHeadAttention(\n",
       "        (q): Linear(in_features=128, out_features=128, bias=True)\n",
       "        (k): Linear(in_features=128, out_features=128, bias=True)\n",
       "        (v): Linear(in_features=128, out_features=128, bias=True)\n",
       "        (out_proj): Linear(in_features=128, out_features=128, bias=True)\n",
       "      )\n",
       "      (ln_mlp): LayerNorm((128,), eps=1e-06, elementwise_affine=True)\n",
       "      (mlp): MLP(\n",
       "        (mlp): Sequential(\n",
       "          (0): Linear(in_features=128, out_features=512, bias=True)\n",
       "          (1): GELU(approximate='none')\n",
       "          (2): Linear(in_features=512, out_features=128, bias=True)\n",
       "        )\n",
       "      )\n",
       "    )\n",
       "    (2): EncoderBlock(\n",
       "      (ln_att): LayerNorm((128,), eps=1e-06, elementwise_affine=True)\n",
       "      (attn): MultiHeadAttention(\n",
       "        (q): Linear(in_features=128, out_features=128, bias=True)\n",
       "        (k): Linear(in_features=128, out_features=128, bias=True)\n",
       "        (v): Linear(in_features=128, out_features=128, bias=True)\n",
       "        (out_proj): Linear(in_features=128, out_features=128, bias=True)\n",
       "      )\n",
       "      (ln_mlp): LayerNorm((128,), eps=1e-06, elementwise_affine=True)\n",
       "      (mlp): MLP(\n",
       "        (mlp): Sequential(\n",
       "          (0): Linear(in_features=128, out_features=512, bias=True)\n",
       "          (1): GELU(approximate='none')\n",
       "          (2): Linear(in_features=512, out_features=128, bias=True)\n",
       "        )\n",
       "      )\n",
       "    )\n",
       "    (3): EncoderBlock(\n",
       "      (ln_att): LayerNorm((128,), eps=1e-06, elementwise_affine=True)\n",
       "      (attn): MultiHeadAttention(\n",
       "        (q): Linear(in_features=128, out_features=128, bias=True)\n",
       "        (k): Linear(in_features=128, out_features=128, bias=True)\n",
       "        (v): Linear(in_features=128, out_features=128, bias=True)\n",
       "        (out_proj): Linear(in_features=128, out_features=128, bias=True)\n",
       "      )\n",
       "      (ln_mlp): LayerNorm((128,), eps=1e-06, elementwise_affine=True)\n",
       "      (mlp): MLP(\n",
       "        (mlp): Sequential(\n",
       "          (0): Linear(in_features=128, out_features=512, bias=True)\n",
       "          (1): GELU(approximate='none')\n",
       "          (2): Linear(in_features=512, out_features=128, bias=True)\n",
       "        )\n",
       "      )\n",
       "    )\n",
       "  )\n",
       ")"
      ]
     },
     "execution_count": 9,
     "metadata": {},
     "output_type": "execute_result"
    }
   ],
   "source": [
    "vit = ViT_ImageBased(\n",
    "        img_size=rgbs.shape[-2], frame_numbers=selected_number_of_frames_per_video,patch_size=patch_size, token_dim=128, attn_dim=128, num_heads=4, mlp_size=512, num_tf_layers=4).to(device)\n",
    "print(f\"ViT has {count_model_params(vit)} parameters\")\n",
    "vit"
   ]
  },
  {
   "cell_type": "code",
   "execution_count": 10,
   "id": "9f389869",
   "metadata": {},
   "outputs": [
    {
     "name": "stdout",
     "output_type": "stream",
     "text": [
      "Input Shape: torch.Size([21, 4, 3, 128, 128])\n",
      "Encoder Output Shape: torch.Size([21, 4, 128])\n",
      "Found 4 Attn Masps of shape torch.Size([84, 4, 17, 17])\n"
     ]
    }
   ],
   "source": [
    "with torch.no_grad():\n",
    "    y = vit(rgbs.to(device))\n",
    "attn_maps = vit.get_attn_mask()\n",
    "print(f\"Input Shape: {rgbs.shape}\")\n",
    "print(f\"Encoder Output Shape: {y.shape}\")\n",
    "print(f\"Found {len(attn_maps)} Attn Masps of shape {attn_maps[0].shape}\")"
   ]
  },
  {
   "cell_type": "code",
   "execution_count": null,
   "id": "8b374a4f",
   "metadata": {},
   "outputs": [],
   "source": []
  }
 ],
 "metadata": {
  "kernelspec": {
   "display_name": ".venv",
   "language": "python",
   "name": "python3"
  },
  "language_info": {
   "codemirror_mode": {
    "name": "ipython",
    "version": 3
   },
   "file_extension": ".py",
   "mimetype": "text/x-python",
   "name": "python",
   "nbconvert_exporter": "python",
   "pygments_lexer": "ipython3",
   "version": "3.12.3"
  }
 },
 "nbformat": 4,
 "nbformat_minor": 5
}
