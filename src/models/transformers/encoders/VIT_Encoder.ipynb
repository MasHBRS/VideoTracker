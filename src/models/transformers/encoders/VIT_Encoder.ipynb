{
 "cells": [
  {
   "cell_type": "code",
   "execution_count": 7,
   "metadata": {},
   "outputs": [
    {
     "name": "stdout",
     "output_type": "stream",
     "text": [
      "The autoreload extension is already loaded. To reload it, use:\n",
      "  %reload_ext autoreload\n"
     ]
    }
   ],
   "source": [
    "from vit_encoder import ViT\n",
    "import torch\n",
    "import torch.nn as nn\n",
    "import torch.nn.functional as F\n",
    "import torchvision\n",
    "from utils.util import count_model_params, train_epoch,eval_model,train_model\n",
    "import os\n",
    "import shutil\n",
    "from torch.utils.tensorboard import SummaryWriter\n",
    "from loader.Dataset import VideoDataset \n",
    "from torch.utils.data import DataLoader\n",
    "\n",
    "%load_ext autoreload\n",
    "%autoreload 2\n",
    "\n",
    "data_path='/home/nfs/inf6/data/datasets/MOVi/movi_c/'\n",
    "device = torch.device(\"cuda\" if torch.cuda.is_available() else \"cpu\")\n",
    "number_of_frames_per_video=24\n",
    "max_objects_in_scene=11\n",
    "batch_size=64\n",
    "img_height=128\n",
    "img_width=128\n",
    "channels=3"
   ]
  },
  {
   "cell_type": "code",
   "execution_count": 8,
   "metadata": {},
   "outputs": [
    {
     "name": "stdout",
     "output_type": "stream",
     "text": [
      "Data Loaded Successfully: len(self.coord_addresses)=250, len(self.mask_addresses)=250, len(self.rgb_addresses)=6000, len(self.flow_addresses)=6000\n",
      "Shapes: >>>>>>>>>>>>>>>>> \n",
      "coms.shape=torch.Size([64, 24, 11, 2]), \n",
      "bboxs.shape=torch.Size([64, 24, 11, 4]), \n",
      "masks.shape=torch.Size([64, 24, 128, 128]), \n",
      "rgbs.shape=torch.Size([64, 24, 3, 128, 128]), \n",
      "flows.shape=torch.Size([64, 24, 3, 128, 128])\n",
      "<<<<<<<<<<<<<<<<<<\n"
     ]
    }
   ],
   "source": [
    "#train_dataset=VideoDataset(data_path,split='train',number_of_frames_per_video=number_of_frames_per_video,max_objects_in_scene=max_objects_in_scene) \n",
    "#train_loader = DataLoader(dataset=train_dataset,\n",
    "#                            batch_size=batch_size,\n",
    "#                            shuffle=True)\n",
    "\n",
    "\n",
    "test_dataset=VideoDataset(data_path,split='validation',number_of_frames_per_video=number_of_frames_per_video,max_objects_in_scene=max_objects_in_scene)\n",
    "test_loader = torch.utils.data.DataLoader(dataset=test_dataset, batch_size=batch_size, shuffle=False) \n",
    "\n",
    "coms,bboxs,masks,rgbs,flows=next(iter(test_loader))\n",
    "print(f\"Shapes: >>>>>>>>>>>>>>>>> \\r\\n{coms.shape=}, \\r\\n{bboxs.shape=}, \\r\\n{masks.shape=}, \\r\\n{rgbs.shape=}, \\r\\n{flows.shape=}\\r\\n<<<<<<<<<<<<<<<<<<\")"
   ]
  },
  {
   "cell_type": "code",
   "execution_count": 11,
   "metadata": {},
   "outputs": [
    {
     "name": "stdout",
     "output_type": "stream",
     "text": [
      "ViT has 7181056 parameters\n"
     ]
    },
    {
     "data": {
      "text/plain": [
       "ViT(\n",
       "  (patch_projection): Sequential(\n",
       "    (0): LayerNorm((49152,), eps=1e-05, elementwise_affine=True)\n",
       "    (1): Linear(in_features=49152, out_features=128, bias=True)\n",
       "  )\n",
       "  (pos_emb): PositionalEncoding()\n",
       "  (encoderBlocks): Sequential(\n",
       "    (0): EncoderBlock(\n",
       "      (ln_att): LayerNorm((128,), eps=1e-06, elementwise_affine=True)\n",
       "      (attn): MultiHeadAttention(\n",
       "        (q): Linear(in_features=128, out_features=128, bias=False)\n",
       "        (k): Linear(in_features=128, out_features=128, bias=False)\n",
       "        (v): Linear(in_features=128, out_features=128, bias=False)\n",
       "        (out_proj): Linear(in_features=128, out_features=128, bias=False)\n",
       "      )\n",
       "      (ln_mlp): LayerNorm((128,), eps=1e-06, elementwise_affine=True)\n",
       "      (mlp): MLP(\n",
       "        (mlp): Sequential(\n",
       "          (0): Linear(in_features=128, out_features=512, bias=True)\n",
       "          (1): GELU(approximate='none')\n",
       "          (2): Linear(in_features=512, out_features=128, bias=True)\n",
       "        )\n",
       "      )\n",
       "    )\n",
       "    (1): EncoderBlock(\n",
       "      (ln_att): LayerNorm((128,), eps=1e-06, elementwise_affine=True)\n",
       "      (attn): MultiHeadAttention(\n",
       "        (q): Linear(in_features=128, out_features=128, bias=False)\n",
       "        (k): Linear(in_features=128, out_features=128, bias=False)\n",
       "        (v): Linear(in_features=128, out_features=128, bias=False)\n",
       "        (out_proj): Linear(in_features=128, out_features=128, bias=False)\n",
       "      )\n",
       "      (ln_mlp): LayerNorm((128,), eps=1e-06, elementwise_affine=True)\n",
       "      (mlp): MLP(\n",
       "        (mlp): Sequential(\n",
       "          (0): Linear(in_features=128, out_features=512, bias=True)\n",
       "          (1): GELU(approximate='none')\n",
       "          (2): Linear(in_features=512, out_features=128, bias=True)\n",
       "        )\n",
       "      )\n",
       "    )\n",
       "    (2): EncoderBlock(\n",
       "      (ln_att): LayerNorm((128,), eps=1e-06, elementwise_affine=True)\n",
       "      (attn): MultiHeadAttention(\n",
       "        (q): Linear(in_features=128, out_features=128, bias=False)\n",
       "        (k): Linear(in_features=128, out_features=128, bias=False)\n",
       "        (v): Linear(in_features=128, out_features=128, bias=False)\n",
       "        (out_proj): Linear(in_features=128, out_features=128, bias=False)\n",
       "      )\n",
       "      (ln_mlp): LayerNorm((128,), eps=1e-06, elementwise_affine=True)\n",
       "      (mlp): MLP(\n",
       "        (mlp): Sequential(\n",
       "          (0): Linear(in_features=128, out_features=512, bias=True)\n",
       "          (1): GELU(approximate='none')\n",
       "          (2): Linear(in_features=512, out_features=128, bias=True)\n",
       "        )\n",
       "      )\n",
       "    )\n",
       "    (3): EncoderBlock(\n",
       "      (ln_att): LayerNorm((128,), eps=1e-06, elementwise_affine=True)\n",
       "      (attn): MultiHeadAttention(\n",
       "        (q): Linear(in_features=128, out_features=128, bias=False)\n",
       "        (k): Linear(in_features=128, out_features=128, bias=False)\n",
       "        (v): Linear(in_features=128, out_features=128, bias=False)\n",
       "        (out_proj): Linear(in_features=128, out_features=128, bias=False)\n",
       "      )\n",
       "      (ln_mlp): LayerNorm((128,), eps=1e-06, elementwise_affine=True)\n",
       "      (mlp): MLP(\n",
       "        (mlp): Sequential(\n",
       "          (0): Linear(in_features=128, out_features=512, bias=True)\n",
       "          (1): GELU(approximate='none')\n",
       "          (2): Linear(in_features=512, out_features=128, bias=True)\n",
       "        )\n",
       "      )\n",
       "    )\n",
       "  )\n",
       ")"
      ]
     },
     "execution_count": 11,
     "metadata": {},
     "output_type": "execute_result"
    }
   ],
   "source": [
    "vit = ViT(\n",
    "        img_height=img_height,\n",
    "        img_width=img_width,\n",
    "        channels=channels,\n",
    "        frame_numbers=number_of_frames_per_video,\n",
    "        token_dim=128,\n",
    "        attn_dim=128,\n",
    "        num_heads=4,\n",
    "        mlp_size=512,\n",
    "        num_tf_layers=4).to(device)\n",
    "print(f\"ViT has {count_model_params(vit)} parameters\")\n",
    "vit"
   ]
  },
  {
   "cell_type": "code",
   "execution_count": 12,
   "metadata": {},
   "outputs": [
    {
     "name": "stdout",
     "output_type": "stream",
     "text": [
      "Thu Sep 25 11:41:15 2025       \n",
      "+-----------------------------------------------------------------------------------------+\n",
      "| NVIDIA-SMI 570.158.01             Driver Version: 570.158.01     CUDA Version: 12.8     |\n",
      "|-----------------------------------------+------------------------+----------------------+\n",
      "| GPU  Name                 Persistence-M | Bus-Id          Disp.A | Volatile Uncorr. ECC |\n",
      "| Fan  Temp   Perf          Pwr:Usage/Cap |           Memory-Usage | GPU-Util  Compute M. |\n",
      "|                                         |                        |               MIG M. |\n",
      "|=========================================+========================+======================|\n",
      "|   0  NVIDIA GeForce RTX 3090        Off |   00000000:01:00.0 Off |                  N/A |\n",
      "| 82%   88C    P2            324W /  350W |   23661MiB /  24576MiB |    100%      Default |\n",
      "|                                         |                        |                  N/A |\n",
      "+-----------------------------------------+------------------------+----------------------+\n",
      "                                                                                         \n",
      "+-----------------------------------------------------------------------------------------+\n",
      "| Processes:                                                                              |\n",
      "|  GPU   GI   CI              PID   Type   Process name                        GPU Memory |\n",
      "|        ID   ID                                                               Usage      |\n",
      "|=========================================================================================|\n",
      "|    0   N/A  N/A            1901      G   /usr/lib/xorg/Xorg                      167MiB |\n",
      "|    0   N/A  N/A            2065      G   /usr/bin/sddm-greeter                   113MiB |\n",
      "|    0   N/A  N/A         3400608      C   ...rseProject_2/.venv/bin/python        254MiB |\n",
      "|    0   N/A  N/A         3447205      C   07_holistic_XL_lr_1e-3_AE             12622MiB |\n",
      "|    0   N/A  N/A         3466253      C   ...VideoTracker/venv2/bin/python      10410MiB |\n",
      "+-----------------------------------------------------------------------------------------+\n"
     ]
    }
   ],
   "source": [
    "!nvidia-smi\n",
    "#!kill -9 2418075"
   ]
  },
  {
   "cell_type": "code",
   "execution_count": 13,
   "metadata": {},
   "outputs": [
    {
     "name": "stdout",
     "output_type": "stream",
     "text": [
      "Input Shape: torch.Size([64, 24, 3, 128, 128])\n",
      "Output Shape: torch.Size([64, 24, 11, 128])\n",
      "Found 4 Attn Masps of shape torch.Size([1536, 4, 11, 11])\n"
     ]
    }
   ],
   "source": [
    "with torch.no_grad():\n",
    "    y = vit(rgbs,masks=masks,max_objects_in_scene=11)\n",
    "attn_maps = vit.get_attn_mask()\n",
    "print(f\"Input Shape: {rgbs.shape}\")\n",
    "print(f\"Output Shape: {y.shape}\")\n",
    "print(f\"Found {len(attn_maps)} Attn Masps of shape {attn_maps[0].shape}\")"
   ]
  },
  {
   "cell_type": "code",
   "execution_count": 6,
   "metadata": {},
   "outputs": [],
   "source": [
    "# classification loss function\n",
    "criterion = nn.CrossEntropyLoss()\n",
    "\n",
    "# Observe that all parameters are being optimized\n",
    "optimizer = torch.optim.Adam(vit.parameters(), lr=3e-4)\n",
    "\n",
    "# Decay LR by a factor of 3 every 5 epochs\n",
    "scheduler = torch.optim.lr_scheduler.StepLR(optimizer, step_size=10, gamma=1/3)\n",
    "\n",
    "TBOARD_LOGS = os.path.join(os.getcwd(), \"tboard_logs\", \"ViT_30\")\n",
    "if not os.path.exists(TBOARD_LOGS):\n",
    "    os.makedirs(TBOARD_LOGS)\n",
    "\n",
    "shutil.rmtree(TBOARD_LOGS)\n",
    "writer = SummaryWriter(TBOARD_LOGS)"
   ]
  },
  {
   "cell_type": "code",
   "execution_count": null,
   "metadata": {},
   "outputs": [],
   "source": [
    "train_loss, val_loss, loss_iters, valid_acc = train_model(\n",
    "        model=vit,\n",
    "        optimizer=optimizer,\n",
    "        scheduler=scheduler,\n",
    "        criterion=criterion,\n",
    "        train_loader=train_loader,\n",
    "        valid_loader=test_loader,\n",
    "        num_epochs=30,\n",
    "        tboard=writer\n",
    "    )"
   ]
  },
  {
   "cell_type": "code",
   "execution_count": null,
   "metadata": {},
   "outputs": [],
   "source": []
  }
 ],
 "metadata": {
  "kernelspec": {
   "display_name": "venv2",
   "language": "python",
   "name": "python3"
  },
  "language_info": {
   "codemirror_mode": {
    "name": "ipython",
    "version": 3
   },
   "file_extension": ".py",
   "mimetype": "text/x-python",
   "name": "python",
   "nbconvert_exporter": "python",
   "pygments_lexer": "ipython3",
   "version": "3.12.3"
  }
 },
 "nbformat": 4,
 "nbformat_minor": 2
}
