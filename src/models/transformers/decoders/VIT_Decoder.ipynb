{
 "cells": [
  {
   "cell_type": "code",
   "execution_count": 1,
   "metadata": {},
   "outputs": [],
   "source": [
    "from vit_decoder import ViT_Decoder\n",
    "import torch\n",
    "import torch.nn as nn\n",
    "import torch.nn.functional as F\n",
    "import torchvision\n",
    "from utils.util import count_model_params, train_epoch,eval_model,train_model\n",
    "import os\n",
    "import shutil\n",
    "from torch.utils.tensorboard import SummaryWriter\n",
    "from loader.Dataset import VideoDataset \n",
    "from torch.utils.data import DataLoader\n",
    "\n",
    "%load_ext autoreload\n",
    "%autoreload 2\n",
    "\n",
    "data_path='/home/nfs/inf6/data/datasets/MOVi/movi_c/'\n",
    "device = torch.device(\"cuda\" if torch.cuda.is_available() else \"cpu\")\n",
    "number_of_frames_per_video=24\n",
    "max_objects_in_scene=11\n",
    "batch_size=64\n",
    "img_height=128\n",
    "img_width=128\n",
    "channels=3\n",
    "token_dim=128\n",
    "attn_dim=128\n",
    "num_heads=4\n",
    "mlp_size=512\n",
    "num_tf_layers=6\n",
    "max_objects_in_scene=11\n",
    "sample_encoder_output=torch.randn (size=(torch.Size([64, 24, 11, 128])))"
   ]
  },
  {
   "cell_type": "code",
   "execution_count": 2,
   "metadata": {},
   "outputs": [],
   "source": [
    "decoder=ViT_Decoder(batch_size=batch_size,\n",
    "    img_height=img_height,img_width=img_width,channels=channels,frame_numbers=number_of_frames_per_video, \n",
    "    token_dim=token_dim, \n",
    "    attn_dim=attn_dim, \n",
    "    num_heads=num_heads, mlp_size=mlp_size, num_tf_layers=num_tf_layers,max_objects_in_scene=max_objects_in_scene\n",
    ")"
   ]
  },
  {
   "cell_type": "code",
   "execution_count": 5,
   "metadata": {},
   "outputs": [
    {
     "data": {
      "text/plain": [
       "torch.Size([64, 24, 11, 49152])"
      ]
     },
     "execution_count": 5,
     "metadata": {},
     "output_type": "execute_result"
    }
   ],
   "source": [
    "decoder(sample_encoder_output).shape"
   ]
  }
 ],
 "metadata": {
  "kernelspec": {
   "display_name": "venv2",
   "language": "python",
   "name": "python3"
  },
  "language_info": {
   "codemirror_mode": {
    "name": "ipython",
    "version": 3
   },
   "file_extension": ".py",
   "mimetype": "text/x-python",
   "name": "python",
   "nbconvert_exporter": "python",
   "pygments_lexer": "ipython3",
   "version": "3.12.3"
  }
 },
 "nbformat": 4,
 "nbformat_minor": 2
}
