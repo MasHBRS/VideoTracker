{
 "cells": [
  {
   "cell_type": "code",
   "execution_count": 5,
   "metadata": {},
   "outputs": [
    {
     "name": "stdout",
     "output_type": "stream",
     "text": [
      "The autoreload extension is already loaded. To reload it, use:\n",
      "  %reload_ext autoreload\n"
     ]
    }
   ],
   "source": [
    "from vit_decoder import ViT_Decoder\n",
    "import torch\n",
    "import torch.nn as nn\n",
    "import torch.nn.functional as F\n",
    "import torchvision\n",
    "from utils.util import count_model_params, train_epoch,eval_model,train_model\n",
    "import os\n",
    "import shutil\n",
    "from torch.utils.tensorboard import SummaryWriter\n",
    "from loader.Dataset import VideoDataset \n",
    "from torch.utils.data import DataLoader\n",
    "\n",
    "%load_ext autoreload\n",
    "%autoreload 2\n",
    "\n",
    "data_path='/home/nfs/inf6/data/datasets/MOVi/movi_c/'\n",
    "device = torch.device(\"cuda\" if torch.cuda.is_available() else \"cpu\")\n",
    "max_objects_in_scene=11\n",
    "batch_size=64\n",
    "img_height=64\n",
    "img_width=64\n",
    "channels=3\n",
    "token_dim=128\n",
    "attn_dim=128\n",
    "num_heads=4\n",
    "mlp_size=512\n",
    "num_tf_layers=6\n",
    "max_objects_in_scene=11\n",
    "original_number_of_frames_per_video=24\n",
    "selected_number_of_frames_per_video=4\n",
    "sample_encoder_output=torch.randn (size=(torch.Size([batch_size, selected_number_of_frames_per_video, 1, token_dim]))).to(device)"
   ]
  },
  {
   "cell_type": "code",
   "execution_count": 6,
   "metadata": {},
   "outputs": [
    {
     "name": "stdout",
     "output_type": "stream",
     "text": [
      "decoder param number: 1618176\n"
     ]
    }
   ],
   "source": [
    "decoder=ViT_Decoder(batch_size=batch_size,\n",
    "    img_height=img_height,img_width=img_width,channels=channels,frame_numbers=selected_number_of_frames_per_video, \n",
    "    token_dim=token_dim, \n",
    "    attn_dim=attn_dim, \n",
    "    num_heads=num_heads, mlp_size=mlp_size, num_tf_layers=num_tf_layers,max_objects_in_scene=max_objects_in_scene,\n",
    "    device=device\n",
    ").to(device)\n",
    "from utils.util import count_model_params\n",
    "print(f\"decoder param number: {count_model_params(decoder)}\")"
   ]
  },
  {
   "cell_type": "code",
   "execution_count": 9,
   "metadata": {},
   "outputs": [
    {
     "data": {
      "text/plain": [
       "torch.Size([64, 4, 3, 64, 64])"
      ]
     },
     "execution_count": 9,
     "metadata": {},
     "output_type": "execute_result"
    }
   ],
   "source": [
    "decoded=decoder(sample_encoder_output)\n",
    "decoded.shape"
   ]
  }
 ],
 "metadata": {
  "kernelspec": {
   "display_name": ".venv",
   "language": "python",
   "name": "python3"
  },
  "language_info": {
   "codemirror_mode": {
    "name": "ipython",
    "version": 3
   },
   "file_extension": ".py",
   "mimetype": "text/x-python",
   "name": "python",
   "nbconvert_exporter": "python",
   "pygments_lexer": "ipython3",
   "version": "3.12.3"
  }
 },
 "nbformat": 4,
 "nbformat_minor": 2
}
