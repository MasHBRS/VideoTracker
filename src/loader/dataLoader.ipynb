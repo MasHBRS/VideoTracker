{
 "cells": [
  {
   "cell_type": "markdown",
   "metadata": {},
   "source": [
    "### Initial Loader Test"
   ]
  },
  {
   "cell_type": "code",
   "execution_count": 4,
   "metadata": {},
   "outputs": [
    {
     "name": "stdout",
     "output_type": "stream",
     "text": [
      "Data Loaded Successfully: len(self.coord_addresses)=250, len(self.mask_addresses)=250, len(self.rgb_addresses)=6000, len(self.flow_addresses)=6000\n"
     ]
    }
   ],
   "source": [
    "from VideoDataset import *\n",
    "from torch.utils.data import DataLoader\n",
    "from matplotlib import pyplot as plt\n",
    "path='/home/nfs/inf6/data/datasets/MOVi/movi_c/'\n",
    "#vl=VideoDataset(path,split='train') # uncomment to load training set\n",
    "video_dataset=VideoDataset(path,split='validation',max_objects_in_scene=11) # to load validation set\n",
    "video_loader = DataLoader(dataset=video_dataset,\n",
    "                            batch_size=60,\n",
    "                            shuffle=False)\n",
    "%load_ext autoreload\n",
    "%autoreload 2"
   ]
  },
  {
   "cell_type": "code",
   "execution_count": 5,
   "metadata": {},
   "outputs": [
    {
     "ename": "ValueError",
     "evalue": "too many values to unpack (expected 2)",
     "output_type": "error",
     "traceback": [
      "\u001b[31m---------------------------------------------------------------------------\u001b[39m",
      "\u001b[31mValueError\u001b[39m                                Traceback (most recent call last)",
      "\u001b[36mCell\u001b[39m\u001b[36m \u001b[39m\u001b[32mIn[5]\u001b[39m\u001b[32m, line 2\u001b[39m\n\u001b[32m      1\u001b[39m fistVideo=\u001b[38;5;28;01mTrue\u001b[39;00m\n\u001b[32m----> \u001b[39m\u001b[32m2\u001b[39m vvvv=\u001b[43mvideo_dataset\u001b[49m\u001b[43m[\u001b[49m\u001b[32;43m0\u001b[39;49m\u001b[43m]\u001b[49m\n\u001b[32m      3\u001b[39m iterator=\u001b[38;5;28miter\u001b[39m(video_loader)\n\u001b[32m      4\u001b[39m data=\u001b[38;5;28mnext\u001b[39m(iterator)\n",
      "\u001b[36mFile \u001b[39m\u001b[32m~/VideoTracker/src/loader/VideoDataset.py:32\u001b[39m, in \u001b[36mVideoDataset.__getitem__\u001b[39m\u001b[34m(self, filmIndex)\u001b[39m\n\u001b[32m     31\u001b[39m \u001b[38;5;28;01mdef\u001b[39;00m\u001b[38;5;250m \u001b[39m\u001b[34m__getitem__\u001b[39m(\u001b[38;5;28mself\u001b[39m, filmIndex):\n\u001b[32m---> \u001b[39m\u001b[32m32\u001b[39m     rgbs,flows=\u001b[38;5;28mself\u001b[39m.read_data(filmIndex)\n\u001b[32m     33\u001b[39m     \u001b[38;5;28;01mreturn\u001b[39;00m rgbs,flows\n",
      "\u001b[31mValueError\u001b[39m: too many values to unpack (expected 2)"
     ]
    }
   ],
   "source": [
    "fistVideo=True\n",
    "vvvv=video_dataset[0]\n",
    "iterator=iter(video_loader)\n",
    "data=next(iterator)\n",
    "for (coords,masks,rgbs,flows) in video_loader:\n",
    "    for i in range (coords['com'].shape[0]):   # iterate over batch size, i is video index in the batch.    \n",
    "        video_frames_data=video_dataset.video_to_frames(coords['com'][i],coords['bbox'][i], masks['masks'][i], rgbs[i], flows[i])\n",
    "        print(f\"BATCH Video number: {i+1}, read frames count: {len(video_frames_data)}\")\n",
    "        if not fistVideo:\n",
    "            continue\n",
    "        for frame_index in range(len(video_frames_data)):\n",
    "            coord,bbox,mask,rgb,flow=video_frames_data[frame_index]\n",
    "            fig, ax = plt.subplots(1, 3)\n",
    "            fig.set_size_inches(18, 5)\n",
    "            ax[0].imshow((flow).clamp(0, 255).permute(1,2,0).byte().numpy())\n",
    "            ax[0].axis(\"off\")\n",
    "            ax[0].set_title(\"flow\")\n",
    "            \n",
    "            ax[1].imshow((rgb).clamp(0, 255).permute(1,2,0).byte().numpy())\n",
    "            ax[1].axis(\"off\")\n",
    "            ax[1].set_title(\"rgb\")\n",
    "                        \n",
    "            ax[2].imshow((mask).clamp(0, 255).byte().numpy())\n",
    "            ax[2].axis(\"off\")\n",
    "            ax[2].set_title(\"mask\")\n",
    "\n",
    "            # Please keep in mind that the coord and bbox of each frame is also available here. \n",
    "\n",
    "            plt.tight_layout()\n",
    "            plt.show()\n",
    "        fistVideo=False"
   ]
  }
 ],
 "metadata": {
  "kernelspec": {
   "display_name": "venv",
   "language": "python",
   "name": "python3"
  },
  "language_info": {
   "codemirror_mode": {
    "name": "ipython",
    "version": 3
   },
   "file_extension": ".py",
   "mimetype": "text/x-python",
   "name": "python",
   "nbconvert_exporter": "python",
   "pygments_lexer": "ipython3",
   "version": "3.12.3"
  }
 },
 "nbformat": 4,
 "nbformat_minor": 2
}
