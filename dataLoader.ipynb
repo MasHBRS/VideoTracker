{
 "cells": [
  {
   "cell_type": "markdown",
   "metadata": {},
   "source": [
    "### Initial Loader Test"
   ]
  },
  {
   "cell_type": "code",
   "execution_count": null,
   "metadata": {},
   "outputs": [],
   "source": [
    "from loader.VideoDataset import *\n",
    "from torch.utils.data import DataLoader\n",
    "\n",
    "path='/home/nfs/inf6/data/datasets/MOVi/movi_c/'\n",
    "#vl=VideoDataset(path,split='train') # uncomment to load training set\n",
    "video_dataset=VideoDataset(path,split='validation') # to load validation set\n",
    "video_loader = DataLoader(dataset=video_dataset, \n",
    "                               batch_size=60)"
   ]
  },
  {
   "cell_type": "code",
   "execution_count": null,
   "metadata": {},
   "outputs": [],
   "source": [
    "for (coords,masks,rgbs,flows) in video_loader:\n",
    "    for i in range (coords['com'].shape[0]):   # iterate over batch size, i is video index in the batch.    \n",
    "        video_frames_data=video_dataset.video_to_frames(coords['com'][i],coords['bbox'][i], masks['masks'][i], rgbs[i], flows[i])\n",
    "        print(f\"BATCH Video number: {i+1}, read frames count: {len(video_frames_data)}\")\n",
    "        for frame_index in range(len(video_frames_data)):\n",
    "            coord,bbox,mask,rgb,flow=video_frames_data[frame_index]\n",
    "            "
   ]
  }
 ],
 "metadata": {
  "kernelspec": {
   "display_name": "venv",
   "language": "python",
   "name": "python3"
  },
  "language_info": {
   "codemirror_mode": {
    "name": "ipython",
    "version": 3
   },
   "file_extension": ".py",
   "mimetype": "text/x-python",
   "name": "python",
   "nbconvert_exporter": "python",
   "pygments_lexer": "ipython3",
   "version": "3.12.3"
  }
 },
 "nbformat": 4,
 "nbformat_minor": 2
}
